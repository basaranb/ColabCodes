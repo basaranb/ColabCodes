{
  "nbformat": 4,
  "nbformat_minor": 0,
  "metadata": {
    "colab": {
      "name": "excercises.ipynb",
      "version": "0.3.2",
      "provenance": [],
      "collapsed_sections": [],
      "include_colab_link": true
    },
    "kernelspec": {
      "name": "python3",
      "display_name": "Python 3"
    }
  },
  "cells": [
    {
      "cell_type": "markdown",
      "metadata": {
        "id": "view-in-github",
        "colab_type": "text"
      },
      "source": [
        "<a href=\"https://colab.research.google.com/github/basaranb/ColabCodes/blob/master/excercises.ipynb\" target=\"_parent\"><img src=\"https://colab.research.google.com/assets/colab-badge.svg\" alt=\"Open In Colab\"/></a>"
      ]
    },
    {
      "metadata": {
        "id": "sNNABolfQ6PC",
        "colab_type": "code",
        "outputId": "c9ded5a0-0c7b-45a6-9e44-de8f23f0c304",
        "colab": {
          "base_uri": "https://localhost:8080/",
          "height": 54
        }
      },
      "cell_type": "code",
      "source": [
        "cubes = [i**2 for i in range (5)]\n",
        "print (cubes)\n",
        "type (cubes)"
      ],
      "execution_count": 0,
      "outputs": [
        {
          "output_type": "stream",
          "text": [
            "[0, 1, 4, 9, 16]\n"
          ],
          "name": "stdout"
        },
        {
          "output_type": "execute_result",
          "data": {
            "text/plain": [
              "list"
            ]
          },
          "metadata": {
            "tags": []
          },
          "execution_count": 1
        }
      ]
    },
    {
      "metadata": {
        "id": "T222J1c6RQqo",
        "colab_type": "code",
        "outputId": "de917129-1b08-4869-a6bf-c10777ca0616",
        "colab": {
          "base_uri": "https://localhost:8080/",
          "height": 54
        }
      },
      "cell_type": "code",
      "source": [
        "whitegeneretor = (i**2 for i in range (5))\n",
        "print (generetor)\n",
        "type (generetor)"
      ],
      "execution_count": 0,
      "outputs": [
        {
          "output_type": "stream",
          "text": [
            "<generator object <genexpr> at 0x7f5d4950fd58>\n"
          ],
          "name": "stdout"
        },
        {
          "output_type": "execute_result",
          "data": {
            "text/plain": [
              "generator"
            ]
          },
          "metadata": {
            "tags": []
          },
          "execution_count": 2
        }
      ]
    },
    {
      "metadata": {
        "id": "Gk_GhXuZRiPG",
        "colab_type": "code",
        "outputId": "ffa09395-4b39-417a-91fe-6eb0e9ba75cd",
        "colab": {
          "base_uri": "https://localhost:8080/",
          "height": 55
        }
      },
      "cell_type": "code",
      "source": [
        "double_list = [[i,i**2] for i in range (5)]\n",
        "print (double_list)\n",
        "type(double_list)"
      ],
      "execution_count": 0,
      "outputs": [
        {
          "output_type": "stream",
          "text": [
            "[[0, 0], [1, 1], [2, 4], [3, 9], [4, 16]]\n"
          ],
          "name": "stdout"
        },
        {
          "output_type": "execute_result",
          "data": {
            "text/plain": [
              "list"
            ]
          },
          "metadata": {
            "tags": []
          },
          "execution_count": 8
        }
      ]
    },
    {
      "metadata": {
        "id": "RFCJ64yFRvbs",
        "colab_type": "code",
        "outputId": "d11888a5-9a66-4f81-cc1a-ec628527f934",
        "colab": {
          "base_uri": "https://localhost:8080/",
          "height": 54
        }
      },
      "cell_type": "code",
      "source": [
        "tuple_in_list = [(i**2,) for i in range (5)]\n",
        "print (tuple_in_list)\n",
        "type(tuple_in_list)\n",
        "type(tuple_in_list[0])"
      ],
      "execution_count": 0,
      "outputs": [
        {
          "output_type": "stream",
          "text": [
            "[(0,), (1,), (4,), (9,), (16,)]\n"
          ],
          "name": "stdout"
        },
        {
          "output_type": "execute_result",
          "data": {
            "text/plain": [
              "tuple"
            ]
          },
          "metadata": {
            "tags": []
          },
          "execution_count": 4
        }
      ]
    },
    {
      "metadata": {
        "id": "4whOrOYZSDyH",
        "colab_type": "code",
        "outputId": "ee516197-c568-4892-93fb-1317818111ca",
        "colab": {
          "base_uri": "https://localhost:8080/",
          "height": 72
        }
      },
      "cell_type": "code",
      "source": [
        "set = {i**2 for i in range (5)}\n",
        "print (set)\n",
        "type(set)\n",
        "\n",
        "set2 = {i:i**2 for i in range (5)}\n",
        "print (set2)\n",
        "type(set2)\n",
        "set2.values()\n",
        "set2.keys()"
      ],
      "execution_count": 0,
      "outputs": [
        {
          "output_type": "stream",
          "text": [
            "{0, 1, 4, 9, 16}\n",
            "{0: 0, 1: 1, 2: 4, 3: 9, 4: 16}\n"
          ],
          "name": "stdout"
        },
        {
          "output_type": "execute_result",
          "data": {
            "text/plain": [
              "dict_keys([0, 1, 2, 3, 4])"
            ]
          },
          "metadata": {
            "tags": []
          },
          "execution_count": 13
        }
      ]
    },
    {
      "metadata": {
        "id": "nRdlQqaSVcxj",
        "colab_type": "code",
        "outputId": "bc698c56-efdc-4728-b719-da3ab05a6c78",
        "colab": {
          "base_uri": "https://localhost:8080/",
          "height": 149
        }
      },
      "cell_type": "code",
      "source": [
        "alist=['AA','asd','fh','hjj','ghyj']\n",
        "blist=sorted(alist)\n",
        "clist=alist\n",
        "print(\"blist \", blist)\n",
        "print(\"alist \", alist)\n",
        "alist[3]='ggg'\n",
        "print(\"alist \", alist)\n",
        "print(\"blist \", blist)\n",
        "print(\"clist \", clist)\n",
        "blist.sort(reverse=True)  #returns none, reverses the list in place\n",
        "print(\"reverse blist \", blist)\n",
        "reverse_blist=sorted(blist, reverse = True)\n",
        "print(\"reverse blist with sorted \", reverse_blist)\n",
        "\n",
        "#check sort(key=str.lower)"
      ],
      "execution_count": 0,
      "outputs": [
        {
          "output_type": "stream",
          "text": [
            "blist  ['AA', 'asd', 'fh', 'ghyj', 'hjj']\n",
            "alist  ['AA', 'asd', 'fh', 'hjj', 'ghyj']\n",
            "alist  ['AA', 'asd', 'fh', 'ggg', 'ghyj']\n",
            "blist  ['AA', 'asd', 'fh', 'ghyj', 'hjj']\n",
            "clist  ['AA', 'asd', 'fh', 'ggg', 'ghyj']\n",
            "reverse blist  ['hjj', 'ghyj', 'fh', 'asd', 'AA']\n",
            "reverse blist with sorted  ['hjj', 'ghyj', 'fh', 'asd', 'AA']\n"
          ],
          "name": "stdout"
        }
      ]
    },
    {
      "metadata": {
        "id": "oeqnX6t7Bkes",
        "colab_type": "code",
        "outputId": "124adf7d-f6ef-49fd-ebc2-6a10eafa0b6e",
        "colab": {
          "base_uri": "https://localhost:8080/",
          "height": 35
        }
      },
      "cell_type": "code",
      "source": [
        "\"My name is %s\" %(\"Basaran\")\n",
        "\n",
        "\"My name is {s}{a}\".format(s=\"Basaran\", a=\"Badur\")\n",
        "\n",
        "\"My real name is {0}{1}\".format(\"Basaran \", \"Badur\")\n",
        "\n",
        "s=\"Basaran\"\n",
        "a=\"Badur\"\n",
        "print(\"My real name is \", s, a)"
      ],
      "execution_count": 0,
      "outputs": [
        {
          "output_type": "stream",
          "text": [
            "My real name is  Basaran Badur\n"
          ],
          "name": "stdout"
        }
      ]
    },
    {
      "metadata": {
        "id": "TRAeltdiFk_f",
        "colab_type": "code",
        "outputId": "6c9c102a-ad1a-4dd6-b93f-c4362d2197e4",
        "colab": {
          "base_uri": "https://localhost:8080/",
          "height": 219
        }
      },
      "cell_type": "code",
      "source": [
        "clue=\"\"\"kAewtloYgcFQaJNhHVGxXDiQmzjfcpYbzxlWrVcqsmUbCunkfxZWDZjUZMiGqhRRiUvGmYmvnJIHEmbT\n",
        "MUKLECKdCthezSYBpIElRnZugFAxDRtQPpyeCBgBfaRVvvguRXLvkAdLOeCKxsDUvBBCwdpMMWmuELeG\n",
        "ENihrpCLhujoBqPRDPvfzcwadMMMbkmkzCCzoTPfbRlzBqMblmxTxNniNoCufprWXxgHZpldkoLCrHJq\n",
        "vYuyJFCZtqXLhWiYzOXeglkzhVJIWmeUySGuFVmLTCyMshQtvZpPwuIbOHNoBauwvuJYCmqznOBgByPw\n",
        "TDQheAbsaMLjTmAOKmNsLziVMenFxQdATQIjItwtyCHyeMwQTNxbbLXWZnGmDqHhXnLHfEyvzxMhSXzd\n",
        "BEBaxeaPgQPttvqRvxHPEOUtIsttPDeeuGFgmDkKQcEYjuSuiGROGfYpzkQgvcCDBKrcYwHFlvPzDMEk\n",
        "MyuPxvGtgSvWgrybKOnbEGhqHUXHhnyjFwSfTfaiWtAOMBZEScsOSumwPssjCPlLbLsPIGffDLpZzMKz\n",
        "jarrjufhgxdrzywWosrblPRasvRUpZLaUbtDHGZQtvZOvHeVSTBHpitDllUljVvWrwvhpnVzeWVYhMPs\n",
        "kMVcdeHzFZxTWocGvaKhhcnozRSbWsIEhpeNfJaRjLwWCvKfTLhuVsJczIYFPCyrOJxOPkXhVuCqCUgE\n",
        "luwLBCmqPwDvUPuBRrJZhfEXHXSBvljqJVVfEGRUWRSHPeKUJCpMpIsrVMuCmDTZPcAezRnyRTJkYyXk\n",
        "oLEmjtaCsKmNOKNHygTixMKNaSifidWNbeZYYHCGMtgJiTSlzRMjzOAMuhmYwincvBydQMDPaZclRsYU\n",
        "SeEnkclzGopkBozDQfXrQqHjRvlAQsijPCsrnUawvyskbTAnjctFftReVrIBFBKiLSFGmrLSrcnZKfOU\n",
        "wnCGYaMNKNhadSGMXwBaefDrMXoNeJsUaSGlWgttAqovosuhyBWwqQLkVKnRseXaaPwrMtdWjGiVXPvd\n",
        "sxbXzJwjxAITPpPWoGOnPWcSbHFZjBizKEBUECMLUKQRvVvWgIudKQkNjJmlUoUCaAHiTKVKcIpMeltJ\n",
        "AYlVsrjBTLsWuyYwCJuJaewQSrzwXJNLAflzrZXBBEOCTtItNptaJkriIEhufpNysjJpeWbWcFqdEsiG\n",
        "feIJbjRkOfNLjKIiIqbLfYRtldJPJEdsDJrZreCQGUhiIkjPwxrQfjPvsASxJnsqHKAKMJIPuOHYzxuI\n",
        "THEobVZUgmAlVBlqvPgHEGpelbIfzYKHmAmJFlwbhQHWeSLuvPQrUWEQcLwdkalMnyLVyZiFzomxyhHX\n",
        "LhFYswiIPrhmHVHQSJFzWSGUIaKytHzUTSlwSoPkBDPYJBUhXZuNrlPKzVtNoWnKrngtEkazGaWWNlfR\n",
        "RdYbWMbtMyqlOtyNVFyovtOfTqFaMVSmkApgbyffXFgSNqKxCtrjegbSaChypYNUqcfKxYEbgSiIzEqM\n",
        "lsHiHfJOdvhwFLIGAlecFxXxLLlgkAkJehUMZLrOROOArPPhNiVfPvFPrUPqmVZslfhprVpHoyvkAiux\n",
        "hIrGesluecMjJGkvQkzYpLefAPTGcPlQngoaKzrvnlhtudzYMpKxMUEJfsxihneGfwPVeKqmaLGqIFRV\n",
        "siZNppfwZZhfbaqznpIqZRMiyhBgBLCRqqDRgqQMUknFCGZqjqWSAubRCLQZnIbKDRhJrAQeboQctKmz\n",
        "SaFlMXjNqkujGmgtsWbcfEkRWluWBzwIKlvjCMDtnpGlHKXzouovFOySfqjnjWWlOtEbpbpVtGkWzqis\n",
        "JxASqiDLkjpozYyXnkovzHFCklyKQqiJHWtxMjpvDnVEzcXggQbdryUppwiiWzxDZEGzckGXATnTLuiT\n",
        "SvcQsrZPSmbcHPQEYeXCfFDlXsJdjRhzilGllXNdlSDSOHzCWwWKePFiQeUoDBhqMtmVPbWCXshWGFWQ\n",
        "KtsoUdjOqPSjERRCtRdEpApFFwTDsZfNxVqsUTUgbjIXRJTIKHoWJZdUyQaZxrkaYHNAPvawmOgZueju\n",
        "OCkDgGhIgQvcbqTnovaINOqMvhGDQmgxgoGBZGERWeNwavCHuEqoCNfJlpgSYDWoTbkzMwDptqkTGGZm\n",
        "ghcVJXkjYIfNjLrJAjOAbXniGjnJZPfBFeICxJbgeZKEQIbmjSSMuyLWfrcqrlvNVuNplvFvpFvtwejU\n",
        "wdqCWhmhpULzdVCsphBXFOqucjQsGOwrcmQEejhZjeoqQfeShslpmMyYSPVzCwIstLoYVKceHBmRDRMT\n",
        "lHRjQtEAzRzbjHhleOalUJfwYubSoQwTQuVlLfgYLSwjzJjORHszNNXlvbASfdncJtaggrnWQayCeeHL\n",
        "hrTBclVDdZZXwnuMsxAdIitDotrUoBDnxNiHEWMFZEIBvGuaJuHlqJjZDJybDCaeeBzctgmxVTHTfyQY\n",
        "UlgTgJljKvOEAYrtmDRDNtSYephsQxCVfPIRlatlSlFMXwzysWQcogZNkOQhMASZvQlGWQEICTgYjScy\n",
        "NlJYqhjYnnOguMsqCAjwVbVCyVlwBpNRseONpIGwgKomMbvqYDYXiUpfOCWCzGCxDolcGEUVitfVkWTV\n",
        "zWFtkDsGXxIttvLoCHhNknOxAFgCmerhdDiRhAUzAdPIQaPIrLvuvJANOFydiZrlmhtySXHhIhXAlxbH\n",
        "qzrxtWBtnqVnbNYvGisPtzCEPQopkRujbkdLdjeyxKsiaZjroIDVELfFhgzaoVlHehIxQxOgxSRVxtXI\n",
        "zReYwUTXmZSvtJrCMvzcfJysWvrtniuukisYGdywIgZlmaLuuqoGSwdmRzgbxYPzPAeRZhzsNakETkdL\n",
        "qbZhzXrKPYTYiWIUvQtmADZIPwoSjsmRxxvAOEJbNjPWenKYWSmHfhHCUGOTucQzXJokqjSmHvodFDtm\n",
        "mIpCQStfDwPqIMjOWTlwpqXuEjmmguCSvZgVGpvquNLWZutrejvArhhuSistkPHPSVTLKvIPGWjLlCvA\n",
        "fBvcsqYEuGMGlyGAeikgQsVaVvFXXLTrQeKQCsqoUughmjitWfDAIltxUXBejtRaOyYcmLLPWwYPfZsj\n",
        "XxCpeINTZABaQukGKxfqeEsPajoNXojSmekpHzWlKZcCDsXilGRPBgLPDQVMXVzDPOfpmhGvboAXxmAU\n",
        "RILBSCAZefqpBhHtfQhfezJOXObJYIQuuAYFlXmaiGcXtocQEgzpinPkhcGcTiCHEmTtBlDDRBGZoCCp\n",
        "FOuGAcaQxuQeDMTCmGEHYorVyShXbaaSzIBPXqpnvwBWGIjzhEYjMDblEeMwGwpIwAvruynPjmqyVFKy\n",
        "ZjLlFysrtkTPIYFlpynOIwGiMIKoUSqCcGEcwaXwUbEtdnMAuzGttGPouVICmFfuCeYMRBbjVitmMkfV\n",
        "KflCTKRUkxWsKEJcZZuZQmcjMXNJEZLezgYsEuqqSLEMupAhvWpmYWbIeCbSleuPmGkZXeZYPjHrAsAN\n",
        "LbrdsOoRxhHFcqeMyVlZRdozVMxSMbyIfmJJaALSmwepuIBJCCEatpNtRfhHifPCDpHIVYFVnnJVhoJe\n",
        "FxWTjgAQHAYXLsUFTTluNZJKFgvUAnbRNxlBPZVAwlEjGVkziQbVBnOCXxhFzIfTklsasbzfdqiwtoqS\n",
        "TpwRJGdzSyCblVGYpizzyjUvKMkCVKzIKJGpxxsgLBFXaYKGdgrtTuRGAgruwGfNEnDCyranIXHrSUsn\n",
        "IgMWlWMldVJuLZmfYAhwSjxNIvqjGhdMvHIkDCTWyXYzqnJZPbAfLEINtNziVKnQLIbRBlvWowovBiYA\n",
        "UkRxoOfInqnFgyaOlwmIcICMCmibsrdSNNWzBFXPQGZfZQdoRgfeCsBRPOpuNWFjBubpYgbJuCgIOWeN\n",
        "aYCFUuHoeJsEvoBARbcUhpwlUhWLNyXkxaVcyiTAWttuYVTgjmOtnoGIFSfWuUKXNVdEJmrTmdHUfGPp\n",
        "xrsHmhwDSyvRmXQVfsNoPQcwXWdFhwERobmxIWJxVbMBhthqCSeczJaGTVdFRcXrkiyTvbRVOLtyjVHc\n",
        "coLphpcuewozwclNhREKjylWqEwVYmJNcmmTejtkfKtgUxfGDNyJFxJQiFYdLkySUVIhHyQScHjjIjig\n",
        "XgpphuwefbcAOAKpzwbDNvSXCAtdMlpQsrWybYMRsIvEKmBHqpVWHraJctgLRiUJHzEtjcCuICPTHMXM\n",
        "DQUnEmKcGjBYtKugzrYHLtaoBQQZwoYZcYWyCUxVfhJkCFVYBxuyavphlxNIBjihfYyUkQQGMzKqtnny\n",
        "GdqIQNlQSLidbDlqpdhoRbHrrUAgyhMgkZKYVhQuIACQpKjhmXbQCkrssyUHaKXgvNNMpadUjfnJYuWu\n",
        "dEBRzHBwNOtDRouBFUHGNuzQwDISBpkCEgLTVYEFbkUSPIiSzAtRrFUhmJHijAACBuUJTMLyxXmsBqEC\n",
        "oSajBqlTrwxIUVaeaqgCIMlkshLDBDtODUmyyCCJfFJyDECvwGaSaGiJNMFpLdCebTEGZCZBkZtVOyzT\n",
        "CVSNKKxefhhODBddsbpeaKvyTmLuSNacOEGCYpLLoLVpdgVfYnfFKwsHiDkEgupQDLnVwIBfJywHulIM\n",
        "TkyIeBMAZclTtQHcKFppcJLnsSUSqQlpcbjaUTjfjGrdbFmqBeCxGEfBOGhRgWItKDeyndwLrcMolNTH\n",
        "XAjTqUlUCSnAYQEPkBByKZfebtjOLAwLQAUqyKWupUPkDTnrbBRScmGqrqNjTdmalHjyRapBHlcbFaEE\n",
        "jKdWXcTKRlqILDBNBPrwsuFptJKxSFdztEPjPghGZnlKhmIrvltPWEDCmJOoXIjmUNlamPbqUeVwfMUV\n",
        "eihLfSTbezbaRSSGbpWlZwPTJKKSOkIaxJAaCzFSDzWOlMNWwwCrqRBfkZubvvNiAYEQfWFigTxPbOkw\n",
        "GqqvQguicNCYmKdnxWqWOuhphbHEzzSmWdftLboUZaXMuITrcQgxuRsLdoAtYVJrqKMEseqDmVQsrmWc\n",
        "dQbKxSwcHyDRgpVPPIMoBkGWzTbZxHMxxNYvudYNueXxAhiAjxwjdXzKrGzitppKeQWJxBnCThVheOdD\n",
        "DHzbbEOmruVvPDBCRovHfYTgAXiCjEmRHQhyIhBJdgoWzJSgQAuPDOeJUcxBavVRrclzFCRLbkeCbDAx\n",
        "nKDZsHQJGxtKyQHEhneFbUKVKVIHkHvZXYdEHGHMHeIijduUQxdCBunPLXGlhgRmIvlniLlyLsKrUgpd\n",
        "QpEvCIHToMPGIhNhcQUxXRqzLLNUATnsHquUDhXqgvwrHgqYrHLdTDQnxDyoEinZNtTmSoseNrrzmCtS\n",
        "JKVxDizekLuHBjXaeYFitpthjQTZZkZYepsYwXvKpUgSGCCGOBKreneLKzhuVGimMFUvDzGShlXZvpKx\n",
        "uuXcAtqdzsJedRKIrsSNsKuAGnFuhthNIsWpzoCHIdgWxZBQwhyflaLPiSrZfDBUKAzcmOUQFfVTUmpx\n",
        "VFUmqjivdLUQUVANaXjATmMzNDaVNjAsmVBNTbxVFGYFspIRpfUCRplmHkXQKRlguhjrCPaMWjpAkkPH\n",
        "VTjPqipizICoBcXpuaFlIkJuIyYUfINKmWrwPMXgoZUbANizGYCRdTRrCxaZqUwVFgPGDnpjRqPxVNvz\n",
        "BLTwTpYnDoRGbFpVVpPnlkIlDmayqDiCDuYGWfOoNtUcPYlahTqpuKeAgKGbOApnjNUOyNUzWabUvMcR\n",
        "RXmhLrpOFfqRVVQotuVKLuIiZeIRzHuprqSNKZOWrdsDpzQpgsYUvNypUlatDynACJxDfHoagkWeHYRA\n",
        "OdHIZdjjMnfMcWOeazWwYktAhvJQSXzOvVBVXIANnJzRgMGZxzpZkQGuZzPolAPNsDsHpyjmFlKnmMxj\n",
        "OMDgqLpYTMFmlRsKYqRyUHXHCKmknKTWJTRWXDfEZqBHnBHcQaDseMoUjONIarxTWJwZPfVPEkhQZylK\n",
        "sIkVuORXFsIvtaPuJUuGwFsyhZHpHWWTvenoaPYfwwFqTYhcYcsjaHliyIotgstirQurQJLyMcwEliIk\n",
        "EUBkywIQmZLNURadZzPuWEKucvTNConMvILAQekRhmwlnVTbeGqZGEqOqSnJvqxXIzsDOJfcENBdxRkk\n",
        "mkMFlxpLfDgwiwjFaeJKLaApQLNalgytHcyrVtXRGbNVKCWiWAtiZKkShJbJwEAyEfUYySCGvdigKokL\n",
        "KgBKMyFFbikGyZioXmFpxbAeFUxijcsFrgxkEzgbLRYiYTJRvQgGqsEaEHLADBVyOXpbVzliNKmxWawY\n",
        "DVlFmZCtmWCDJUEKtSNvSAotvLewsIgeVDDuwPMuNUWBgdHcPiNMkWFXAyUyMQcmoMiJHoRjsDWFXaDD\n",
        "beojPtAJrNYwLKUZUUSdOZzFXQiElQfVGNWbyktFQifQQbxPCAQwPFNBGNBqQTCZiNCEKJObmydljteL\n",
        "WvTDLoliSxlWPkUjjXYGMUtZGzEeYmrbwrsTlpJBkXQYYqxVuqmZUUObeKFmneYetSoJVbhNFIvmpbCK\n",
        "lkYkezlwPgFbznfFmbWOULkAQxmZalZTHFmilYHFGMBYlsZDtosNLiOjzHRnDTiDgnHkrOUOZHerijvp\n",
        "obzAyAKNnpXIESqgRYGXmfVtynXTWbNdgOaeZPDOdOXViaSLZqovrEcSHRXORjWFTaCmicmOHCPpNMqI\n",
        "OnHHRLYqWldlHGukaSwhRQkzmejyojEwtdkQMVmixNoyyCmmNYRRObZULDHGDLspyPZJLrSYzPmZjkSM\n",
        "IZqsubbQbfVIisfCsSOcrAFCoNzOThldUYgJdOHcqBqAyGduwZEFqvYtERSwgRuJjiuCWssoZaimEYAT\n",
        "cfFtkYjJRkxAMvEszJExvWFAILMMdjJxxmwzTHfUQuWsoGHrgTJuKPdfPVGmnTjqluacJCNXHcorguCi\n",
        "tenwLpXRhuqVRKkNlfkRCqtrjOLDelTrahLykzupZKFxlQRxpfarfVTZBjMEgYBMGhFlroPIGsjzNedi\n",
        "sMQcyrjEIgSCZScrjiJXOYyhXvesWGwNCvpOaYMIxEAhvbekfticnzAbGDcziZezOCTJVylmpdVNdvEy\n",
        "szxLXwMTcrIILLvIkmiakUHSSpgLPObdnzWCJhAryAARMuEzlHVrnrpTfoUJnWjUWDXzQOPRLXEzcZee\n",
        "cxVPDEPHYgtqPyIRuRcnijpVkgtFmBdOAthuEUudwcaUfwVwSHpJSZFVLHGsDZTiiJnIwGVsYWYbjLWo\n",
        "AEWddUfyPmZogFGJhRHvjKLfRldtmwNIhEZsAplmmxikduMmtlKnjWiAaBmtbJMbcLHYSiWamYgvMRQy\n",
        "CqoXZMIILUAlVaUyuGAREVNzEAghlynWJBmqOcUnDuZhYfsxzbjnFrhvzPHduZUuWDgLLAzNpNilcGzE\n",
        "AetfaazIagalKIHlQmCYioXsvGExmLaZlodiGTWXtSQrweXIwAkVmuadLdThbqtZCkChIjZEGQzdkIAz\n",
        "GCPMBftSlYlWksieHzihvgBXMOShthHOidwlGMzqoxrCzPxiEHcWDfKTrzWixSWRbtVWyPxbCqNeiGCX\n",
        "ooJJemWODeyhlAIKuRJjMcEPhhkDbSNpudalaMDKFSqztExZkMqzvqGDjUyOBGzXhJeqUnHbeorXzJfQ\n",
        "qkEnQubCNqnzFtmnoqRxIBWpySeuFGHiXduwTbvqNsCUKAaxIxindTmLIcKPwhXeroiKmwAjxcyaldhU\n",
        "hmPfnvrslckfdgenYNWMjuzawptMJFXXUXbKpCboIUkyNZCDXeFZbtlexJULmBfpNDjdoMXThWARAUKV\n",
        "xaUxEjKNBUXkttDUxfvWGqyfznxUsTVAVGWtcdngzeQtkZFHFSPWNkaTdiouHQtDsgBFqXzXqKTQlaqI\n",
        "DwOFWPHFhdhbSeYjoMskpGLjgoTehJlPSVWfOVIvwUztfoMZtdZwTNrrGxqbWsoAjZNvmBikxFklTOeK\n",
        "LjMdiBwwVQqGtKMDACxInfGbGnZkvyUXiwliPofSclCIPzbFvQHAsfxfxueGkjVUjEerTYLrLnxcsfig\n",
        "RIyQGzpnUATABTuyfZFPLibeldXzDkiXZBgcfcuPBGTuSJfOYLRNzgdNpVNiCoQMkSoViQFKFXUplSyr\n",
        "EDkgHtzcePuQoqhDBgLvXaexKKHCCaNjOEVCuuHHolkYAZiGvoyeQnwvsscLQjigUekgqQVLzmEWUcIG\n",
        "azXXgdnLUYyudqsGTSXUrANUrfAtLQeTqPgRgRXVDpcNtNrIrUTrllYIJIZIvoDQnEMhkMikvHNfcWSM\n",
        "kkjwzDqTAHsftRnDxXpGMjMdtGHoxusVkIRaTLLrkvugDBmqoWcMcemcNwgyDVwQrUkqItVHNrPoMyyU\n",
        "ZQhLNworxfWlDzhOkrrMeeYLcUGcYjSSvgRtMvVgGyJFQMTbPFZJIpmFwNCWEHkTGdSxflSLSetMLbPu\n",
        "sbfQuAzDXGIlRQOwfFMhmuXIVKstDvKCCqLRGNqsxcYjiZGrLKMXDmxroqwBJaSwhxFYPJAmaMcZCNup\n",
        "RmDOjSVyXoaOBSVPCzSdgfPmJGklmbLYIQAgTRKraWdPViXnPUCkHUaMryMwLvLQSWnfGFjIkZPwHpev\n",
        "redOKzPsrYCeaJLKVdpyxcuhfQLxiWdLwQlxJDLvqmwjNFuzTFfEefDmVRGYFerEwHbDtxCHQQcJiPSV\n",
        "NTvkqLSDftWuKBRbYmTpRMwTMzxhFmAuxbmIvWjwyDbDAONFghYsZftVauOvrmlgdJUvjNXJFMQCXEuW\n",
        "voDQoSXdrdpZDLfbVXskEoLzaQSpuBfCTDpyrumNcjbkFDVbzayyUcQkdAIhwcPRDpfQkHWwJWWfBgRj\n",
        "yikgYCmELeZGphaAVwzUayZwqbzvGThNUNMSrkYVrIemmMLhsIKGcpKEiyzPTgrZQoGNKsEgOTrKlbUC\n",
        "HSkPZjxqjsfUPYsYXGUFvOObfbRHhiRnedwCyCkigTLYdnTIjWiOdlOfXFgxTIqWwkgAIaPLxcHuQsRq\n",
        "LpLwzVrqKmCiilpkvkcxKeufRZciwencGgImsMTpIdxiVuwaMxgvZlXiEcPlIzrKWChmrQCHLghnCUND\n",
        "kfAwjUfkkYBpydDIcTAegVTcwfYNOJwBYpviSJyzrdLHGuNRwuvoBObmhyZDgtYksOChSMUXRDSDbLUG\n",
        "jeiqwiTUrKGxMobqMQBcWuDLqwynSgWaPSflZmqyqABmESOJSKWhqEmSMJniqhPHCmTuLruVHADodqnv\n",
        "noEKzdtovEQLGXQOySOMrLyURHUdbOMZcrJdyJJgbHQzRUiKHRtoydBJudFZiyFCypQolrIaVuNaMiIb\n",
        "vejGfNTtQVyheIZNyariSyKbjYtbcdKgEDSBtEHqPGjEVRdheDQYtuFMmdsILGOuqVMuYxVdZfXxwdHx\n",
        "RVCuSckGFUhIrbubeOKkKtTNzxUvedDdETOpzJofUZpQmhcAcaIYTIlgTUmxEBElCdhdinpPOrzbIuXB\n",
        "JqvVywZdxJnhfExkkxiDTExXmuPSLTVGQMYwseqXuhZBlXSFdGKijhGbqJbPWDFxDaQqPzefZPZKgFYv\n",
        "BEaPoHgPQfwDxZeJdmhgzKiwgiYZKiqpyuPHTIcclDUuZkgslsrJwHoAiwaElQBWBUULqAosjBBvWIRl\n",
        "nYkYaycsSARutBqhZQZxsAUiTSeeFgAmKcRxjWweoOkwwVszQMXeeGffviuFtgVpBGGyHevSLyjPICXK\n",
        "TfTOOTYNRWmzgeXjLLOLdUQSshAZAESaDJIxcExEsIAgKpjCbOsbtGzLRajPZImwrrGDRWsaymUVZEtC\n",
        "sZvmggRScwSTumcJNmTwOzLchzqaqTMtmQalZdWIfTmbZdIZCyhrVTLYGDVLnKNwhGINmwEradkOAnGM\n",
        "AtqikrfpKgBcIeZeapqaEslIRGoJPtGebMpUItTHUhTyxLTcqHiDJmRmLNVjEFLZpoqApPuBkAgUsvUh\n",
        "QyCLHEBWKSnfJPEucAtmqbuRGZCETTqSoCpJbxNBrqZecFaQiVPHtySbxVmwQLqBOsFCIQgMRzjnfIls\n",
        "FJaCDNyXWNNWBlYBtrtPpOhMArvikRFGjekKrFjtdcarbwUsdfbgomoVevZDFCzgdavVUthzbkgInBXF\n",
        "ixGvzBzgDEHidSRHSIhgDCPJqzmHTqcUkhhkRNSEXtFEiztfMjdOpWrZYAzJPdiYToxDGczUCrRvNala\n",
        "SaRqOFEwUrQVjwJkwKrbbezoIypvvlGRGmgLykBhrQfwQjFlvPVOLTCoXSgGMYTsrjgSomAtFyMZWUEp\n",
        "EFaPCMsDBafhhyeuUKEgXHRERsboOiGAhnVTaghwSAFjnDMivhKkkrBFNdLjwpOcNzzIEzZUWvXeTysT\n",
        "WXULuSZpRXYBxrtoSPhMepELZWNICqDmCjZbOlabMbFGaDvTwDAPQVQHbitxZvjxXOBKCkmtfvaSeNnS\n",
        "bkzQEhxWqilWFZJKVXhcovchQXrvAaevLwMFqJVkWzWiEDznczHrpAtDhFPMPpOKsdfZImjXThlnEWZZ\n",
        "KZxOqyXMvLUbXrLTnUWpoMmRjYXDVVDOTHFNCcVOVPeyWLIbUNIKgwwAyjnzoYjRlgjMupjCVAgjRpSZ\n",
        "MsiECRbsQxJdeSDHxUdYiGkCvsZtywukCLoaFagyBaKVnHyuRsqihBBYaGnHRvFhTHjFTJCkCzxpcIEY\n",
        "jibOfyCIrfypFAWdIjgvvXfzsbemxLXWEzgpHvVJLHdhRXJOHYJjwUFObjYrQagrDQZJYhliMeWQMLlA\n",
        "PVwwxOAaukSDfaBDByUBxVqbvGyJYzlfvwWtplMgMhYLukioxpicGTGWIwYgqtVnNgJPXUYEyvgFxDCe\n",
        "mbVpvpxahLFlrZqGgKDNjDZfOhIOEQIFDfYEgMOMEWfqZwJsMZibCOrkYUvTUMtmrkDnEuZoiemxLEQr\n",
        "pgXLhIGsDXJyQgAoFfwAYhZvRyZvSCseHOcjuUXrDyHJUDDJuHikRwOteofczKADHeJnvjUNKWJFKOTS\n",
        "wGSBYXSDjVKVXcIEMkLfFkzDPdERjpdTZIlcAUqKfrljEhheDjtWtPhxPKQdwNCNStrQKpBcduNctzdI\n",
        "DmbpzSAwjxkjUpWwkrNBJoMDxMrwCTqNkRlaFtslqFPebkDBbzXPASGwZRWmqCkNLzoGCikObCHfiFjX\n",
        "aamTRByoYHoUVkYHNrriVTARhKsSxKXYRgBKHAIjelNtUBlDIQJcZrZydPhtDrscEQqzSKcyGuhgVqGk\n",
        "jqiwnaodmUuAZHeiYOjuZjtVLLizuhhWpdMRImfqsWbgaWFOHVdVrBQNFRtuaomOWnystCFYPYmLnEFw\n",
        "TxfgnLEAwnFbtgERhXrVCUkRysKSNidrYbukMRAhQuvRxhUfwicQamYmPIvPABUgWAFfPJtFGdIfXGMB\n",
        "xWgHJcHtyXTWtAIWXWmxKOdwaXVNyEQinVndzxtJiKgtxPSZzvWxnkFFQkOpxtPwsmhINrTuQBYdwpet\n",
        "qwGsJZAobNrLUnVMOCOwRgQtFXfvQVOBsifMoKBNciBMvpdorQutElOsIeaByGCiNAmrrjZtxlcjnHYU\n",
        "duwblnoWDoREeimDNltOUcYuIephxkHFadPsNSOAybJWrlWRkuBGVFlGcVFCdXSpxaYncbRyqpVCrKwV\n",
        "VgLlUwwqzcXwGDpncbyEvcgPeGqaBwfPQegAGxEXHFjPJdRxuANbvwQoMaSUomOtNzunJwleUmUiGNRt\n",
        "gXcuznYWPisavbywBTDiqSHNYOObaOCIDKELdJFJUmQLGemjFgTvSdfXMNHLOIRQrlvPSzhGOJXmXMkh\n",
        "ShJIKXfKWMwgdTSnGNByaNJKvgJpzxCYowGRiEGoruXiUKyXtIZsNmDqYVBlRttksVKeauzGlPQufJao\n",
        "ZVCjITMBlzrKGwrbHKalmhbpcXbFoMHUNRAwxWqVJhSAzNuUeLZlFmWVoDpVCvMIJmZUqNtvfjUKaBIA\n",
        "pnhnoxvgsxYoGiNXsZaGleJolaiMttVWmkKFnrxMXtDlYQVPetNrTAFQXhwEhtSLUikWuGjGgxMQJnmd\n",
        "gKLtwyOFznUPXKaZErAzkGxvzHLOEbQrvmDCvCkISxvpMKaMOPPmGotBPamwmamGoNjNQPAEIBZeXBbM\n",
        "KPcphRoxMwYKdqcoFgZGMBatkbopUhWuqsyJtLIVEFWZstACEzAExVKBrLMvHPGOhbUulaCoMBjxcECo\n",
        "rhkXLLGrJGbiAQYTzBmWeNlhbgjqjhGNfCFqkqXZhfWNPJkwccXThqPQZeKCAALxRiRcXCaUurcXFgXS\n",
        "xUksVTZAWsBjqEEaIJEQWPOhTxXYICwEevvSAHSHYhLbbTZYnVegsnPfKlzYbcETlMxHvaobhkfgZpAC\n",
        "mpCPQSaAqNxODDvXpmatZimnoTDiTBzUvAJsnmjQlVrgcVRKqLiTBLufkIikMYADdaAmlHTzsYfTptvx\n",
        "ivTpXStEBDDbUMzYhZuKXnpHkGnMAkNiwYoUozrFKkqMtgIgoFQvtYitWZyyzGmQEwczyPBcNnFtWIVc\n",
        "drwqHwrGVfxaotCzklCQytcHwScKUcCDxvzwXDBpQjvJJJwgpjCFjAhbWPAkeuPjADlVszqmhvICfAxO\n",
        "pTVSdihIonXuKNlItdVovVeTdDjQUYmegUfVwQvvLiBNITJSBjZQugPYoqNDrYvnPFqbPSdgeFdEUYPN\n",
        "tWAByhFvczFngjVlkyfVIfGctUNmWKNsvAYGwtscyuDquGZRNBjTjwHHthPuRqZYvlrCSngluqnYnCVH\n",
        "ApHcEfEVdFQqmNXnchaYcaFUeMaXdRdBDMMRhYtgPHEAoCAQGjrflNempcAzkjVDKMMUvcAAsTHhtyoa\n",
        "MrXryGtuzPwNALIDXkAxPzlnEdumfyyFoEpVpPxPOPqRfdXUcuMnPEklqscrUaURGIBcRDeFWSQwaQyW\n",
        "oYzTwbyRkYYKeLcVGhYTjxfgsjlzrpYcejXiMCNJCBLlcgLXXBWjboZiCCcOzQEShdOgJiUppMmXcPWr\n",
        "MwFyzECocuxUThLXWCeIeCLwJCqhQHRVWrGElvmzYPHOGcrZnqNCTbbfCKJSIKFDkCYvADrIQUcXDtNZ\n",
        "IgiScZnkrGasaabpdRTSSBoLXgvydvWhJIeMwuDsQGKMZCiSWfZUhMHVqRzWjVQjkSvVcZXenHPxLJEA\n",
        "WdUszbPlgBpEFIllWUYLSSrCFzRaxnDdmeKMafRJObKINEhXNQNCTNqdJrZgwaiBLPnJEnfaCBeFedLr\n",
        "UKeKgVgKjMJGHOgPKtDtJuVHSNSKBcIAFuCrpbTeWWXLmTNJjQtSJYWcPFbYkdiLOSGKGXqJrecyCRyN\n",
        "XYCLLsQIaQBswfBqeRdweHIUXphdGutvfSRpJYBHJJRgdHyTRQHOxJsTNxDVvoHUKWDESaqlFKXsFUjp\n",
        "YswynCEwuuJxeWCQyqJlgzCsPoPzZzNrXSHSvYSxYiBPWZSxTOxSSfmaVwaHiJbQqPqxKYDxEIzXRwMK\n",
        "OXpSwUmsJWxOgJpWINZGjhDVzavHaKrZQXHBSMQQfyRUSSqxaCBSkaCfTgkIMiHUfGRVqitkhbtxeNXT\n",
        "NFWXdDNMsfOKIVBGAhcNRCfdgXRqNBgFBjFDHdkCfmgGIisQRdpBJiSdnEovouHCclqSlxtrxLXiTAuP\n",
        "iwKdflSSFFpTVmRrnUXnGhRlFXRUDqdTVXBzbVKTNkUPzgesQIFlGTvDHrCOPyPBniEjzMeFzhAgjDme\n",
        "kpbAGoXMrUTnNzFcuAatWfAfnREdgDCgbwoowdEhxSyMjDgtcrrQrUyOHsaLqlUOHwqJubbypbNeMaWB\n",
        "shONFhkqHaJjBhqJYMUCYVDlHSJUUdSwzVSMftLcswQTgdrlILUmwgxPXCJtyrkTxiIMnrpMCdTjpbWG\n",
        "VKXCskRIpnstSOIPZzTFMRVVFXnmYCgZBhqSENxVgZSiPoEtvOvVoaIcEVBEMxBOJVBEBsXKmDViExkT\n",
        "nIdHxvBOfbHewLetJhpcKucAcIBxdUtNsQpGRPWBHwXZtPkkNYmTelapZlnqubIuzLdyrGmJtvohZOzq\n",
        "knuzmGoLoLWXoevZhnqUGYTTFDlfwthkaWcnDdFePxCHzxzQeFAydEwbtScanupNEgrcvJHEaTDUDKot\n",
        "xfAmPalpawdjaWJcrdBbLzovievkqoWfwQOEIWfedXxmwheYzHMhrLLZNXwFiJwSMwFsRfLoWoaJZdWO\n",
        "ExEeFWCVtdZdHATKEojblqrBRkTiozrhkqWDHtCzKbKWqovUSSfZwADhbRweEcYJwefQrLIpnBpPkEbD\n",
        "WvblUKqMzQYDUehEhdKmUyztQwYVsQLPIaSbSVLqrbriclOBFBPZSmWuVzXeHBUuNyTyjqaBCLsvposN\n",
        "ZgQSBxHOeqhJOVQjHOEIIgnTXFMogPRubgGCoAXUbeWOwsKhzwErZFlRhVyekmqVikDmHhoqthHtfPwJ\n",
        "cyFEiqsvjIqXhnsfdlgrGLRKSSnToQPigyYLDinSwBcWjPZOEIxxTVHNshimQdDkFJlEjRCvpaXeLpAo\n",
        "AUOSNHPfsqyMvBShSMJTmtjOenUyqIJItAwnajNxQlXvQTmFCASXbzGTdXXbDwZAqaFYSZtVimjYDJSv\n",
        "eIrjOaMNefCkdbnRppdketixIDyfucQDAseDPfiMrDWDgHtTjcaVshntQCEkycELLQvuPFtzNcozMhEe\n",
        "tTCSVOGWzgQNXfVEsArjPqYSIruIHpxFDSdOowanKuAjGWyIEMWWLLjyoakBEQXSWGcmtjhkfimMUmdT\n",
        "aObOONOlFuULDuofFbzwrJuukkCDTSvTPRMaovdcgILDADJgmabOVixkUzHDlCfpYTWPVBKdCvAXZrLc\n",
        "rerMOoHerwRQzHSsKaJYfRUiFrDnhlSKbbVvCNzKTeLpnrYKqBhJmIcLxYpzymwQXWbaiLIvqYfwokkq\n",
        "TVgZUHUfpkuPqEigSClUvLpQhFKjyZFeUSJlttPHmwOSSZdbuRhGYYqPeyVQnRBqMyvxTBsYPyZAbgIX\n",
        "OcHTytvWyKVEAROTmhOqsqVxkNsqJUGWlazLNaPqjHZbdyiAGUONrxmEacqsvGSlGwfuupJRpTOgnxPW\n",
        "wrYebQZiwCoHcqWWCyKfOExPmKEmIELCJWEuZqrBZhGrJiyMzhjcwJEgAFocJQXKTqtYWAYIHrgHnNKb\n",
        "cZoExqHxUzeOEKiVEYjRkeiQyLXLRUAiPPviwCyNaOzenFIkNDxKMcKanMNLNVrYociOBCVoqQPgsrpT\n",
        "OuEIVIrNDpDaYKYmZPxzTBFnvvJcsddsMqNufmMjlgmBezLzIYAbcxjGzteysqbKEjrNyZsmtAjRpZwx\n",
        "VaBzxBBlwUPqqFFGjrsCMmgLleONXsYRbUuhjilpjWnGmWBOIPyezGfykdVoqXwYogobBuSYiOKAlygl\n",
        "PpZhzLPVBbpjuoVnFiixHTsLpDzOtXvicTuCWvZTZKEEIGQUVAxfnLWCQvRjTZhtkaKlbNQgXgPxXCbB\n",
        "qhsBlDzDvfsMDPkWdEqetzqLGTbcMEVfyGNkcuryLRALrnFacZUGFDKlZFnpabuBJfRFnKgPFfQcoXdV\n",
        "aMPEEYLanBwCorIgVHAGkoByfeKKSKrmHNftXxppyQkRuPlYnuCxVUIOtZAUfYmeVHqkayoJntuwIdSq\n",
        "JqNaXkkEzlRAAzYmIhyjysMhdmiWoZYbCNjfKTabKHAVPoZuuwGHXJHTwNwHxVthJGIBllCAAEWMwgEY\n",
        "ZXhBMIVxpBFPVsOHxngupQyzmjeugBPJEeEMIUkJXYrpxstDMuRijoaXHuLIrxYFICrlrZUdnCdNDzsL\n",
        "uUWxtCMGOEFWESlvsvRmWUZJGjgdeNORVzuThEkxgeubvkuIHoGwIhEbRKzvoOuIejNYfbtWRRhXIhyE\n",
        "bjhCRhmwiJwxsrtOgJoeLkehKVyJgcjAkcVQLlkJzFjrurajmrbqtoNYCfbdpHWDcPDFKkeNEEuDdzSi\n",
        "pmBFiayrFfYoKQElCPlZZGukmHmBWaQqFpNqXOrHddEgjUeDLBkhhYDjHASqNqmCMymxqzIdEdySmfJk\n",
        "BOsnxuaOLJHIHridyuJlyrvPBguFxHaQtRCmKiviTrOPvqBcbkQvYtFzXgIBdRMIeOiJOPGybPBCocgE\n",
        "CnctEvlfNKaFxddrEQsDDHSSlQPdTwynNrxYdCEHZDvuSernrcpFHHwqdnAWxIYQynKJOppbuadbtQjJ\n",
        "ckoBSzOalnZoAgnfkcxvQpFWaBMqaTOMsEOepUUDLTNRKYKnolBFJSGbnzdaDUKwKOdPfjMzAxVArQtT\n",
        "CjZrcUhtaEnnPHbtyqQKnJoilIINLujpMbfPkAgiQnbwkdROzgHYGjalACeiysIipZPhKMqYYUDDfuIv\n",
        "WTLpFySWHkfOFzbLnBsgNYxUtXRdxOIDBWMAjqkEwLBbghrFRLUPQQghKCUmqWPAlkpzInJQJtpbSIVz\n",
        "DlWOcKqqKkndFjrCeMolygMcTwegfAEBYPfMoCxWlYqpxUBmczVBCNJTsLnjzsJTRiDVwMBvZKqfCwwZ\n",
        "MYkyslcYRrWuKehFUHxRNeeZlHeRXjcnhlvfAUKpDBjeaWkFmVJlinyeoUkXdhYJCiIdxlklxGjUnTqB\n",
        "rmNyXvqRyeXfFGqguhDSgZNHKGNyEmDcSbVDOMtSsimWCZagSEdcteWRKSSHPMLnqJToSlPAyREhXYpd\n",
        "BKKYrwBRObhoZchLfAysiMtSejuBChwiLUWWFdYjwbGMpFGjjfOFlJZTlogPaCqpFlHYUHQvYlnMtdwT\n",
        "kyCEQCswnBZQCgQSBDIZsHVvpoSnvNTrfyiDaDVEYlDHtfaxiuAvuNcvbokSRdehmmVxknxJfgMXiVCy\n",
        "IbaLpmJjarPKfRTuqQIgSDhaNgAFjVSBpCiBOyffiZSPofczKprLNsEZKSvLhAkfzkUXXIdGgIUZVtVL\n",
        "qTwQZeUSzVQRmyYEsmzpoDNGCCObvSzfnOWKiHlTagCLjVfjSmOWniRTSpERUEfgXxxlqHdYiKaLHWZB\n",
        "wpUBQMWPvddmtKQaHJvydcKLLzQYnmaRxaoUERtLttDvLfcaLVKRkWJMxbHsEOurAdJsypyIDEGBcCAG\n",
        "NnfFTkxrwNtZoSMwcxSbsuNVRikDVitQjHNBThTNlVpgRJgGUzHEThEPvBvpEktiNenTDxSpPaJCkVjB\n",
        "CIwnAeiTfINZpSIpwbAUCfOxQhuMDyOFlyyeFsjtzAvWJMtTyCXstQSrqQMHOjHwlojyoWehOhIWLsTa\n",
        "kymFrtrWWYCAzeFmQUExAuRxPEhOHIrsnGmJhDclYaZhUZQedsDjgvVSuPhHdkkksRMeaowOVKADMlKm\n",
        "ofXKBFkQRwtpbFJSXWfEZEMmAysgnXmkaqGjSrUjUIYaNAxsTknAXGxgpUfozlXEbgZwUylGrOFuttIv\n",
        "WKbtXPirrhQUTnwYtcDQYLwPVtYtgCHzASWzuVfzkNzaLaGjbFrsBsYUXcolElMsbnLlMFVxzbQmSYdQ\n",
        "DHfPrcyRouzZYyPssmDngVCqVUtqoNcoXzFAyVJFHGQJArtTINAXAtecplVSJwVPYUViwJFgNBqvModI\n",
        "mkAZPHfkTZCoQqoCEQakqeqXyymBJvCcKFTjICipyYwloOZNMSTTxQGzSonzVOADPFEpDxuElRwdHkeK\n",
        "MgfcNZwMNXbngNVFaXiqTHlkDFWqZxmXiJtqNCDtoMenlzZcQTPZKDZwOGkTpbkyRjIQvhCrIYvrbWOS\n",
        "LWqPNKcjbwxTmRyrtQZhWLXqloHYHSuecSPgLZbbNVBWSGCFFhHrSrjlXAZKqIHWKGUpcdlrIQDNFkXf\n",
        "BBVJEUeUtQpkcrdglscTOXildskXnahYssJSuzDEwoQmvSFBGMifhgPKlmdQJCfmPFkUhNJLQRWqghHB\n",
        "xFcKRWkJfIQMaUsadnOSBXnoTXwIfvWmOhjvnZXuUoqdCPWVIsnaHwCFvMJKDwHebLtPdBjZUIQqEzTa\n",
        "nEuyPmaFgTolmcnRsmMIfoKJQrXgxGQHaVsbhCdoQlQnEHiqioCzaqtydzdKWGZSfbUrQWLbSuMnsTqW\n",
        "ydzdWWVYHNsxzoidjcfOGcYDLyRQayQUzcrdzTsQdfMogLEzLkHEhTGjWkPKGFwkvjEbvhjURhEhMidw\n",
        "PFZcQxQOqPgzUreVRFrrkeUWzLFNhbeBSRNeswTlPdxGPUObBDZYyHyGQwxUFWasdvRdMlwkInrvXsHK\n",
        "coWFHGMNCjtSZJjnbCuxCLFUCuhZmvuUCzAfvDlycyiJEULgxmSBiXdaCkvdLvVtRGsWmukktTWAfpNW\n",
        "QCBRQIuMSlXMkwTNAwpTHtyDaebUCyIeLaQmemvvdZglCvOydQyVdvDQBGTPvPUOqqHpoEZleIArTNFX\n",
        "RgMGzPgYUPXGkQDZlhtSNLoZJJAmhJRPeNvzyjdTRsLdrfDuAepKYepXcPihtPECUtiNQrSJdOsSGbzA\n",
        "BGWIxMXaSjzzDzVqkHVbibAisltfssoTuJmUdJPeUENFVMveroIieCsLkCnvGGzUdEuKOAKiHxQYEwyP\n",
        "oioOJjRbnDMonbshoFsNaPdxXlwsBQLrFlrWIRKfLdbszIlBEkqgdATekdEixvLuBdHknwazptgQLxxB\n",
        "evFCAEiFTLFxDUSSLEfsDCBTjyLLasGkbxyvoIRGUEqZPeNcCagzIQzcbVbDbtpgXslVhiZOSxQCtBlf\n",
        "ABLesWbOkrUOGoaqRwjdlgBupkXwRoZXrxbgKIfrfBmdXjDWZjuOHLozjlFeiJrZnAqcAeVfBWxLKbRp\n",
        "jSoIBhATDmplQugGuYQVtVqNlAjBINViaWxckAbLkjHRnNXTuetAmFyZCcaXpEZLBxtXWQRkJRyCCmKE\n",
        "PpgBElXvuusgWfrHQUeFcVtbuAxSepfIVlXXxcDEtaVzYWydOCqnGPpOzNZoGGUEDAFtwbIFVnJsGnfy\n",
        "fnTMBWoQyaWQfFQqptnXpJfJvIsbQwKEdFlxCTBunShAHuWbnqTLPihrielsbybdYeaYubxJsJyAUfqp\n",
        "qudvUckmprXlJqAcJjUmwqALWMxhzKYlHrRqPuTdrbsoeFfJeFQaWFmszfKXCtrosDePvsPdVCQYLJZt\n",
        "GykwDMYjRiRNpMRwGSARgQvLYONgKsuCWYPHMWbWdMnCYCVAKEhTFwIfscmbwsTaxsQIPAKUdHUkGntD\n",
        "FbvqwWtzJbSlAbUlTVPJehiCRwqgqujWFMIZeoTHMKZGCeJLbjBBocuRrQWvaJZWrWgkyYrqPNfDSMXv\n",
        "mXFIeHWGPyaKTtnuEhKAEaIqwVFlMyhxpLoNxYsNIuvAimZDHSHVtBAduDGBzyoJPtxAZixLYRKAPIkL\n",
        "zDpjlKDCIvyLyLyNedBhAGduQNZKntNgxLUHiElQzKcqwGpvmhzxKkagautPQdmlFDvzdrEDtWPzPADr\n",
        "nNPJpXeXDeLGkjSDpGcvMeaWAWdLqkKEMHKuhXdvSNEyxbbSmgHHFfUelKYQpnUKCRWPMueBoNoWYQaK\n",
        "jtUtlBYbXzZbmcMROYzMctrNzNIPYnqtmwWEwKGDTYxwsPdYWFrxinGMVtPCGIfDEpjswmwOGvtTIGtb\n",
        "AFcHFrIYNpXMBTRWrnkqVOYlxdlykHBhXTTfwkEgAUxYTjNkZhHUYOtOaAxXpOapsglsbNsaaVrRTBIh\n",
        "VfkfiPnikQiMyvtchWXlpqKvHdHFfzQPaEahhzDbnZykVIjgGDQpbplzmaSjHgMaprAtaIKturuVBsvY\n",
        "aEKURXCujyLDaBlzHIHTrtHbFUZViUEXKhgvJCfOHZBbDCjIgxkXomvXUHTbUbcSTVGWAVytlETfErMv\n",
        "ItwBzzQDKiKKTFIlFEZgZjfTMaxOTSlkjRyzwRWFRTJHYuwLBuAiDLflUJHsTiFdSfDbLmdImCeiOiqK\n",
        "CebCXyndXIEAsHhMmNvUaxjCbzdkqQhHSWTQUKGRdwEePIVvGdpoxRmXDuKONPAOUefQGmKwOHTLjVWB\n",
        "gqapSEdFZpKDJfeDcbAsXXsthvzCKKLoIWwPvNiHxoJHHSdOdJEFYCaBIWIoIhDJlZfDtgQYKxOwnFvK\n",
        "oAItxJIVwhyLexXmXUqrOYskMwYRpdtxNkZAmKUEUrrXHYGCQLcdiPGYVhjHWuCTwIwoYXjIuTmwuYmh\n",
        "BzyzVTaCqEAAqibouxrHnJAudAAgVJYxwaZADnMCZqTiPwMrMKThramDajoDliFFxZSVlgLLZOZRUvJL\n",
        "BCuVrBIfdGuAevbTDmjVPSHhjLUovAwMsDJocZaQSuPnnKzUjYTJidbhzcsqhaTWyGzEUKyZzSfRVmes\n",
        "dSHqRRVRxMlpvENmlotlQjTeSdFRbzqCUkxEGdwOCVgKQiSMfedafoHVQhqqiwsLLkSPPJMykVrewtrv\n",
        "yIRxGfyEQuVCNawJlaFfPkDMkQAWWrIrxkkEawYzezZdQuHPJTTVPAEGPMYxvjqtjGDIgAtNHtrKHMGO\n",
        "byLBmGeSgoNiTrYYjZTOkmfAsRKwAGSoWfYyWOvsQbWwHPzyaHIxbpcgEREYAvUSHUGTVqDVSqJpqRSH\n",
        "VkToHGidcmPLnCXXYgZzNsptZMchnaABxAmMvDBtGGFyfkJZahmMgJKsBGpjevwpMkMIYYPATfrqIhIb\n",
        "pvvfbUXwQhzoZxrjqvrXocQbnUuKgzjnufrSfsYYYUUPspWXtFHtQVRtcQENGAtEtNYZOmlFKspXdiIH\n",
        "NBEyfTtLtKaLrCWOSLetLgWLQOlOaooWGBKAvlHbGyMBUVwmVzDxwjFMjrsnGXqxqiecWlNykPEsdXHw\n",
        "vARXORqGmAAfUwxMKcmsgcbWllzfgSQuEeZJUTPGwnsQWmFLIhZKgURkcIHfwyBBrAbIcqMQywmlHIzf\n",
        "UPHlxrWVFdcbcXSACjSmNCzIYqInTBcIvFbjJWePPvlFlzGBMGUuVykltYuwrWKusMMFFqAggZAmxLVM\n",
        "RiTLyYMDaMbaqGryLVRJIneLDMgXEabLZzCWqScbrNbCQytUuXngihlmXEvnfXMnIZDJocTpLVxJHMSg\n",
        "mcTbaSIvGdRPiFbmfPodhhnjLcuPtzWoQWhDuBGWODlbEjQhBaEDhSfLvwfskZEcjHTFDLjSMMVOqtyC\n",
        "eBhxyoGgXHFrtuAeSfvGwofQGaYMTjeNdwEQROfXSeMppntqEzfHOyAYwzpfWkjPtDWHLFOTrMfDIwRh\n",
        "nqczBQGCkmKNMELQcRuiaNCkyexIcRKdpZnGVUZKKEcKXzTUMnptpOltRFaKPZBFNEDjFZVPWwCCyxYq\n",
        "zWFozudJphWfyitiEJFmdQZObBWfbvwNDBWgVANAfKprhpLDxGpVGqVeLxSzZMegsTRZqjgsUkBQnuCc\n",
        "aodEAzGbytDbNSHFelncfsGORqcIDdpoBjHQFGaJvWljCrYaOERqZiCNvuJwSwjgHzlucUZdZCjbvbzR\n",
        "DiDJIJrihgKKYjUkeLbUIxtlXyTNISgwGBQQrRpaZojKdgDYHkCjUYvHqwYaxPOcsBkXuxyTcXxQWOXV\n",
        "tPQaCxRulVMLWkMUklZLWfIcokRzCqYfjPFLAaqLDJRRHxDhQcghDZBpubUaxeqDfZAPHjkFbsNcVjRe\n",
        "VCOHhyZUQTikaOgcDRCRUEJbwEZNiVmlVPdnONZGGVRrZVkYJqmVWWgqBfackacKscdQVfcAZJGVSyro\n",
        "gDXAFNBUtKHLRNvwhmwDhsWXcdSYkFnDXgVHeOBdZLgwRbgQVCmtoYnQzqwVgUjzHDsvpXooUyfIMiPw\n",
        "YmysIfIEweWJxniRNsKFhxiqHLvLYeDiaoQbIcIHlNXPNnSckAmNpyWjBIiwFpCvvFnfCBbprBuvuMJY\n",
        "kSwasPyyIIcJcAqnTuZqwkABmbmdwlvdEyodyUQMGcYHYDYiXCplALPjARaPOKzGtrRkDKGmpnIzIVBX\n",
        "ZtFYQalbufXohcEgNugMeCgaRfqHshDAXGqlllKJbOcwgkFZllfDdFosytEeAilqQUGqOebexdRGTqJh\n",
        "GghElmZsdLyTWNlqvgaFRYzgHuUnQTeiQYOQXFpLMMdcNGUOZVaDyHfxgGzfyuVsBufICpTqHVOmMxVJ\n",
        "xdtltabNCOujEycLtiKdbdsfXCbXUBLPSjKtsBltwcaOyRJACPZMDxAihkROmexEJDenUTTmkhxjLGKc\n",
        "MCSRvRcaGYDLymKzADvpMNonCHrzxUKJCXpVSsLKlnduRBGvuyrjeemEwNXIDeDXsRFCXPAbHLjPKKKA\n",
        "tlsmDvkPuxmIPiaUfGGZEMKOUVRzCixtcZkhISXjIxjRCiKEAXiXugEkEmZSLUaXXKeeJKEdFJWQSzgb\n",
        "qGDJVjkPnxMenroKtdNhHnZFlSpmaUsfUJuayiofDzFTvgxszJJbiCCgilhtXUPDBHruFKmKsmJearYX\n",
        "IEmCPvFsogLQBFhutMhhbYDTdFmcjrxMmfRphlmvTxdNpwFouBskObnWTSxnPWJnhBRvjvRdrkYSGCUX\n",
        "MympZGIzmOoQOPmOkFuXWoWTEAJjHZyVmVSOOBeUjQGHVlldMumXIicYAVwmvIwbrScWfWEkAScmElnA\n",
        "nJKAIhBZyHWMVWVYRzImgMFAnIaLBmlthKllzcxqGinKZnqwjQlRQexCcAgGhPtwOjuigvHPrUiigiiN\n",
        "McUUSPFcoQLIeZZaOHkfuHYUZGSoQpbsYhhpSwnzsHJnvcJuJSVpLgmrnanXBHIypNqiAOkVMFZRpTDk\n",
        "EpvlzZKfQkvSNogmopzwowtIZipNGXnPQnKBblCkaZeXCbfByFmisPxjqISoimVyntCULdsHxoxPDHWX\n",
        "zAXYyRbnqoeFdwuClEnyyXGipqzWjmzcmoqxgHvmSBOKevKXNLzSDxRymZFBiGdWegTpZHAwOmDnnJLM\n",
        "lbiHxMqkSnCKYiyLzvffMSAzNtJIegsRYrgFupCeyezMUJGaBTvKvrrpqYUGooCdSVeAYNBoksQAafgD\n",
        "eRczFXLjftYRJmGpPaqBkPyZxeftOIXzqCxIyILvkPPxcUazpktehkgpucTAriFpHBelkKiCxHhuiFYe\n",
        "htDPQEpdaAHnKWJutWDuTBjTvIMDIZrWyZUFUQKmtcdlCPIuuCgxYThHhefYempGsryVSoevZXZFVHiH\n",
        "LrWaQHmlRBrJyIOIEdyhanEWspfizFlCcmyziGmfRvSjBZtoJbxHIasbabBsfrOmlcDurpkTmBOMBvRc\n",
        "xRnxxysHpyOSlYGfONixMlHREjmoGqtJCOscGVJZegPkFNakLTkZyMQmgNjfoPDTbuEYgXOCjhPxVMHx\n",
        "wKenJdmMwttaqOLhlNuLOhMNeSQAWGqTfeAUwLrhJbUlJKbCVxlKgDtmfllgtNnFgDOYupXfgIehTRxq\n",
        "BZVHuDrSPRLjJDNXEZDTyRuHdlWjGJSioQRIQSPGjrSwvDaLeGJjeeCknvIObCWBHTDsvddwESblbYlr\n",
        "ajzXxGtWusxtqGldzuPktaCuzZWVkYpGWdNaKshVDLyiBqcwFVUVWkQDHIEMMwioKCkfncsoxRiAAsKr\n",
        "HqrGWikhYNHVnHFgVETojFiCAiXuFGVCWqwqoUFYZKiIrTKqkKUSXPvGmhKQfAVltFrJzkuYwmFLSxwp\n",
        "WGnatKradVKJrWsSgvzrjRWPhXjwiWnemBzxMOrfXJIHXqLfzidPeAwwtDBhxeVvSRNObnadjcSZqtxd\n",
        "rvnWPWVpTePmzuRnpqKsyBtOSwGNtUVRCgxRZFiNbNWjBrHRybcAJXzQnXVmBruJcqukaUXWCTTbiLWj\n",
        "oYaghMJbILirjdEKfuhWvdnjCHyMucvyeiFWpyqMzZqcjXkWnCYlLbknibHgkLRSCQraLmlKKtFQSLBE\n",
        "RamducRBSiyxvagREWOYkhajmYhmNNSQQKhLJchqHiDeVHmIEpeELNhffDrijNQWLgNEGPxwqYAERMDL\n",
        "uAETFcxKoGJPKcMELCbPPPblFHCgmCWSZXxxhubslaKRzbGNOLfBNfcfWsEWFRIqduaGNAhptdTMNerh\n",
        "EmSMyAjBSEbwQILZCZTvsiEdQAoPmBVhRAXwaZlqEDymjtuRvzllxMNwzTDMslgqnXfhwFFmqHYbbDPv\n",
        "nGKmaFNSrwbukcCxykPUtkehCVwzOejgFalfLurrenvDTRRtIixVHIJRqydUjykMegTIxHYBMznwCECD\n",
        "iMosgBcQMQrrCHoZmPSuogrDyNzjaIjFhHpiIFfhEvHFxTnYgMOnjeFKDobPzHRbJgHttVEZZytPpAly\n",
        "NFtTshLEfvOJsXmccZxEiWXstbTGkNbjdClladdKwuDbeZKrjTTwPqxfNTPkBnrFFOrXNcipgRtEyfcc\n",
        "cFeymBJmljXAPPZYnTtWkbKLMvXUptrChFzIIipBUHdLtQDprqjFikfNGtKlJncDsuxqvKpUkdOuldIO\n",
        "DPjXQcDuavqKLzdKRODZHXRAomoQYIDgmAqpsabRqwYzWSTwCIpTBEXCUWABKWFwdDsmFhbeeZrAOYOm\n",
        "RJBIFHsZMmvUmQJyABevhJMOAQlLBDOjqqbzBeAuulobucnIJAAuKPQdhFtWgpemMufedKYMNcqnXsOG\n",
        "MeZnwiUTFEGswSzhSooxkAPYWBVbBrzgQHmAeDHAgIUzPrQSzzhUoavELRxadAnfSKKbqxsJAkXqhLHE\n",
        "JhfdFpIUVrZbbGNyOQvCyMareDcoAuyKvwZwBgFwdWdgISeGoSEjbTKgslphXdCgZYoKJRGnHQaRWiAo\n",
        "jZrRYUqwaOxvyWtwuTrtIYJfQxqOAqSRlKmIXRJfrbqjEuAOTmrjcKEqhEICDiKMheHqWStLhvvxXtIN\n",
        "cjruyqNOTTGHmUOzMwVyLvrZemQnEeTPklgPHsEZbEHPoZntcPONEnpphbWOoFtEehRHMbqngyvzHPeL\n",
        "BCzjFWzkuQslJwpySgSCQFKUVsBUitjZAZYFODtFfUlnLfeOAFGSKRtmEhtfSCZlAyGxmEsEoeNBHCQR\n",
        "lWylbJXXjiNuuITGPBKBtuWXKhOxzCScgcMmndAccGAyoBNJscNgKNHaHKYXTRmSfGgHLtvZFXkHoyhg\n",
        "ZaxeAfsEyBjnoqESAsCsnniXyAEYzFEtStqAxBPdXEzLgyQgOsFlnOlKRGMCsKUrMohUTqlaGsDuDOvz\n",
        "mImcUmxuaCQKKrchwRLlVOkZOcDAYQKxyzinZqeYRSBSxnHjoaKcKTCpmlCtpoCLTSYiNYKjnvpmtSUs\n",
        "TWTfELsPZvYfnNWLBdknXyZykebCESJhoXdWdvKUutbeTwYWHJinpEGnvslSURQTwwCWoCJFoyfDLshy\n",
        "wZxvIuMPINgiVXoaoKPiuCGNjlYJgfrBKpAJCeqNIGsAujIyTmFmBrMYJUdHVAwaSgBbLjSNylBrUiZC\n",
        "xPuvLwFSOFSQHesBIjhGNARjxiMEZEgIGBKgGoQqpGMOhiflhlduOueYcVotksOXmzUjLRyQoeSBIbUW\n",
        "unHnvdvbGHYAuZPFhyJGAZIMOlIZsIERQHFnxsJtpYZiZLvTnifEpZpDbjLvRTHTmACEDkSeTJpNPIEG\n",
        "mZcQZYJGSScwpBgTODtKXmLaAguWYSrnNuPceTyggWebhqkEKThkAIpOOyFIzuKiCTZgPmzTasoBPdtK\n",
        "bIxwDdateIPvTClZlYxcQEHFaACrVCdAOlUjHEZqkmxRmbwTaCPjeBJfkzEIqqOdQYnKoKSZqzWjGscY\n",
        "gJYWxGggGKFcjfdRdTNspAbgRfDhmpGlYnBGjncslXvnKKJinsXFuxcvjfjrtpZkXwBpXoCAmcMMeWgT\n",
        "fcjWCUYTYphUKGzdCDiUAWeuZoDiXOCcuLBspagGbNlOLAyillWIclOuUIttvucUmkYpEysuoDRHgSbi\n",
        "jScvFngvPJKZigDwbtHtHaNuIOmMQAPHCDdCbZjhOnlDoOLDrjtVanadGCbgIuPQUBBLVszGcfvGKrQC\n",
        "MHlXFKZymdydvxrRoOdGZFzmFcesHZVWpDhfDfwEZfdPoibcdubWjhIglXEayrXAPmEYcLZOcaAVyOQm\n",
        "IkjPeAMKTcZVQtyLKYZdJQSruYFCgowDaNMwjWFxpIUSzdxNQaTSIIwjaWMMbodogqFTDDGsIBJZfJLc\n",
        "VcLGrDJleVQfyxfvTeXUPJAaMilfehxanbAuLCWtOZbBASbpsgnUIgfLfvnTxucBkyJpmQRapNWvVArk\n",
        "rokQeWrvwbBNLmigUuyRBsIPlLZsSdNBvpxGbevNKgRNAULkFOQsGtSpAMsMugcKUIvxJPDFtxBKROsf\n",
        "uRLUQaHohRcRmLqLZogFgeryzOBgbYaiyGBWTqgtdlebIriohWNxQnkQesrkNDcfMnCzKDsTvtcwohLz\n",
        "BeJamVQjlGmwTLwZjQCwYirfCofEWvJaFqtyMeUHGPUXBeEqOBUuMKPDmbjKpcfYpOJphvjhJKuneWfT\n",
        "dMkaMYrQQoQxjrsYaUFrUEVlNgWGECymBkDkUNWdWyQdCRbySuVipihIkOUNWleXrkjlyVgmSPuwmijk\n",
        "odqIJmJdPMWWNuBarcUDEJKnFQXBSnFwQHuZFestfLArYTNwhthVChBYcFzhzwsEjOclqeTSvlwpJrTw\n",
        "HjldXNlqCtpyJtAHDJOdJpiEoCmblycZTmBaQxIzKxJqsrMSOeyTvuTbEyFvTeDtcpYEkCujKhREVswa\n",
        "EWjtZCKAsxHpgIIpwKRynphPXgSlnknjLGvYCaSqMsEZexdxfpnChBJxCFtnMFthfONBCXjHwFZAvhSl\n",
        "vdaGdPajvNzQrQvDkpaQQGPEmdOhAbQTdQpxZnyuasPjocwDiokHarOHdqRLYZPoJoWfsWGTVuBJZwak\n",
        "UQiTISTROVrdPhWXqMgyjeKzolwybYMgJFByrhpohQpKQyGwcvizRktWcHiqboyZlkKeoESgQGpMygyF\n",
        "JHEoZhhwLvjOmGufwXNWEOhULvaNiYkxdPVYYqdmcPMaJRqXrIeuDgmJqsEbNSxoNpJUZDdmBBDNpYNx\n",
        "CHWKZjOTWRMNXfPJMtiKhwVETHCLiZioChbRaYRIpvxiSvEMqSwoPEsRZPqaKIwKVfZTZLolAgJKXAwJ\n",
        "tRwFzBUbIakQywdDYkeSHgxAcBejsHaCJknNDAwlPJjupTWYuqiGhQOiWvLqSbntdXUbPPCQuNOzYnVS\n",
        "eNTsybAzgvWSLSiANzCXyNntNxQxuitOsuHwIfnqNWcVUfUmyEiZrbousxiyUpGqghlQhVhnGYRYkvcv\n",
        "DrHvxXMePxsFRNsNipCZYlReBqhORHnAwOPENYbhZowTAXqXvjhAmefAYjnSqqgfaJXhjmZDtYYvVrZh\n",
        "FwUnKSDJhNYfEPiCoJIJnqZaEeUoZoFJBkJFqPkJQpjOdEkDWFrFsNwIvFUoEdFbUgnXvhDIfHBAMgjP\n",
        "bPafIChIwmEByxkRvpifdbWCXQbudoVFeeVSWlgKnjZPzbHYYHgwNWYyjgfuLxuylUhlotTjKxdFRuKO\n",
        "CaXhZGCzjRcxLunlNegbTykmYhEvNiNuvxDefShwViwcNHIcELNOIYuiFPyZdAcDemZOvgexGKYmcGDi\n",
        "tRranefrGQoQxQpRHbvFpvDQqCvrggtdQIbDCKRYHIjLACSOhILXvrkZRVJeBGlFBoCASBykXFbWaThh\n",
        "ujyUhWaRrykgtnXBlkzquujLjuhMvVUvDuLxdWhkDFFFyBGnKWTUAnqPuySwcrkvRSGwkCgwBnbQWmAa\n",
        "zxszuhQlnBofzeTQUVOPErqsgRxQIeSRFYSHJfNEErclYcRtBeMmlZXlZiIHncABUEIoEBpYlInssFDT\n",
        "jFzlAgQBdJCDzVYfhUpnfwZLdFsFDNjaSyUFzKLJGWDlwrYZfYIoXqUpfQSmrLiGYdpwfUocExYCEVVt\n",
        "FhtHFYMgKEbkuLgbVjspNCJWIHRaiEkFYdNqxsthhAFCKOYMgkoviKLUcGrICRDVBTXbZTjKvEiUmezT\n",
        "lCmoBCJZPlScRpqpprRqustzcodAXwPSETjFtEfJTCRuhjzEqQrYWbZSdyrjoEVWlHfUoMNUvXqZKULF\n",
        "OUtEeCYQBTmYYYCYLAbOSYFEbynlyaFAPWYzVIONpOKXXnntLViWEOWXyxkERonpvAPouPSgNSSjcFkq\n",
        "zjnLKdDXbSSiZCIMUFDRJULNMPccfNaEiDDjVPqdxGDWGyOrgTXsHHAUmTQciOFvrozPHLmgfSDZbDqo\n",
        "vDRDIheKQYWtfiNCZsvXcqRxnZxgkrOewaebZUTkLYNgoJyOywInOdOoxsIvjBqCKDhyqjAzyQZdTgmA\n",
        "WfXtQAtnJsmOffFGYkyPcbZgIwTYKPzFMDCbQzNxCiAIFICkgChZTgHrDZltDGSSEvWlgUXbpdKgmkAk\n",
        "TYaoTqGgyAEycDkVchYNKWZGLLGXOJpJBfoauDWvmVLAGmgMXyqrpYnlXeDirpOCHOZbJplZHkfmZqMM\n",
        "wTmOdanskKbNwfiDzzZjCatgeocyQEjkjUFWWpqeVBwMiZdtPUWsnAgWjBUvRBxhSgoXRmglYsDySfMK\n",
        "uLKSDjaLQjofEDfazMKwqngbcsJZPrzisJTayalAlWPxgjHxpKIXhNFpTWxEhVqbrCsmpMArkmNSfkJx\n",
        "tCKWcwaVSfiRoGQcsjWjLRefYgnMlzDccELJJWRwGeJGJVccWEyUWjuLcmnquLpZQgjhSrXBqmzlTjBv\n",
        "MyAwGiLzJhWumDzeioBCRExLVzBYgutIUEZwDvDVTKJINyrjSYaOmsTKVjgUjqgoFWNJckprekZaghdw\n",
        "KJqnIyopMEtVxrBDAlYAkOJKHrpCCnZpSKeCqHtEkucylbAYejFAERfgIcizJVwrdDiqcersevsgfNvs\n",
        "jLwkHmCxaGQcSrnkdMqQxJqbhlbIvScuGIZsRbMvFosXsqmkjUnsMKumVOaVeYjJuKmrnNzrHgaIRNxQ\n",
        "GSEzSkQnMoTvOLNGQhXelbrDtJGFtPhdUiRETuoPWsvOWEGPDQAAlTrCUgCDEGsFLBcTYiqqDGWjzyYI\n",
        "WjfwicgTDHJJetXPPcbhERKawXWkVUckmIwkqxHqdomDbiubueRZJVjJTgioctKZwigJdfQmCCKQcVWi\n",
        "cepqQEySwGwKmIIDEZBBeQFeopEYlPGozGYAmuQhuqJeoEGugOqzDMHxarmTXmYFVIvRlhUsUgRDgFCo\n",
        "bITTdgBSuRlhVsLQhFUsUriWPkwGqBUqhmUCubvcsVXpjoTSxXXtwxsnfdDMReGxdzbxDNfClcChLAYG\n",
        "NCWaQUFNxXWuCeTaQAIecnnLWuQBaxVnVKrZfdWENPwblIiyfHsxACcWynyAYhdCYXrQQqLYPcqsdznm\n",
        "NGuFShlFimfSmzOmYBtGBZGPoycSdbKjpUCJokfkyQWpLJmBqhCIqmTunSJDgPSzZSghnYllAHdGUYjE\n",
        "iqwoRZBMoURgFNCNARsliikFZEFRzwjOQEJrqQaqiMZZMYLDnmhfDsPvDxIddsvbzvTEKeQGnLAIauzI\n",
        "LQTmjVYdefiwUFhNXAiRstGiegQLCbnMwYCVgqhoLuaaAzbAFOLeoeQZQCYEhhoMaJQYjJyWdUqVljMs\n",
        "qnkrvRdIoDkiQqOZNilnrtMmOniLLGDsOEYQrjCpzTvxVqJFIVmqhubBUlwEaEjsURcEaCQehjBjtmdn\n",
        "GuIQzCWUgBiTFPNlCyqDwRSQgmuvNMacATKngRtECLdLHWBgrwCpxiFWFrgwxjFBfrdvozLEcupAVIGh\n",
        "mvIhQyNKwrjRVwbeYQAeBGjSuKVOBTcFviENjGYOLZJFbCYzvNPrhmKQtTFZZvtUQnRpXyHuwfDpDkqq\n",
        "WttDFFrbBQtZyjGYfDmZQjUyCYeGOdczzoQVAmYtvRVDBwEZvMGUQIKOoDhhMOiYgkXuTJoAQFJVPlpG\n",
        "ynuEFZehDqfADSsmKIPZQZKxPRVjyEEYucDLsDQmiGgTCfwmQeGrsFLaCZlvygkrDXgRXCSoZdFZKPld\n",
        "abnSQcUDGwJrOnAaQQchRPBaWQlXyWkAjqBSXDhLGdkYJalftcwkNdQRUEfWBoblKqxcBzZajrGesmIZ\n",
        "ZIlsPrMHcViZkKFNmMFwmKoomvYIwxUUMHURRVCEPhcNbuMjgEicPVPRubqchrtJiSZtkWtFAcGQriQz\n",
        "HBZPtmiWpreaTQLRsVXIXETTIanFOkQEihqcrxoQzgRtcoiXESmfcyQRVoFczOPjvLfKxpflZznHzRld\n",
        "JiNjUvPObVNdazBeqAWeXNDOITpkwZMfiqOVeCndpCWWCFqMLCTBhrsEOCRuQoykxyUvNZulJxbmWgSg\n",
        "BfqDIYFSIqLBGBdZMKiZePbOaaWliGVhKyitHGLvbPfTGvlPJTEohgnecoNLBfeRNigdpxNgXWURPkyf\n",
        "yzaZzTQFHVzfskpVcMUQUResMFeCaQfdZsCYWeDEnBvpubUDNYWYWConhAFmWuchkstITRIFEqJLEJTs\n",
        "yOSsrrJYBGNHVrZFyCOMBUUgWArxCTuSFPAlGBEAmqQpUgENWFaNWVsynvaeVsgMlEzLtIfjuzZdSxLJ\n",
        "gdoXHMTUZcyqeRpTRpGaPokQtGenKSmrhPHrHEIepnpUTuaOWQSBUTrcFfEufYHiLWQPLheKiIlYqxwF\n",
        "jeHvMRMlaGuVtOqICFGmStysPtfbtHumOablrdCdjduBZHGFNXuhQVVRRsjuwVNeAGVwbJYwpgxXchOV\n",
        "ABsSdbSFEzHxxnwlIcUeAQgVaEOiKgWaVkzsRVfSyZXbRzmFUhQUfvdZdnXzZiDrEpJIYeUSBCNNwTrZ\n",
        "HCqkbMjcOMxdDokfBUODlTkikeoNKCWQiPOVKRtgmDIZQHbMRyaLpYDEIntPUrAKvUEwIeaYAFmtCQrE\n",
        "lHskDBslPKjXhLpaACPsGXRKuJCabaVSGazqwrZWLSZJLjHVQJCVDMWsqKtScGNIzUowQoVQHKjsfBrt\n",
        "LMNSTeKuLHuSTDHCgseNeCTntcNnmulGKtaNpWLTeENKLzOCJHNJTZvcSEKQOHMIDHyeuxvlFMwjoIKW\n",
        "AoHsfawqFrhghLEvWbrqeaMYWSPAAHmeDiVqfCMLYtKaRNHHtpdRDJynmJtAxMsAzrXNYKJhkUvNyxch\n",
        "VAvYTZitHKkKbJowxUwFSvsJTXLgNxwmGBXkQQwPaFVkfpUNaBmpEprVJxstmdmrUfkzuBvJzxyOYthy\n",
        "kMfjzLqhnwvjqpRVzsmMkCaIMtANOWrwbMHGiYDtZzIjRZgVVGmuPesMFCWNfBYQsbrjaaxmogFWfOFq\n",
        "cZnHRBvwCZSuBvisyFrmbNwLQcjIYDdPpcGRheJqneNhqLKVJqzKSsmKPxicrlLnFPBhSnUsOuvkYrAS\n",
        "PSssoevlaoWXPxOtITEsWonLikFCikhvNFBZEBSYlHWzByRmafKVWNsbmJCRkfEstjIslOOIUyHvlwHI\n",
        "eAcGgAFktolXUCjSLAJBUEsjAauvvtCuDJdUMjWuJQLlzeUOssAgOHPbnEpNpzLmqqASQsLxiRsZYMsn\n",
        "CmCWGlLLentUStLUBoovCzUdiCbbcOWVZuDbGkQhVIlDpxScsQDiFdSConXLNkitZwpsDLguUgrnMnts\n",
        "oGIodvjjFJLWpDNpWNEqsNBOLKfMXSJfGqadujWlRyeQGYbzmBTLExkQYoIgNixhhRBKXUEJbWeBPnFW\n",
        "IQsvWPweFiXhkkAUAYdseXkfKFkfDVnBBkxecZlYxgbaeHoGQVPRQFPoBndaHOCcoQKxIYyhWAzSgHaZ\n",
        "mubPViDscAfrdpKgGMCKxElJrIVWMXVSvXJiRVOPCKCDXdUJTiIraFmyfzsuwzklwWkniUpHDQlEChUX\n",
        "CEYOKyteFStnQHbjvHlSWfqsMTBDWANDyfKTXVuDfuONEMmqNjoqvFqbLnQwWeFVxnSxwdQFIejKJmym\n",
        "CZTJyvtkYtFKmoJvIjgCcIdYoxBlmvVxJMGSGnqkFBVpVzMqrNRsfBDUtHyTAdXpxPCdsJlycJCnFCUK\n",
        "uiSaaqCaRSrQWoXXCGCQceiLfdbUpULonRXhvOVBeFzjArhrhhCkGzYKKJkFIuREkuCYUdywnFgMdOza\n",
        "AbwBIEtykxRZtefWuGgIYpofnyfinnvlljEkLwPhhCTNEKFPteYeRlwmKVbaaLeFBdDhmGSbvHDYVGRH\n",
        "jVcUETXuuALGFVYDxFtyStPvvgQecRIJpdRvuCRSMaQTHLcnftLnqJoyVZzrFKexgHMfVyxTlzVPiMWv\n",
        "lHgLtxUAMTfGmugsJuKyKnSJbNodsIyWpDzWLCYbpHMsxHvVJGFGOoNZDmgYqztnBlCvdQgwWRNtAjMW\n",
        "aHQjxPdzdutoXcTnvnutFHyAlPzNtWVSzAiyDfteJBBVTZIadAuCJTRWOiwbUfJYvvbJaFbdYDVmxkxB\n",
        "tmYuNCGDNlZHYWBmcgsYUuwJsZmulaLqodzgXkEIGUbTrFlQANidMHfnuNjbmfFeEFycTlLUIPIPVkUA\n",
        "CGHBjqOGfZAxTGPFyilVZyVPYgljJvYCqdbbUDhjwWYYKjVVNQYmkdrABdQHMQbhfMQvIZahkOszvOwZ\n",
        "zrwcpODIzNUrFxWWwAMePlebSZOaOFVOpGRAGvdwlpyJXrwnAHceNhBEtZnIUTSiFwTWHJDpcmvdZJuD\n",
        "cilDHkxcdoYypOEzmQWkmGZHazcNZwNiAxwKwZtxOZaKVXMEqTmoOPozFUjqbnxRlSHQNkHNzJFVZgGi\n",
        "wQHlXmXZpwuJukuXTEDktqWDsSMSbOEzALjMelfUrKaQGeODFzskVJhLrSkIuSjaCkdAZZayPUjghjXe\n",
        "wpjxEEeLJTWGbYrmhatqjXwQxARPLSJEjbqfPbstkFdUpsavJmniDprviVNoqDxKelLfgTlIjeyfInBK\n",
        "TcGmQvSEedAZSnhTTchKYNUtYatONmVCGtoUAPLQGPulbWYBXWXIpgbznxwXOHqfxJnjooXZVEDWUkFB\n",
        "FYFRuCdHRkViYIQDWfmYrQeFJuaoDbqMcucuhwOmttNYdrTQByQDQTawEtNXBbdpJpGRipZuRhveLxzF\n",
        "qsrzAkIbRnwGcJiZGurVNIhubpEyOfXCogDHBiIcbrhLrEiJVmfkJCdbelaLQjIrCcvwylqffKTVDCpO\n",
        "HLZEYwkJiyCLYfSuGtdMpdJnMqVnsWoLXwXPGVHZOgDtZqoMXmQFjlwrUEhurYbIbgdRvWqzqJdIKVHD\n",
        "RbfzfLsrxVUtYNjMEIWDZIUuOnArNoSQLgSwbcPjQjVIZYvHbsKrlxlIUbnHoptRHQaSzPqcwgGxpkcH\n",
        "gRCfQPLBCXoDtWeqcvNkYexeyPwasQQwWGJiOwQUrgXbpPScNgdRflXOITjnsVAOAytBXaOFwTGXFHAt\n",
        "kfRybCdDHqnzVLyyruFjRUOszezawSOOVEAdweAXUasbLfOkaaBualogmunJkSfrjkHJMTlPatBGpOrF\n",
        "FYlrtiPMAacHvdLzDBeiEFxdRQMneSWznJbFMitaaSVrIuwfgEKVybAnmrnQmcdCZRXwABRrdlqMrbcC\n",
        "utqGupYszwhXarpBRuyhMlrXutFwUhZgPcOrKkTvmkpgsPZxKpBKxRJjZdEguLPZOKyPsmyRwHMdQMZB\n",
        "ShLamllEzwXmqSxACvtXuiWBxUClZxyGNQQBKZPhJcjEWcSvDdPACDWGErloGfqGIBAVxLDLZkdkdsSH\n",
        "NfcRJEzwbBkijaMfSFSneHagPpwXfrlRDvdvJpcmFUTCxmpOEuauphztcbRzZJgfumWOiViUwxucRFPz\n",
        "VxvTFMxumsrsycRyfZKrybQGDMDdSNloiwXPNorlwuoACiAkcJdsLSQQxfjIuxhPiUAzcXRaKNCZsABb\n",
        "rNjkDTwOPJUNbfwHlQIKSJotCeqcQToUohLkMnHUIZJlBhXcmbiaOCCmNUaAGzIBZRYUJyNcfZMQPGTq\n",
        "KUaGzWaxfubbfTTJnLwNnAssepFqtRKOAHirCuDtGTZIbCjeNUISaJkWjQtNjMzQnSwPEsLhfjmyXtvb\n",
        "UEVRBCjOHLQyxLivahgqxxuDYtjlyiPgcdsZGlKKZraoYxOynmAOuIGSKtHQYAjlebmAQXabYuApWmbL\n",
        "egPZRdArNMmuJZKBYQXrGqaqhagMReiczftkbaKWuDSFkfyDWmoFNgXTsmnMpIjmUgxfbLJEPVPIXlHG\n",
        "UewZDjzsKuUjBrVkpQScQioXwgxDLWZJQmhdwFEjwRFmpiPoEDDKbBFilePTOhTHJTFMWSwVHrEgIhXN\n",
        "mbrJMLglaVOEnMllkOvvuIIzCRgDRUaWfCXKynaOgVLZkuCPDYQiBmLuHWOxwVrkxTqtMuqPTanPirya\n",
        "JISIJOApmfnlvXkRVaTFJmvyQPpsnglmzBqOqxWVlzVhoxJcusGJRqBSDEFlKHvoOwDrJDGLjKQUiaZW\n",
        "RsQxrYUuJtKjiVwzwYtkpQogpVTIJTSDlUGixuJqQWuxlXKaLshqnzhIKoAYlfZNMrCsWsLUnbJSseZT\n",
        "sGMWzubGbWuUKpsSoPoSJmZtMOBUmtrufcNDhpWPMixGYRFxsTJSArctIzCqCdeBsNBxtdUxXmPjKIxk\n",
        "OqWfFpLcHoVejqjQsexojVtXuRdmlQfowMxhJudqHWbDCoRPaZOMXgFxyDZRDkCBMMnGOXYNXxjQTEVd\n",
        "phDyQGFsaFduldkrXeysEitBlvPFtBumVheefuGIFliVZPwNpVVbiZLjxyZwknYxHRIsxHKdljQpayMw\n",
        "WrManDWqSsFpNOvBltPNrzprkwbyjXfWpEFggrFFYCUAXyyrMUTnFHYDrTSzLjIhJPogBDssLBmwUrQN\n",
        "oMVBeJdAuwAkKBWBlmEfDFtrUjaYFwgzyhOWbyGfHmhMYgUlBVkMNjqHRkJPstDCOBRvcthhTPBucuSv\n",
        "FGUKqobVUBVISShWwgHTVmvwxctgIdZgwanLBxAgWlPKloeRfEaFlakFuCNDeHSBjgsgAQGYHMVPjygW\n",
        "LCCJZMUXKpIvUbswbOMFdRKDBtBkwXLsspVSwHPhelEVaGOGmnfbBAddkTwGWwqGHsZaYMTGEmXiTlOG\n",
        "IbKYlKPzwHMmnHUYGzEtfkDimTAGPeWqQLfYtyWtXcQCjYezmGuMUCFQigPgwSWvYPfBfREqysCGKzGL\n",
        "wchsKcGwpJYqrEPfhDNuXUgPIonCVYGaCoDoaJlUJCqrRlJFqHyibsbCANtlgQZdlNfAayrDiUuxyjjZ\n",
        "DTwvOMyLXyLIaLxJVeBRIZmTlKhxplyBLgHIqVsTYuAOcqNkUKwregPbTHfzBgTfKdcBCHYebdOfqgux\n",
        "kcVWRLEwpguNkzVNbBsmKKgqoadvSHNUZtSSpXfYFcHzKHEDsDBrPqhqjpUrTaquPtwctglSgIngbguQ\n",
        "LMvdkvFluNRhvWXLSlrgOEyHTGnTGDKAXxUFRgnjIhwGkoIRlDgbfwDeEawBnEDHPsGbaAYNajiDQbvT\n",
        "uGYqujvsCQkiYIuyQFsxsItpvMNlTASPqzhelbwEgRdxjlOMpRoMtwmjCTDyOrGcHAHAxuyuheqZEWuK\n",
        "HEMftPPbfwLpGCbWTjHhqAKgwmZFKpNlsxoIDXPgzPdfQkZmJRpObKsXqRzGHcKFOofUudFiqgZcZpnJ\n",
        "tGRmRxvHGVByfaltUeubSmOTtZEHTmASeYdYIbatAwXLTMxRLgfAxOdOEASTekfTrzQUfSVonRNIElrs\n",
        "NMhXGMcwncNRWgsiZTQlrCHUXRyGAzEEajVHbHKGumyqKePVWmqXCGrqDFEiwNOecTHprDcKKYqjotCY\n",
        "mtQyvDsNMbcIsMHeCnTllfvaYjncMoLOUSBkBxOFgcixmLddvijVWiwoQtJDCBOBZTaWsMIfQwzRuuCL\n",
        "OpOsZVGnLNMVVARsYBDYcUzCcpKUGVMPAqLPzWELIaZZIWaKDvLWpSgFAfdSqEzsgYAaGkmAsOGlgRnu\n",
        "ZkcfmYRaDmHQtyMxhaZiKAizfaFtvtcodnLCwvcRxDBUNSgsovEbWRySUasERIIdOMyzCZUlsYVmKtpv\n",
        "scWoZJNTrXxragOJSXkaggExSuLfSTNjtDqWoOBBQccomAiLlzsTVOhUSERcCpTasNWCvXwdnqQNAFfX\n",
        "JpALGFXxWDHtPoyOfuVHixKDlRlbLAPPYLMAHSqRLMOdJmuvbabUJdJarpdVfjOfCFjihlyaDBHLCwqI\n",
        "XqEyABntSbPGAiBYrzWLMIEJZsXlrYItukdFuYwJvSTqkZmwJTqOyRXWFWnbRWZzwndaWNGEqBhLdGni\n",
        "VnETfUTvzkavrjqypdhXpEORjjgdUljLaFRCAuckuwwGRSycPeVYQLmsZTxWHaRRqbkfuzvxxMzcngMJ\n",
        "gyujvVxHPFRPKumxeeVVdMVveOMhfJVgBszExvfjCXZQtscjxUOHuiDOZYajDImIneQObxhJTJQzYfot\n",
        "yXfZgkPnrZXKUrxASxrbrFpxHfSTHIZpEldPQpuHrSbUiarjCoplcRQPSePPODkiSnrPxiunpAspUmzr\n",
        "TXqIzklujiawYkBsaMCZwqStdLHLJkdQBRdyQhYIHdITMMAkPUtGVZYZyfJHfGuAKtxezQjtIhxMNhHT\n",
        "wvUYCKbsjcQDADqphFxRzNqkZtKCuAiKoWHRYQPUIXUntTEYqHryqrkXBWvkwtzUznxkJcimPdiwBMSJ\n",
        "PCDDDoJOCNvwOLDbabflemxjEOQADtUNbrMqkkGHxwHTFRFTWxNsDbPPTDQPuuDhFgnwYHaEkNNKKVXO\n",
        "pvTcAItDfUEptsBGGYkAhVbfjiGukPGxHezrVFPHrvnJAXNRphdYfEhROxGLxrDQBxMzHclIwWoAGsak\n",
        "pJpBGhMgXTbzoQoxvGatZKVeRHWNjeAbUFDuTsGYvjizpZsklDKlzlzausbRIzREQAkXfrvZsUxAUFLj\n",
        "HqcRTHqpkHKIBllyCMUTYEANBMnWiSEjpvAwdzMnxCNCqRICMuNviZhlJzumPvGXjQargVMWFAdfwfrq\n",
        "bHRXrsBPkMkDhiNzcdnsjEmmjHYgVmTEvUnrTClqDdAYJOoGblPftHbKFGNIaNiFmEDNUSLjeQQhvkmp\n",
        "oxbpUNlumKMTwbgylUpbyNgivOCfvQVIOYyvqzHJlYYuDYvbmYzALwGOJqWplUHBMBUNwusBcScYtghp\n",
        "RdUdeohaIBixzUYqXUSWRJswKxBbKnRufRiynZwioKNYYuyzRbPRDLbrWIIGIBaYZojiTOjxQDsKJgQC\n",
        "bmeGDdEQwgPaNLEsMBBUEzfkHMoeVanMbPvuKYUUCXDdXtvToxzdEAxlKljoXxrIPGmhCKihXBofINUn\n",
        "zNMhJNVbiJanEfxCJHxXzwYXVVJupYoNSkMCIirAQyUlZWVEcaBnsNWWERQrmdHpuIAcCODdLsmcZZrd\n",
        "MlpxaqcvmuZEcoEeieomktxNNBkGXnMMREVUPjDKeIkLcciwROjZFSXjKrTbNifFsCmxDSeSXyRDVyOd\n",
        "JSAdUJBEZnhyRHTWprSZoGbMUjXPHmkLeKueqaKjXWblQypHBaafvoyDxuqxgVwFRihwmxQONCcHWQBL\n",
        "cNRMzQnpRTxIOIHGTbnymIgrvGBCVMQPXqrZFQobDtRgLmcKpzVnPTIPvPfbFwvdnCflWkRDGpLlvpFv\n",
        "QREQfovQFuKhmwkHCXbxaRMJGBdLJnHqUmAKGCUFcokKaxnYFCLCJoEkwgEuEOozmysCWqsciwBiOaUr\n",
        "SBkoFClEyOlmIDVgQloaNdzsiPQesrcbHCRVmYCLgqxonNNSixKYTGvtAlXYdIWWyIBznLNPGVbGonyN\n",
        "SAtVAgKZrzktuMXZbiOUTHChaPQFkaSPmvUNwcCMdOvmsxQdrhSuJfhfzJYHmjEVkmLhxincpwXseFwF\n",
        "EOUkWgLPztLesfJsNqueKMVFTRewLdrsrqceaIgtnOXjCVoeqMlgDXprxKFNDeLZtNBRKOESYCCHxbpa\n",
        "rJFfQQQkddgMpmUMYbPcupMQhoSPrviBSkwWAzBhFKzqIgFjyKqCSKJSVFJPWoRglzHsBoNdIokzJtFS\n",
        "TKIeGmopTMkgjhCZvzcJkazBavdFzHAgOsACKQvClovbLKJEHlPAtqIKQOnaQNrgaTuQxlgJFKwMTvFD\n",
        "rmaUhThwhamRtXIGYKOtPlwGaNFHNsVkGwNALSZRBiEbFSEPZqvZVUOlcymQTCzvqlKFRbZUaGBXtdBj\n",
        "AdxxVqoSCSOIPOSZdFxyGOvLvoNtJltfvuRHfMKydysHdXxolprgdIbWSCvRsCDcHGemOMpcekVUcqIr\n",
        "MFobrYpqcIpKEeCwLETizksxBidgjsCtTiQEwEgclmieJTxRUWOsnCkCyYMcNyUxdnqgAZYvGxgRDbFi\n",
        "JjOiCHmkMIRTljKKRRBheqgZlTBSRBYsRyRqNteZvKskYmppsDzAsKdSfGqKhfuMYTKLzFFpirtBhReb\n",
        "UNtRFQuouAJvpIMyaBpMqmTNkCBgnPByRvGgyaKQCwXYijiPBqQkvgIoHyaXGQwiRSHDpDuQMccxtxDG\n",
        "GHmDHIlncoWQAePXfKgniNHZkMtXQmuEACosmawvWwQcfYyOhbnXeGXWpnztmBjEGKJWXLPdPvulOBaD\n",
        "vozgxrpLgmcAalqbUFkUiuaOmbtfYFrKHIDvUHyLnzfYuOtZcCUwikmpNhudNpUoEXNmZWpVNPBMaoyH\n",
        "qFYacieMdVVqxsnugYvGwAlxzbMlWRthmTdkmAwyMJlDrSmdnxNhejLjMzBqflqkZagbaxOvbtBHdgyt\n",
        "hVsbJiGffyPxDXYWsClwBLbRKWkZFrQiMsmiafCwKmIchDtUXgFUIiOuQZQggSjcoeSLmCwMlGcwOZRh\n",
        "SYJVEeAxMvYxVDLHPTCKZNVMnguWIJFMeYcWbsNkdBRIVgcJesSxMonSOKfEJboYpZLxOzopQLUuosbH\n",
        "RUhggLxDJOZDICAlNMWipYilRLZAtOWEVXIIsxkrZlFEwgtbXwbXoGipJXxtpwGKRFjZWcZucEGxbnUS\n",
        "BupSLMkPuMHsjPGRGTcJUdmiaiydiPhellXNlkZzmdyuGCfyoLPMjudmrAAOOumRaskfnKPPkzANuDlI\n",
        "sPkSZoLuaaHBFrTwVPQWSNFyXkHYoAyYnEjCFbeWhpYUhYPVPFQwPfZvgDFMNQJVTaqDeNnMpPiuTYvJ\n",
        "gEpYwzYDuVvdBKOhNkVnSRcQfAvwSPUDkWodojzzYWnXGDYdvsCDqagNDMCDGSbmCRMjTKiUqKKWSSsG\n",
        "clOmFhwrjqSAhztFYjoAjqYFLaEIoRMnIRWuIpHtVUuFNkchhspIGAWTQJGScCMTFSDaXnFCstXdVtvJ\n",
        "NGqCBIKgNGuJstgZkliQQhWJjqztooxrxNNDlEcRXQuNdxQqnpQlVjBTCVJZgrAGAsECCRZKruIOnCVD\n",
        "uribIAqIJNiLbEGOSVnXZytHrwhARlkoixTsCTJUNBUnHUKSqzhgeCUbJeDvPqzcFkfOWOebYxAZmasH\n",
        "HXDMXwJDCIMoBIidSwhTzCHPRYWsjxeFaSbpVRCIFFekwGGQaGTAGCDlyKbBaSzJdJEepIyFHxhUyDKs\n",
        "GApcNfNBTczggVDcrFizpXyZTZyyWHnbFUOkncjjBqSOrEhctRVZbKahHCpqBesRqjpqaxbKOFmrRCyy\n",
        "GcsIoApTaRfMxGLuWcbGGjhTrpNdmDTagjESWKKkAARpmPEXJrMliecUXcZEoMmyTjcWZUmLftKtCxSE\n",
        "bpONbocnqyYaoeSAaSfmCdSghDZIuxRMMkcfhQPOnXrklUrLNBaWppAPXxKJajzgOaDdyfxSRcImXtwW\n",
        "QgZdxHQqxjqdOSMXiZcUsJxbOOlLdPQoYrjuOCjjGHDJKkpyJzYVofSrLvRbGshinyDMubbCPJjGAGQZ\n",
        "dVhZiFseQcMkgBmQoHrDHWdGXalOhjyEOlAamloRoIAnjVBvquegCgSTekjRmyPERSqOhdgpPacDSSqu\n",
        "dmBfAJlPujyHKVQWdkLwDXrqhmLhAeBptkvRZttCpjYhhwwRVhmshJoRrjwOmLEYQymUTrwSqiGEwzbG\n",
        "vSKpwFWqYDpdwBUREFHnDpqNWYhuHOIGMGfifHuBFCixcYQnpxGcyqkJuraDViHEgwDOhkxHDlkzVBzu\n",
        "fZvlARUlQtTGIzAyhVJvUdhZBzHAcOxRQyTEHUpBcHGexJkUInBZFVDiyoioTHEvKXoSakKxXAuoxznq\n",
        "ZBKkJiQzNzEJyYPuGWBScfiJvoyebEqVFFTnHpqndXKaIWKNtRcfKNQnxteRMXDqlpvpDgXCWwNPuGfh\n",
        "BKPjqSvahUGVKVANxBIXOdRSFLGpAVsZdslsdYWcCqGecQHHZENRwspOfBtmRUjKEHZuYlretBNuEuPL\n",
        "AHPvcEPYetgAZQTTbZmAvhNhamgAGNSwjyUQZHSGYcJKrJMylhyUfGrJPlTiWyYPAZHGPGCsXMzJKmiG\n",
        "sJwbcKWXJVMOXvypmswLxHTfWWDsfHmekrqLCtCTWWsWktuItgFnzPvDuldQUODvxyKoJIDUicbduKfR\n",
        "TTIshWVgMBWeRnYKdCKJzrXYJzRBsIqaESaUZfJQvpEKGBbsmkrtCfoukLWbUTuJqTbmElqMKcBvxyQU\n",
        "lOHTprKWNcHiLgurqvAdtEWHcMbNvZLZgKqxMBqBTnJHyKiLmfuWxvHPcWdtBAcltjbFoidkZBizikoN\n",
        "rKmCuUfPWEnfxnTPNKtGUSkakSnDUqTvLYlkIWDhxQEcAQPvvsEXZgaElAoSJwUtTXsWzVlRDxPnmuIs\n",
        "rKkkJPvjLmsrBCACfoyEZvXrLgECQJxZSrhsNpJnsNXeWhTCaHwyZlVWRgTvhYJIkeNxtBYNsHtlxIBh\n",
        "GlImfOclRmnssnxGQNEDsZdNVHszVRvjVYrCUzWXbToRCDBAYTzytYMSyhADmNJNgzYqUWiUQArVRwLr\n",
        "tyiQBTKmBijSkFNLZHGyxQgMlSpXsLvrkabFpykDpqsiDMKUSAcURghjVdTbgPBDIlqYCfDvOSpBBxTM\n",
        "YEeTLJQXyKQWPnxBnSZMwwJXmnlHClgODTqmEnATGouLIqRPhNiEdPxUTRgomEDyMaPmuWKrMvgPpjbz\n",
        "JjXlhDygvoQneobUjSdRZDsDtafuKNWHdQJqmsIpTUQmnXyzfxpOFvjjkDjCxRUBHnDXeHBdCbgXErTf\n",
        "IXSuIyaGYbyfIKMdaGOkdUjFkBztdhRYbCxEEHOnsaCmANUtZGIXfPYJaNDuAKRsRauAyWWNZWSOvXMi\n",
        "ndjleADCxBtJmvqUmzrCYAKaWpCqLWeNrrpOUpLkEPewMhsfBxYhUNQXwurrHcWgeVvTfOWfYqujpkjU\n",
        "tLDwyaayrRHtfaOhNozwunHAAynuGxXrWlIWkoyjtpXxbOwnsmRHnLmvsDLsxpnBjUlXhoLSzTpYmQpu\n",
        "QFhaWiuEArFDzGenTOuwUMZoGDmUwcJSeEBIfitXOzmJPpdkBQXBzPpMJTYPNjXdobadvwPqCjXpkckx\n",
        "CkOnkqTUECUEtehRxybMaomLILppsDytYuwepqmkXAYAmqoonziVYKWUYXcMgxPPBzhumigRRJjKJsna\n",
        "LufdAZdCLgAGSVvPKbUczdXIkpictSZFXLIbqjVXNsKrXOLGSNXLFiIjaxHijORQKkTePEtCxffioZjZ\n",
        "ERzqLxunnVhOQqJsoJRSZbfCDJQCytWaYxPPWLyVomBOcOvyUdrFlVJhGgiqJFFSSaAzgeGKVgNrjIzV\n",
        "neZLDSEmKRhOZrOIBoUaxzbIDXTkNGdWMzrUDFAoxYLMHBLMvrVReMRlNuDhJfdQmuiQvtJuiGlqSfyF\n",
        "NabiivxwTBBccSFdEcdEoGromCHCWhhWSvjibfIhIxcRConCOGYUKecvjDnivyVcYgYnqajaTHjMOdio\n",
        "kdNYZfpHVbAtqttPgzKYaabklTudxtIAKVTXgVuWvPrhomQrlJMdigxPvRCxXydQAkyQmhPDwneOeVmd\n",
        "aHWaRQhKqaggLnPtiWgXTHosadLMTIsqktPvFvywoSrfKANxlHDkvvMSXprwaBCpgsihgWhHlzLUOfVz\n",
        "pyxWkNBlkLxyqMcqjYLRKRGrtZAjNaYwUfMnNbcmPBNaHRLRcIaYMhNKCYXRIBhSFgsFxZAoHjRpOMfI\n",
        "jgBmJWHaWPLHbjqKrPzMPSvleuvWrMBqaQWtDVhJOwBeHLrYgQAPofzzkolheUEQJAjypBgkgsMtEISq\n",
        "yDVanPZUPVYAQUrXhAatWRcLpEorrrAKhgSMQLTApyJfirHwZFvOnDUAIMngubOKOSZQrdtxuQarYBTQ\n",
        "ouxsBiSNvnnlBUVixMvegACKQGiDilDKROpiElEEfsxqCvQdpvLzizKhIZeWFjZmWZWrBezjDDpstUMc\n",
        "sDUwnOsbUXUAGtXdJmfFMzWfJpkRmWVfDNXgqOPVmhYdGjbRGVNhXqGrRnfWlzRYjbVDRJBiRooxlilc\n",
        "VAndQvNGunmwtPeswKZhTpXkgsxWnhhMydOKxOTkpmHsXNRzVNqCKbwdWJreSaEMTfiSnXmQNKglLMKI\n",
        "PYFFnbXYNPugAXXrQgHGBhtJcBnGZRWRHGXatRBkGGFOlJBTCgtLlSHgdkbhPgGVVxVFpgbILFsOFaXj\n",
        "rLEuugLcudWncrfnszEZTPhLkPOguGiegAnnqKZtDSSqnMaVQNsTejySsPAwhqSIOkVmnUoRtowlNXrk\n",
        "flHsuxukAozqxvoTjkHKPreyErdSVJcbmEkcUVjscdQAsAVLbregdeeHfFzouBeaUHDCsvzlIbifDRSr\n",
        "hfITEEHCpdzHMnYimFXptnFUESRjxAsaOTuAEKafZeVWNrpSGJbOpTPWBQiyNWGbJqBclcizbGFcyNoY\n",
        "yJDOmaOpNpcVlXxPXJjSbxjekgfYKApqaVZFCIFUauFniYsjDEhJSprrskgcMXdrSpSXHhENSMYlOAOZ\n",
        "OMExXgoWqprIowrrtXtRudBJbkfxYkSjvbjsayovTlYPZHVrjrkTgrZSPXxgOJJHgUIIDFPaUJAHBiGD\n",
        "nKPIgoyXYZKwmLPBlrtGjDfIzEStNQigDBxnibYSKAMGaPGgcyOaONQYJGvloMBRsfQWKYbIVENbUMzg\n",
        "pyYgtqyVZsGrQueTHjhZRBHIBAvQcVaNyitztYFYBAwHsvrwhkNKBJSWUyiaiMNNnJsOkgitQNKzKsxq\n",
        "tHtdNXAYlQcMotpiIfKanptVlNlblMhEhbGqkxKPhwfiTlplzYKqOKpsUxOfRKTpkohgozfTWngSPDEU\n",
        "UJvFlbUVRIuDbhsyBnCAKrFmnqVWRJBKCyAmtLLGkfkyQKSCibsOLnYbxaMHlHBKeQQWWDqOblGflmuY\n",
        "MhFZMHOSjEggpwtiCWgPRQoaDrjjWeAgfHWoxTLmLyDRCkFTDRPyxzfBBHLQxAIeQqVaJQWEmSFbZRiN\n",
        "sEcsHbuOwmdNATmwToxAoTgweebEEDwZUyhXlEfZDypFyCbBlIvoelWTSqZaTQbIeFbQfwhjNzstaVpj\n",
        "gmLbgKxvvQWSozRvfjfhbNGrBzkatKpLSEMWNPjjDkxzjZVhQlsoEKdhNXknTybcTVqweyHEIXLssasr\n",
        "pokrhkOlUGtvjzAfVNlccAHwQgGDAHPnHokBoIISUSfGyWIWnzRMTyDFlFSsSglhkezFMOFgEobbzZdd\n",
        "HyNTuujQvTncpciMeZfiWuSqogtVFumYQDBGtljDkabFZJPPsRXpspNIpWluFvSsclOyTpVFEAukuBwX\n",
        "ZYDDQfWAQYnnqisDtcgBIWIwNlBjStrSfISdOhHidMIoyTFSNunNyltJtyQUeCbmHqKTKamaeCQQmSxK\n",
        "LldRUwQsOIGnrKCjjcEOuMtvbCqFTTPKVrGGsneFTlzbAPGJgWZzSvJYszvbAFDeVTvEbgBeeDWIveTC\n",
        "mQltjGvPQdfzfVofXSIImGLVAKTJXDiHAbxzxSHyhdhAQjrDeoPcZQMzkqDatMNHnXPxRwcdzVeeCFlu\n",
        "EhHLDuNufQswfgLHiFLgFHLNgkCaYyuDzjlkFjFTKJEXkhgKXPvFpXZxWKRUopvhAUpOmgPFqqkSEHTv\n",
        "PwIYKzuWgVWdJHnjkXiJBtzwIWGckYzuUhthJrBxMWTNKSbHdDSZNyRRAhYzAHsNtIDkVDBZplXubFGm\n",
        "sBdTjehxRBDbnhRrkNOnGsgKWSrzbsBehNKhjNxhYUVchIRVuYMagCuugbXxDocpVpFbwtFQrhMwwIfv\n",
        "niNWwQfTspKUfdBapEQEujBsVmFLBljEBvAYTpdoZbqAXzXBTrAwzwBjeDwRrrONowjyNFVdeuvSUFlK\n",
        "CiIVQCBlaxHhmiIrSBNlHDvxDRVRAVUHiXUXHaHdBtMnhBLduVBhdmABKswEEqzxGFnVARmCCLIqtNJE\n",
        "GkVrXEBaRVpVlRGUoMRaALjKlthnHVaxMaeeUJrqDQidfxNofruYrbkIIowggIXqaHKpuCtNHqYPSyWc\n",
        "uAEnRllTdjTPICwBIXGjHuZjQycIXIvzDQcpMiElyEOpENXCgkwPartfeUUJtwWXQicUQuczVPbqlRGM\n",
        "qpLJKQtrvHwQZJrDUABPCXkYZTTdrvOPlbJHZNjDgqGNMnMdNFibnIBawRmahifWEUGRiGabeccnrJTO\n",
        "JUZgLzpYTRyNChFVFIWHBpZGdqQMtsECFhXlsrqPnQQJBEPZsJgRkWQHLfiKjIlJEUNSrpUIkGOrsAER\n",
        "KfuXJUUctGQzBZbrXMIBKGLfRDRRdvMNQaIJoHPeUQkhbrVbxbBWMZECNANKiMyPfGSAUphjMAEAjBRf\n",
        "YkWcWjGyUsgjMqDMkZGhjJTbuiCUGblpIEJMaBxjBldAiESccBYoetHeVuduZIaCPvKtlvoHeVnLZjNh\n",
        "JFMiUzYQJTvNehBcwbnwjqkADCHDbslWMDfnSzxfEijxguFPbaOanACLdxCzNExOatygqSKCMUJjPNzn\n",
        "abhaJYjntZtrJJbjYCfNDFCycGrLnPdbaNPSFAfAIXeaEXLjOujBRQysJettISTZNqmaUcBkicFTeOwd\n",
        "aIqIrGODMBbxcnmmVuVEvgBFbIHNIbiXYYgpNVdIDIhrNFIwZvVNzEDIzfVfGXKyJFKLyBuHUyrTSSgp\n",
        "xHdTkEaGDRWlvqbuqIuWPEKsOWdtEKHDVxUsUIvkFXXgtCzaagkFaJWpfTQWEwjwWsVzWCDkCZpYsIvM\n",
        "CArpjZHgewNFLYRyCmJVcnRfSZLrvOdRFwMUNlYcfFHEEvlmgEBfAbTNqKGBdXjMQbxXSnprwAuAMwkD\n",
        "XCEqkoUIfdCSmBbGTBtdJgZEcEyVoxKZtpdPJsTVkdzCUUEXfZiCfaKMttKxWseqgbszpnrOsrljxRBu\n",
        "IIqPnclXiekaaBFLSIXAVTnteuAxEmDsezrcnaxXPnDjqAOJvtAjMZUGxMHkDcouVjHaYAVAmdCtqDBX\n",
        "kWaJnJDtXGktmiQvMVQWAXluhbgDGKSiQxwGunqjMVNDIgmXAIKtChuhzjyQnxuexgtNSnRBFIieNrTy\n",
        "dCluokEUrLCFXEyemXyTjgDKpTmtjezQkohhMUDomReDnMZbDvvaBdttwcAyBxlEwZhPUFfIaQseOXJt\n",
        "eRFRkoPodzkPDHPpMxwmaJAXxUldjocDKejfIeNZXDHUqDgfgtXczTJyjWFMHTJLjGRpWEnrCVCojnyG\n",
        "jvAzCjZurYdGAUIesuUvhDtceQgRMXZPJDeczvGBfrRhnWKFoJvVzNKooOCZqvcglBMTltXxNlvZnVLr\n",
        "zegyEWtyEUPwzAFIKkaGjDxXpJQWWMhgTEQSITiftIzfEatMnEeMXCIsqlDGluFYNeUStjDjDquawhLh\n",
        "IiREjCkphawFOqyIGCBmKisFVKBlDsowkWAqaZAVWZycInCizCidSEEGoQykLHJVhWWpJuGqZQlklfpK\n",
        "uBEVRxLWcKrggxvmPHmXwzbTafMmTzVHamYBQyomWJSXFGLSnDOaOvBfAhSMBPVWmqnosUfZyIoqfqWv\n",
        "pYoOaXolEzNaTPKxSwacRWmoOsafXgDOTbBzpjIjpAeEbcdzqFkqiDVpOHwEvFTsJLKdPnyPZSzdvTSe\n",
        "CANLBuVknNXBFjXtMtyqABwqfcmJgvBQmrCBzgzvXBkyDCUvPknsCoMEoqJTLiayawndSFiBepUloUwE\n",
        "EjxOlVbstNygxFoOZHzpMswcxsxsZkSDoARNJLqnQGWnkOIXdKBFhFJqqwRrasvDcGYzSDnOOLPPkats\n",
        "PLNBzVZegVfuGGIqkKIsoeQcmQDKaERsOetqyumfNouTiYNtGTidVUdGNbnBSOCoiSisOtiXLndRpPaV\n",
        "uFJWacEAIhYTeKsYJhdLlEncmvRMLBrGqYGcUHjdFVeZYTtUdQTowScQAbNqwhwEPNMgzKMtiJYTnKtK\n",
        "hsqQyNyVLeGOJDEfXjYIHkgvBplTiYgVVLEPApuzDIXFYbOValCirqCpTcBVmhKuZWwhefyIZGQgMFYs\n",
        "UZnxeAlzeXVsPHxwggNiuYYtEinNkaYEEECTkjJqWilLkmLnwwGaEaGIEiiutPLMHoyHwkGVarvIXLDI\n",
        "ZaxaPwvBuWNmcxXPWyyTBsMdxZFLflLeZJpabUCmOnQGcjTLKhCGFEGdFdbbsJFMjbYgKDQuYFybOIQK\n",
        "eqtMAvqGciqgVHtUBXiPPhXZtbHigVaiTAfLFjTEkgMwrwbIHpROGAUasuqnVUdGazjsecBFMWyGiThf\n",
        "llwuozcPZpByuLYqWSISCrjxnDhSZmJpiXLhEgkfkktFVsMsgzVnlKVgReiyfVnTFCozFvoVLpkRZAbn\n",
        "TDPSBAiJWUTWktFtuMCxdWwKsLVoCcZsHNFbzjYfAmNekwMveWFaXzJlKLFaaIZTXQZhxZIIHHnqOzNK\n",
        "rAiPzGSnYPMtbdFPSJCCMZnCmGvQDnWrxTVqQGMiYMsXRMZrSxHYYINRRuBZQDaZtChjNGVvKgkSDDGu\n",
        "oSTKQTHbJpqARbCnrsywJVepXCvHzxAKcAsUbEtIZUyQwQdkTshbMhdaBavcYnrskjfTyfHVKCAYOxfT\n",
        "tGHyLVWztxfwiAPGScwEYybRhIIRnJNCITXkBbzdQEKOAxZhBwZZhBduXKMRMPbTSakrYSLOXoigkwjU\n",
        "NagFiwfzFOOAPIwxHhYNFjEnEljBkSqhgCRExQgyNHVvBUvuntMANfoXakCUTcJapLCCUeiIhVJMJBNZ\n",
        "DRKojHtwTJdYGQtsMGSHoKdpdFmZkiVjoiUpcJySJQqmKkXLSgTBxKNTqclTeWhvZUopRZdXJVlGZVme\n",
        "UGifoAYdYMikXHwxsABrPekGdVQcsktAnJYpyrRsAJCfyKNrBUjukiAGqNmCkDGfUyKJBDtkbBFjtJJt\n",
        "KvWuGDfMtdEtBwhZsOGJupEIHmglfpNIqZaPcspKgCsCWapdmPXwrguHpnsbylxVPECQxPeIdbIvBhOn\n",
        "qWuaNZspQMaeayjBwqUkBConuzEayesviGgpzzqEchvvIuEIlxAxqLwiAukGITvEtjuCYBAyoJfmurEG\n",
        "PgkSJePOakIuzOyJSkhePaCoMJVNgkqmKIeKrTmCfEpiQhRWbfWaryfbgaomIoTsHZGksZlBMZuRhgbI\n",
        "ZNofNbIqCGCYajHPmJlPmmHUlrUkSLQWnqiRNQEPodjuINuGxfKhTsvgsDLONCOGvsxgXuowqVzMNlVI\n",
        "EGQRIWOvBeXHiIxSrmPiHoLgmrNvzgdViaNLmoMsuNlounoLCOzNZjrDaWOlfwDamDMFRIcRmpRjujEy\n",
        "ItZRRldRgbnMIaZhZonGSYHzRwvrTbXCwSbNLBXzKVilkenPyjSWewbNbqtJUAPlobAuMPEDecJzZLij\n",
        "CUuRpvuTDLfgKifGiBqQwdWDrLFdWUaEbOaPHisawvWqqWEOSVHxOeqndTPCttyjTddpgpSadJCBjjbb\n",
        "qRbWzEIbLOMSAZSVhuSnTzeFtNUPSEYVetppXjDRHtyATwajhlTcgxnjouHfGnDPPFwBfWXsjhXbAQxn\n",
        "zRLCYPrCXGlLkTFIfGtcQEyZQkQpWQmfusErnaxBmBxHNrhBeBYXAYWAfvEZcRAbgYpXEgfrlsQCpKZA\n",
        "oJHOKqFiKxAsUROBgMdajzkaDlrNErQWcciuiMTyNsumxZQXBXnVifvmhQUCsGhgyLroKXytZiLkFfpH\n",
        "XpnBXUuppHLTQzjvOkTofroLZAKsRDmRlcoxXAhglLXmpozQIZCUarFLYAvGjOQHiHBBGHkfEIIiYGcc\n",
        "sJybSqlXMIDkehivzTmIfBhjApaUklHmCWfIHSKOCJsfIEdaXMAwKHWOOtdYwYUzrgmkvzzpnKcPjtIm\n",
        "XujqDfphWzVCMvnkDkinwQVhDSxlxPeAUmonwEXNtDNnRHexlomxcMaOskEXcWlKjqpUPVxaXKKAfteB\n",
        "MqDkimZRaOapZFHtyDhrIUmdqpsXTMrcZpkEMrkOEOgMZPCbafrXYrCmmOmmHaDPcTvFLrbuQxrWskHA\n",
        "yYHToynVVpVjQFDHJmnJVjNuJIaoHwDvRGusLtSdWfmagxsaeJKHQHLCNCRiFTbpBLbofRNDpeLwEFOi\n",
        "RIlrIpyHqwHYnRiAIRxvwPnShmWMxoRlAKZdqfFiGjCFJOIZDBfsZQfirHeEOOgzAhKylqFTBfhjVRpd\n",
        "KlYzsqJJubibZPlSaDkaOGtCxwEUOkvfjhzBbsycEUMlwQEveEaaJyCknxfqrOhHcxKPSkwrluPRubYa\n",
        "YmQBTACWGwIvVVPxtPfeeXGwWnGUqtsbhwmtrDcJRThTAjWpGSwFfZoYHeSdbteZPhOaQLKIdnaTQxRM\n",
        "aeoZBrVJbRgaVupkRsslucxFlUXnDwdePFYRKkDMHkXxUyPYsQwYqlZnoQkoggPDZAFbeJSFoSTvJvOl\n",
        "SqADhQocVkkbQroGeiFmbzUvubIvCRSKzXwVnauHssYsbfKqzvqxuzzAjIbraWvirWuBLkFpNaPCoWho\n",
        "tbWevDIsPrfzbxmtgCNcjtQRppXILEHfaLFftwtjbpZNudUAelcuRdIQOKmymvDuMCZLNNiFiEZBvJAm\n",
        "KrxRhxUEGjwpLMweMDDuXbABnaWRKzjdhrOZokrTXnrcHyuTbvlcWyYSfEiZJRmZcWjYdkPOUiZTvVKd\n",
        "GiepeYdPzRQSANNpCqgsMnhwfYeOziAypuEfKwmxFbAERUtMOeqYAgEcXjYgRQcIbsTvfLePPCLQJfky\n",
        "RTPwybZRwcFSkjUQbnWLEfrgUqHZdToQJsNdRyAtOfwDPYuULWXnHvRWMhggjwyomJqZMyXVuKgwOeHM\n",
        "BdNIGTyCxTCOEECOpkJjVDdoKObtclvkNyoiGUVLFkepwgfVxuXJdjdbQRzVTaDEkjChoAEiieSRkFbI\n",
        "JkWCdxWvaYshMWnGkNaBdzXBvtWzbodEtYezHjyawfSrgwSkTfbgJnoEaqxhPLwrWskowESlxEKifaoa\n",
        "SRWYRzPCGWvWDaNxeebheiMxzeBaQhSnSvMxpqImkswTDTYfyYheGbNMRIPwsBoONxFkNmpEqSYSMLCm\n",
        "IDbHmbhchGBoXBUZIjgmucQyuKsgfqJhuJEICzeSjuQRUbmGbolIeOuxGgcUUiYIXhzIKVVMDKrAVdtO\n",
        "BvfCwToUPmNeiUzCCmJTNobUgLzevOhpZDOtYfoeNLuJAuWFXiobYsfQTQGPtrOmrJRcZewFmzdJOTsL\n",
        "AIVDvrIcgCTyiscXnPfmvOWScVkECJDyRVeJfREjZsyaIQMkAcZviDoYLfjFuDSgulbzciUXjvhqXUHn\n",
        "veCKjHZZqDUkyNjcaGCFQqTUNiuMbLtQeCWJmRceXafDLUlmPskEnAMITGJUTEffEEReveXBEcHQmHMy\n",
        "jZDqshEFxvCHcNRvSICxrvCfXsroNpmKYUTxNDkUGbKNnMpiZBWGjxAQVHZnNfDvTjikNoGCWzgvIyVx\n",
        "tBTXeDqaQAxulFCTXKGDvfWBxIAIzyLKKDqvCwGqLbuZZxRaBsDBGozihSAgLEAmxjANUZNgkKLhGFtt\n",
        "cGJCAlMGLtclsHnstJNIAjmElExMEjGNzIiLbgcFnydxqRWYIEMBMzdbrgkVMQhumJAhYZlawbxAAGCB\n",
        "NnNqctqHuGknCELfblueUSKGqmaBPGTjUOCPLRFjSNBSvNwFGOeZsQysarPdKRjyXmrBewrznpEwHvvf\n",
        "mkIOynftsgEmPAaFCIbBTXGeCtNMQZmtlRKdpGHkiWVDOSzHJoiKiJHcKvQmicfupYwrDhDsTdNXRKjp\n",
        "QBHusNfXizWTOoTKoJTfIluoaUdvoXEkUjzNxTpGdsiWljcgYnzNoLfSjaeOAnltpliavdHZzmKKWVFe\n",
        "eLRGlhSthSmzbyTcBBWfkeeipDMeAjcjyGsncHtROwpCwSzjBgoMuqnuruLrWzfbRJqCNduVCzTjBaQH\n",
        "OXGahTUYAACWkvcbbppDBEcMynSvUfcCubPfdFaMadXXTvSnfzExGEZNYjrRmbEkhLzlBEiZNXjJvibJ\n",
        "zTWuKdkixlvKhSpjLFUdwwbCAIpqGkUqNcAkgTxFNCwwkHpVYRtuCrDOetrSgwfFqSBGsyEvBiOSqqIT\n",
        "pZZruVgMvblIuvogbHiCUNGigERPWrHqWLztMVIxsKgXJOUeApWgwREaIWfdJOuofDHpimksFQzVrNJQ\n",
        "pvwNUWjoBqoYOmlfLcrgQLdEoJjeNchZlovGhheXrolhGUKKMEVNMlTwAWPAMjpQTdvWBwlMdEWRSkid\n",
        "DnOvoYNnPXzDAcGhiSAkRFduHEbfQuWUNtKvaaAQCHhbsWraOqSGyAvJQnSTgzdeFpISFZstSomdMAnT\n",
        "gUsdUZKVgpxDOCUrGvpvqvsracIxxckATjdCdrLfzFXiXtKJwjSxQujbwAYoiFCUbhcyWOJniKHzzeHR\n",
        "tEJBsyfSnujCViaZzAciztYqGavWgdkbGAkOEFpBhskEmyaqYixCckdCQCqdTZtDAyLXjPQyRBkUIjFC\n",
        "FUBstGdAgRBJycsbDjNOjeXQsyJmmHbTchZvJBunTGrodoDIMOqYxLSuNDkgKriArlhAwmKxMSQGqAtz\n",
        "zMtaiDZQtoGRcGVfhsVCbepWWXUteFIGlizzPiuMpWLzXZrwpXUVYVAHNxxJWdiBgLRFbibuiPewSwPB\n",
        "AuZEjTfVNztSAsGovjTwLLOHfLeFIymEUeuLhLLNsDPLKvkCbtoLtVsqMtrYSJghrymYHsztsZQqQxdD\n",
        "fsGOUQZIbwoUIivzolXpECIEqjRjGqbRDFRgvpvzBLqtDkyXFTDSxmbXJNcdnWFYuWMeoPaMuZHWJfol\n",
        "DgTsuXgPPxjkxEQqKEtxIQzIjAEzDGsrBgJDIjwVBgfOJmiGxChmGaweTwrOZIUeAIzrUQugopWSEMOD\n",
        "iKIAAkMjcZHlumQbKisJzsgPCDyDJgyMslfeRQGxoAZDVxSYZfJyyqFdmaCxGGHXIRgQYXVVnrvSXFPu\n",
        "yiwrNlvItDobPQHoaGdzEDypdFHlyrUSqfZSKEJuOWVdUJlKmSQRjcXxoLjXbYZkWqUOIELXJyYAWvMn\n",
        "uyByOHlGfnGUQJxqBIDGIgoglFMrDjGyWkysuzBBzKOGCEagpREEliSQpAoDISplbIupkQeGJKmlHRWr\n",
        "mBxYmgpCHRHqgmFocHYLWJtXVrOrJuUAZtmNSFApTqfMyyBXVLassBrYoOKItyJtSvOSfKUnMDrzsdHK\n",
        "meItUBYhDbRWZhvxLCKeequSAXLAbShPZsmlHtgjouulYhpAoTNCflBzEQcYLRMJOeCwTluqtqqRKkng\n",
        "XPYrvxBMUalNNxmCmOTyEcyeFLcgfsAdmskNanXxgyVEEDffKUDiQkebEbDGwCATJhzGVwtFqGsZbYpL\n",
        "obtVYfxMIhbpzuXLTsPwPLKdexVdGFxrZSYmfGUAFYPxUyvssGtsyqHtJBalbMlCZqxfqXRLRRVhDPwn\n",
        "hWOlEVKRdHuRPnFJyUUPNhUgloUaMcxSfCmzVfkEObYHWBMFQPCwrHCkMIzhGvApNwNPsRrkuDjGPUNz\n",
        "VIhFQklrAdZqJFaDvOnkvKdrrhTSiAqsLlICODkGLoVghGQIcxONGXdxPcmTUxwdQdAztMITbvUgsfJf\n",
        "baKhggLrwBGyVxCZDyewpIMSmaHKfopluPquInLJJLiNLnDNZVtlRJAXzsnwQbmnCdHDutUYyVdLPcrf\n",
        "ApCnuKuGIamUrHQMKtBBBYiBhoklLnmBwHgxJeJGZSWSYgvKMjYcJHaSYlOUDTkuxVyhQAVqJaeauLEt\n",
        "ZzrwDZKmCckwzpFkJcwfNAEXVSXIRnrUpyuypNKuYUCgkqjLWmhXXLTBjaWNmgtkyfCmbsjZJyiWkZgR\n",
        "soUnEpeCZXZoAOgKBMEAUCXRmGSprzgeCNIJdOpfCHHEEClZngTnRXCuHKxtyFpUpERihjIbqFYdFKGL\n",
        "KjmlaYdvSgxQHidEoaRtzfWJENiewjNRvALlIpXHKOJMfOOPRqQHcYyFodKNjTtFgsvzXPfffvlcqfWG\n",
        "eQSZOPAwrzwuOCGavjjQPSUNUXvnxbohHCAZJgmDvoCanaTzpvCWjzmgtXHOYGSRAFyEBcjTCOqaFzTe\n",
        "qmlFdAboFDjhuGWUDTcMTvJPVyKdiGKFnkdhqPeiWDrgphWkoJDKaklHHxsMPChUsQYLibMIZekhVYxb\n",
        "iHnMDNPiLqpQZUFVlJnDWtZbSXzYKuDmohbTAaxrmmqTJcZGcNEyITZmdzFNqhuKEJJRueswdstRtReS\n",
        "DoUuBQwIArXHLmPnldwJkkoVpedHtKZaqktSyHhMSJAxemglHsERKAYwICoUKcgJjhnxhKWWNALZWhaH\n",
        "KGNPFjwUjptyLDAKqEpxFvgBfxlnXItzbbLXkBofEVYWMpymbhgahXeLvfJuvkhdgMGuecwArNnvmPdO\n",
        "wMCXEQCeAixXdJYnYdTMGioYkyiWnLBOWjNSbAmbMJFktlWepmYHkRYMyMkdfOAZKDwDnZmLAxrrrMSy\n",
        "MKllAuquwTDGBEhTfouwrwMZmDOLCKkfcdYwkAmDYTxpXwgIERNYgVtoDjYXOgwXEqgRcCvmPWDVYCLd\n",
        "hGsDnlBnxtxCuRSSGNOVvhOnDYHZegKkeoUHQwJzJTcbJKzjQqlDefjmciWxizzhxfaKRyzEBKmdYqZc\n",
        "rXjpiYNtJgFvUMcslFXTXNgraYnCHiIaborpdiSotUZGsIETMVZBaRZTjiNbuqeepuEHuAXpoUpJIbzJ\n",
        "cbLLcMTknTEUDqMkRFoZkXVBbdICJIBjYzsqBpoaJXCBPejtGatjdvOQgkjRDBJPLFZlKIgNuosArlpT\n",
        "EbzzSFYeSvwzdBwZEnelUJYjAdDqUVYjmSdZuwiGSGTXjedLlNlxSJAWzlxYmihnRqMGyHAoJKApcucR\n",
        "AwwFOCEtVLGupCWrDATnTevzjFqMlIbigjYdXfziSZBfsOHMvvlGjKWelTviXTSPDDYTeornBXTaHHwT\n",
        "jSnFdVanRtjMqZUMlbfusqXlkKJjpUruTjjhkUlWLReIRIOYkLlvySpGbjOjcfPzKeciXvbXyNICLrnP\n",
        "puaJZFJPeWvynePTTjMASIhMpLgWTfnLxBXGYvlxMaWCUHXnTwwsiGXTULUyVFhypUppDXeoVHZDUsAI\n",
        "rqDqNuCqtsnLZjiBLnkqovwRxSsgpkIiWrYYeTOqfRCkphtnAtNakmZhgoxHtOWdBHKjjyTDNatEpeZu\n",
        "HrPhUOHmaIYCpRLjLCiPVrwgNhfIUYzPJsCtcTPAUcmuOjsXKwvdMUmhtXlpQAGsZAwFPpRTLWmJBNcH\n",
        "fcmTTfOgHTvfSLMSbmpxSipqfvCwUpZSITKjlUzJCvsmJLJgkUVIDdPDIJAvMcbytXCqlHcjgpYWrxJt\n",
        "rntOLbRdGUayFWCZMQKhUjGGbaIjKTUxxYyGHGWLgBBldMaCtXcCNchrlSnRTlcMmtFWztroJaprtxeK\n",
        "XnYgpRAyBqruWEXLEFEoSchAvBGHsbUugdSbrEpZqidvxOwlksJJVCwAWSsrdhnnvwzqQRtSswcmVSeG\n",
        "tUWjZgcvRPiGzEgUdbaLxwedAXYkXBHRRbNWXmgOwxHBsRlMLLAvWytARbSVPsnXtlpdppBCKImyfUry\n",
        "TyPbDNzAywzzBdNXCJsBhyGKALMfVStREpvvZvGjGDqEVdJNepVbZMbcdLeHgzJQRfkaBDffyMnAdvNE\n",
        "hqnoXneFWELWHTzHfeHMvXIYPTAOzEEqcKEsynONmmJKYqDBwmiWXSeTjQneihoitIEHppMgYnuymSGF\n",
        "SAelsNIfRqnxrPWhmZhUmEhooamTFqobCczcnLfPURKAJExipKXtxpCsrzddjUAohvMernogQwfYJXai\n",
        "UmgCsepyhDAPfFTCDhwbwoKSUxndJGcZwJDsyQfyNXjQMNmnEGRlyiquhdWIBCiiBcDlAwngIBGCiJge\n",
        "YwWEOTMsDxojwBpEyFGMoCfMlFBAbJXZEpPaimoecLninPREgOCnMSonRURAIaIpLgDTLmCTvHkIIiwt\n",
        "lQtjleIcnXGaYiawGMzYIZSJETWqMfEQMKupkgIINOzLcDXjyFzjVlfvsJyNwPWDnRzXVkKguyjJnQvn\n",
        "LgnDvEMYdlsTniLvSNylLPNcNaQjqsjTubjnKNWNhmyofEYLwyvkknCdjfMoJyvomSqJkrcleSYqFWlF\n",
        "mUThIGGoaNhkqtJoMFIzYqjYSkjoQLJBWIQyatCxOYuNgPvbVkOmYPiFrGteSujpeFwpXhHSLUYfchqj\n",
        "awijQPzKYezozqYvmcPdJvbltuKLokKhjuFPIvbLXznClkqNbpMBtAzvLQAaGmCxfSlHdsjlFZdBOROX\n",
        "bcgvgYLBzULENStfFdaweSEFEKCopCQXrhIVEIcNxcryvhTIrYxUtPHfiSVZNBbtqpIguVesjQGmUATC\n",
        "UkUqScDbfHYvXqdknoIuOglytdUVIPUMXfKaUotaQlyLDMWHYmHiHQZNuPgneZnhPfsorOLSCIBhjyOv\n",
        "NPBmyRtLbcSfoivllBtRyMGlfeISxcgzkZDQCaElGIWpDaRAhFLSxZzldHnCUoLvCVAHXLHqlMUcgCmn\n",
        "LkPGxRLjpwSFlCnHQcWJuWvpfcxtqKAOnPHpHBqHdDCNCQkkISHpdfcMsWajkHNxrzZpyDdiOAyhtOKL\n",
        "pcxulgBokhlXWVOCqcWDkgkbNOSBsuOfDRwnQmVNtzETyswrZiWGNNekHfPLphaYQPgQEzZYpksZlBgS\n",
        "zwKJxKaJipMOvFQmgnDwYLdOYmpEsADjxTqpiTugxarjFwxomipXDilXZCJjOwKBWnzYDrRsxshSHvTL\n",
        "rRyDDCEiAXSxRcBKxFfwKXWyQgNmXfmBliQFPRIGHxzzqpfiADgQciqBMMAyMkrHOQqulNKikbhkoMCc\n",
        "dOpEvBGMqjfNqadBXqclwnwLZbDSBnQywqBuMqUXAkObeWdqyzBLlJjkhOmkBrYAsinFBibjuoiNvZYu\n",
        "tjtkcyWjOFQhhxhhASsCtyOkZkblteTGzEFtvcsjUVeKiRIpuzKHqIXNurlhYQXfOZGZfsMOowrXrtWO\n",
        "PouxOGzlgVXrsJTZYIVQrgLqURRWiAcdIiBrbtruonbGVpAnhNcXojnHheOBTbUlqxTYcCSKOfvYfMDb\n",
        "aPeJysqpOwsZLgIajzncorKnHVXmeTraNGUUnNopiTvbxQgWUSGctFHBDFZrSnJKFHqeKbuywDqzudxE\n",
        "xvKCwELWcXqhRVqrxoQDdnKhOyktNJwqzMiDnddkBcLzIQDIQSdOwTaIhuyEgqHPQAdFDSkpefZhgEad\n",
        "KwfladpvTxGfrGXokDqwKSrKslwbXUFYrOUdLOUdIbEwRSpcVlTFOAkMWQfYfBTdfTlRRNxiZDOlnuAC\n",
        "iRcTJZBpXoIJyuVZUkgtCRqFDIZOFAhcERDnCBUJYESskOPFUXLKKxgxdnlbNJtwuKYrRvrgVEElweqf\n",
        "flcBuYQTQzasDzsaUeEzZpitQbEYBXYRIogcCIcWVaCeMQhNveogLqrqYDLKJGpWxrNHvqgTRWzCzuii\n",
        "izKQuVHILCCsqsJtZKNEgzXEtIaEmwRtdVwpfsiSKAgkjcksBWGIVJcCrbNDUXGbAWeSlcPrOJrDvnrt\n",
        "BKgFbaVqlivDzikqjlNcKQOYPkaaPGRrToQFTKoqOYOuMNwruxyfxpXZVjnAeohrRKdyBXXRyVzLEMxl\n",
        "zKdINNJDxvJpUTWjbTapMfkGQADTYFpCSCIUCTcYErBMYhOLumfxkYVpcdyYyCuCEiSZXaLrdPEoGNqx\n",
        "foxPXyePeREommNrFhjZpGvNHlhxsHXvLYHdHyJtVjdsmSKqtmjIFrRRuBFloyLShipzPMdPeNPJBWUP\n",
        "aMEVzShKZPufeiOkoIjYaEkyRLsEYGJBESbxBUGLeqCbPKtYPqyEHPtxyQDeqFkNGDyRpySeYoglKkVi\n",
        "AgIhUnYepVIUsvtqdYmevPSHOXhEuWRBDQtgChmDHZPWCkvofJUmKedILKNvxkbaunCICVGdwrHZAlBE\n",
        "hXeQfpyqgQxIGEHGnGOiaPbJTEIUNITNrBwPdLwaBGgMzzTcEuhavFvBHYnppgAhbjITsNtUWtmCekZt\n",
        "RaCzvMnchMcqyEAkTYbJAowHRbLkkspweEIFfNzqlEmDsShaIUFEiUdmqQRxqMddopHvBFoVQXcLEULN\n",
        "XcltWsrHaCVlewFOHLXzZgXzkVtANtonzKEWivdPRREfykEKsCFMNOxgMVAEHGioqteJhlXTvaPsypKP\n",
        "llBkEEQrRDpZAyKsGjrAJBIdFsHnIsfYyjZzdDHihhYWlIIZwExuyvFVzTRmHHZrsRiNrBIlRKiONTDV\n",
        "kszSKDGewJaKVEqeySljpVueXLTeVqxaXGlLcsZJoeVtwLtPUvfZEFqJCJHXswyiGZRmkPBGXzsLwARK\n",
        "mkziMiznscuBrNtxdyQHCsPegazWcrzyYpLeotYgTobbJKlbddZBJiOitYZhiyQvosRWohliJBwItzbj\n",
        "XUFWfNmGFazgPfdWuJtqzCsqWBXxpZkaKeULQUzujjHreSFumKRiLLNTrhajQlbnFWbfVMvhxQBqaIMX\n",
        "rxLOOqLmeRDGKDZEdHHtfMoKilbjkfrAVYizHtexpdCBOiPEUCQkLlVPUqUeKlIUPmKEQQPIoKdYlQHe\n",
        "FXCODjfiCPnBdDPQoKmTXEPhSYjzObyGinKlbREjlYreSqmyFvjTngGvxlclyUbeKBGlyJqdMcqKUeNU\n",
        "WLcpoZnyqmTmxKohLOSpHpKhVMcVyKmSQbOpJhCFSVYXALFwYddZczOAaEXbVTEEvIHFswzZZJYmwKiJ\n",
        "wckhWxXKUHCUSBtcNKuithyyoNOqZMnfOIDWRdcNCqQavpTbDOJLGrUwxBjKPycclvObfVqrsQWypwAX\n",
        "NyYuxwXhKEaHqlkeTVEXsrEmTUFvnSAJFskrRkucQWdUDquqHiqPIVZEaFzDUrnDLFFgNzuXslOXoqvO\n",
        "cACDSfIwhUqNnGzHZniqMOhfDWqyUZorwQMYtZxJcptFLFukhyXywikmMWdkDXkzipIGDkpGRyXAAOWd\n",
        "cyktXSGscHHYVeACQAsxVVBxfNewNJnvUKQGkSqyGrGESDWmCpulKUTpmHPsPGtmONeovKrqDCznGMIk\n",
        "dWMHhZNFUSNMvNctLrTvTFvTfnXHTWbytdtYwAmpgbOJQDWoNxyYHdBjPPnQlZleLmJXfYNcpaEMAFww\n",
        "ykUieBwmBIkrxlySMvRTGQtbwGmDpqFKbLOnOVfTxYHbxeetIelGhhMpTEfccYUcEBvQluslhIbmrxuJ\n",
        "LRMCWMnfEHDfzFxHZYEDFJeybiumyKsVQTogDnoFqclNDlLZzgkZvBXBEBuflgJZrMZABvYrEonxPyNk\n",
        "ruxKbsFrbCDMIpBeIMPOorveAMdwBXrlLGtZznRSWxBYBFxpUlhOtKZISQwykNrVaNjsWwcHjsMXIOwl\n",
        "tGkESLjSfDlaOCSSLpDyqmnJTXOTQuRYocmzHzWfXdQZXJuPSEkBttfyqyyCnGuuCNKrDpGBaiTrTwGP\n",
        "oIWBenHvMZSHKAOuDeEERFpbrbMLFcxrCTRPCgJRfnRSHUbUNcrhJIfeCRVKdPyrpvYGxVjnPEFhweDi\n",
        "SynwlyxRiEToTyDBDIOlzemSlOnlGNqdfABXAxKuBprvaRpZWDGdZrEtXBEuSHebUHKSQBMwIKwfIeEf\n",
        "AsyVSlLTIlrlFNqwgcMdKNROeQVtkyVLwozlBZwVvJOhHUwZWdulIgujTOQHjRBENkVKVVTVkxLtbwII\n",
        "mchDfzQrgogxhAnpLEHaXNfhlFFdfDSlGtFCaAxqWriczSHWJTnHsOHNihXgzKEATGFZjsZMOUUEkWzN\n",
        "rACCRxTrSYgiZhNKnuotUKumbacZbaEWjpifkQBPEsCONGjzhaBXAPuIenXghEKZfqugfDWNWTBKojMy\n",
        "RHQHmicwBdjSuEVXaJxFIYjjTGwfwaWCiRghxCsYwlClrgvDLbSpChlBIczPHXDNYzVYHwjkjMrgqoGh\n",
        "bRAuYjtXBtKnxGSkAphhdNlqnsjwFMrhYsYZPZWWsbLbQFVjfShRLOyKOtmfzfakHXCbygjUfgVKrMQp\n",
        "ciYDkbYxMuYgClnGLUDxliIBUiUVtFVajkStGumFNihGClbmFqRdOhOzZBHMWANvUerLhYYKMqTqpHtI\n",
        "NFmMNSTsMayqaSmLxqjPefZzISfCwqfYYTyqgoSWWIFSVJXKYnTbkQKTwhSBnFGQIKbQHCJCmZxKiuVc\n",
        "ZaLpNjHPvfQWFAuvMwEWjAxpbbHxoBiSrkcASQRCdldJsSZbaEtqmwZjzfxDbllezrHFwIUGXYiovJsq\n",
        "ytfnXZlAhaeSXRNIuBxSEzWCJwFeVQkXameHnzteQqgtlurqFSRvGHtHuBWEnrMtjONgOjgOGdbEpKYJ\n",
        "cnbpuvYHqafHlhEzRtSrndELuthxulTaeGBjFnAkEdrqHzTdSEjiEbxynmazGvcRLNqRwKepcVNJPgQz\n",
        "hBprMiGWrgZrVeLjUxwRAWSBIByuemUHDzxuEshtHlauVqPtIQziCunEbBVKuSqyDjouIhjLirAsCnKY\n",
        "vZrrAMHgqHgJniXBqQiHgvmsyJwaltSZmBJcjLogTcRoNSPiQNlksZfjeBaYYnGeENuxkOodUMPzPyhI\n",
        "ymcWvQwFvPZjoqpIDvVEzoCZwPOsejVpEngvhgRmZDnsjywgHatTXGpfCVYeAzBvcSLAFwArGaxFOugj\n",
        "lASxfGWavFHkkKxqlzMhNLiIORogcdjsvFUbYsUjzRbTqrvQXyhfwDEWxTVtIWUlzGduiVxkfPOPZFHM\n",
        "FSaKtDNQFTOswcNTRfXvDsaYNKqlDFjoMWaNXxNcDfCfiWMzoKwWZNqOIjfQfaVbEfjOzEYtJygHlzYr\n",
        "ZdrEOGdkCjRISrUhPHXvKumxagvWPxhfXRYZKuDDNhrJCnHKYGVCULcSdSylCUjwcAxgfocgxnBOSqrr\n",
        "orJrHknXAzZlcpOGBzsKHYqAUmKFhAvNbTXfsRhxwiZRqVGszbyUBYEESYyIPTRApDeBVPVlAzGwZKiV\n",
        "uNbFOpcWCjfBLOQLLSJZesirEhXtxRxxwuxfAasQStQHbzVCVybMLfteweEMiMrgFWduGExswwOCpfCg\n",
        "XZocOjyoKfSwybQhmjtaVawHEKVESNHZNEijYcKecUauMCGLYMKenIJyILfUjVWUNmNnpOiUqvXNpWni\n",
        "ubRxRrPCZZSogrRMxXOTxPzWhYGyFpevBreVCjTIlsbjTGDAznAlRhRAtUJxKrXNaqYMrtPpcXKYrJpJ\n",
        "yywEqkLzYYOrkvlszvYbIYtNebtQFnybgtnERMMRRDsfFsOlUCSIgLXhtelpPafxziMTiCxlNpRaexHi\n",
        "CkbvfJznHrUGuclebBlCOhSWmCAbFAFPVnHCwmeqBeavrRFketrqXxhtglMRNQpblRkkDQvsVyoAsuxL\n",
        "dwKbmWmUdciVSAsgRFuEcgZrnIiVUkpjxaCAbCtkSKThylARqBCSeWOlEwmlqcPsbtcEUOEwlfLpSxuJ\n",
        "glPEWDwrskIUqpeNhBPCxbpngOBuWKncBBnMpmBwatrIdxLMSotpPKPcpffgNTxClultJbckZDbAvVuz\n",
        "DkLCpxtDTsRLKRCQQtYqoTJZgbwlCgqhQWjmyFAZybxQJhVucTMxZIVrVRliaIpCAobOSqeMaPYqnwmy\n",
        "LVFIZmlsfDVPLblTHujKCwTbQSrlVGLWXULaxFvISUygsannvfziYcHgJRfspIbgKhDpIPTEHEwGeVnf\n",
        "FwnlZiJlPYkjECjUlyScZbKkTLjCZNtbeLIKEjwsUZEbukgZSKJIuOSHBMsmnkWuoJdYEnQPymReQCjU\n",
        "PPJZcwWgRVXTKqjvbhYeyfqNWVTfCmpyvcuLJlHStXmBNVNEBXUJJwoRyLpigahkSBimtPYrjuNctYut\n",
        "oLowRibuzBhkqeHeSOWvYaQMAWYNQgYyZqsCmOFDsDJenenpMTFpdhDmqJkNuBMbOJAqYzqsZKrCYpLl\n",
        "whBIanAQrihRScMpDLrWpYsOuDqoRJGCaAoPPuNiMCRTtYTPmDXOEOelCkKjVWOyDyXTIJLqqDYaFQdP\n",
        "KtWVfTSDQjUMxOlpVxLWyxauVwyzUiSmfTehVKHhGnMUhdjyAmJrJvvJHpmtteyRrXdyoqctpAmYHsxy\n",
        "tVErfWpoXyreIGBZphnBUQqiyXhITEDDcjnLpISLTGQgkonhzLgGuJINtCMrkwhYKTfjACdsmXjwgrWk\n",
        "KaTLnsHfdcNYfDaqJdkoEvVazOCuGGwwvpeAonBxOOgrRPNnfqWKlqCIvbRTfaswwLXxlANWLezMqinF\n",
        "uVEKJsDCKQHqlWysJKwRslrpGfsHkfMTQoUZEHhyRZjkZzNzAZyGruvazaKtsbmixzPrpUuiIzSmDvkH\n",
        "uaBRAAqYXgHWeCBsklJSOFtabLFECjyTXIHWlewJxVwYnAmnsZPpFbzQhaMiAlCTxkOEuieTGFnGvHfS\n",
        "zVdrgBnRYNcxhfViUDUrwdlcdyMmSBtUniuTeKiFmObEaxjEkgDfBrxypiMDcLEymMvNqknHjCYGmKaf\n",
        "pXWflOTrfPkwfhYTDNZjtlrkHjQijhTWSXEdSUuZChWBGCegnlJczLykBxGjAZacLzBZvLBYaccuRzUx\n",
        "ichhhJRutsGauWawMkYNKWmyqeWNHHmSTNHEEXkyzTEazWslGKxbPjXlJUHAzBzGsRngikeUIbfDlzPg\n",
        "wjisvqqhSbUPHdTmrptoWnckRHHVlqQowvHqmPOEOpMctzpTHBANmgXIXdCrrnPmQvVSYdkHGNgPkeqX\n",
        "etMfKDVywVYPZGfaessbsQlRErvlvuSimqFJDnLLqbIsqHfsKOemImmKPLUHKCkJxFDBHFzvvWFFlpEm\n",
        "JdkUhPJCZlZChNRFmWssSFgIwoLhSPDCrlWjSqSfjPMcaiwDGkXFhRnpjZwuZLvWCEZGeIOzytKuspSO\n",
        "xoJLNmrnvCZTPkuYfuqQgNgDLUUabmkGGvvbTOcOxfxOdNMPdsVbZihuYfBwHtdlwLPbhgYiUBBNREma\n",
        "fViogJEXxlHlUelWpNUsXSiMLMiTsaNhIUbQzjehVKTqIerVTeJfZcWHsIeSfybrbjHvOohsSWAnekJx\n",
        "OXoFwyVXHVDNHkReoyCgEthyfIQwLmJNSTpVJPilwtXkUkYPVREwEJrCRSSgFlyUTMlzDIbhVzIsovBJ\n",
        "udHDlQwQOSYJVOBehMMGbXbURXkweyKHQLiRTXCMSTWIvcTZyuPQyTVKaFDkvquCiZYZtZwEhbALALKP\n",
        "tzMEjBzLvPPVtdkAWHibBOWeiHXTYpTkNjsqMjihHEChxHkzfFltKpDOSiODejaGFUrClhBCoeQCmdMn\n",
        "QPljxMEeSyGHBLMjYshBuFFqANBEjpezIEpaOmxRhdLGZklIcYDhvQnoCsGSWTAAPxMXrYrVwPbxWtdH\n",
        "IUojjbJpnqvIushyHhOdnMwjxajUQmevjPkHkhZIgOzBsMmqWQuXvcFMfxBVyxwJAjXVxuEZFXDKYnbJ\n",
        "UYFxFvieOiwmzpmwEHeByyVRuFWrTFESRMUmmEKdGdwyoFkEhQrSPrdynmSbiMQlgAoaqTVCLPinDnYG\n",
        "bLLxVNLWbhBOXWVgAgINWnuReZifkfauKzFznuDCxoVatdzCiLbwqSxNWXPjnSAZCdoREoEbPdAWbAAf\n",
        "kQpfVCOUAXaNjMuvBHovQEPuGUhYaRcJZKrPbiRExLmUjBvgnIFolOCUvtzDfrdVcjuHwZbHDQEgbLvc\n",
        "QroWWKtytKQbCYIQVCNqlnAghctRnKDSLjIWQYPBnAedssNOTCFGUdoNZsEUOPLjyJiOoooXMrVlFXBB\n",
        "XcGTNryNEjkFdstqurJHuBIrdSlkkYweAPYmeXSfZiYCkYCAEDjHDHTvGqDCAqFqEKHCoXNOYktyAKAY\n",
        "AVkDjLYfSneGeyBVTZexBTIAOTeeVtjHDWMByBBuwnOSdwfkUyjTbkLtqbCzcqgtEBENCkvzodBgXYTo\n",
        "ZWcHxhdxEMKAOOvkPdzcuLwibwHoDExDneNWrOpFELpJkwkwozIbeRLvPCarVzLEXjYGJPZfgquNQtjf\n",
        "uZczEOvXxOTkzflIkyeXMhTMpkZsauqZUCZHqTUaWCzDEcGDqCYWYtKOhAdzYkJwLlsODJUDawofaQhG\n",
        "ZeNzXaNJzHbxgMuqGvbEXJkVZqZcCBndTLLUkzwPyAdKbfcborPosRzOTHWHvbhBBCOwAhNuDiiHdiDc\n",
        "rhHlFeFuAedRKYqiYGAUikEwkfmUIcefnFfIaQsBOEvojMfctvrenocRNPsBHBGkVZuyEhYeFJbqdgCo\n",
        "EoudHbDnqJsyduLzNahgeXvqbSpSiWBZEpFCIGFFbDFDbzcpVUimILWSEVOqEfKuLhxZGRBjIzBQPyNJ\n",
        "PEysTPtjBcRmcdvYVvBkQtCyLdCbWWXLjbuOAJeGhbNflmEKdgEbeOoywXvWiLepktFpecGQrfzpwRwh\n",
        "rUhivlwwqBUChmdfeWsMBGAcnksaHFHNbehlKDdPPcSJeafxLMVSnDvfIDxsvNxzvWjDWGfWjRyMoSoc\n",
        "YylVJdhxYsOXkMGYpiIFOYXvSrPUafLTlXsbasLxVdBXfYSmmavmOWuKEiYIZjOzBHnNUsQplTFxlQWY\n",
        "tPctdnTdBcABexxvrrINkLuYCqAyajzspCjTaHemxpeLQzKMcQTQAVVMjBoLXRGvTrxNnrAXEMwapfqp\n",
        "mIpMLIwWCVHhZgUaneQMaEzvZVjrakAuVpkoopYUrZNXbkbxTukyyqdSLWDtdkKBYTEAlimnbVxnfegR\n",
        "HQcZmLHnhNHrrezNPVlBBZDBZIXPWNvlbWjZDDYOinhWLSwcPNdWwzxZNSflmAtwsbCVbgkkBhWDsJWZ\n",
        "YraeQlNLtbFNPoPGaJjKxAxgEZnNqBAnzDwEHFaiQXMNGLmlSnYldvlfvRLxQMMwhAUWvcxepgZrpDRe\n",
        "cPFOIEWdIApeNXYFoNPgCkyfLEXrKECXEhbSfVnwbdESNYGawhsfEwiLctYaneUsKRPAcYMgsrlGzRzm\n",
        "BrdJgXXbkNOxJonYSlbRvoFOHkjGXgVvQqFioBfLRESYYXmXWteJLKbhDoctrkOweZLKPfWzqZdpeYQG\n",
        "EmccjSPUhlROqqsYtSVJozmbmHTmNsKzTLWoPNHQwzfdeYnjPwpVKEXskdGhLYcicXEQbjcaaFGYAvJn\n",
        "fPvqcTFyuikqWCkGzuIQCRSAnimgRmEwhClewrLlbCQNtifZSyzicOXHTVyTZsEUXDeAEHZnfuuEcinH\n",
        "ENsjHEVpencEMwoupsKGjOWIKfXNUyXvEwLfgywfYEFAiJAUlIkyJHKBEnIGoldNjvtzetuJDSNLLuSr\n",
        "iQdEmwQEYIbKaKzggmqRztHJbWythxhOXQxBdxUFdHyPlFXYklctvVOsOVevnxgaeYCkQPtcelhHtdpP\n",
        "lWsmZadACOFArbbLIYSVyoILiSwhGuwuJcqqoryaCNqBFIZDQSwCYYzNxINvYBwwkPWWBeGdiXsicMTl\n",
        "KQWlKogkmkcIAQNngYcHhAhQLdLiwvnntDrWBgCFjfbWSqufRneGvgqeRaBqxGGaUgbTFFVsaCurZbfY\n",
        "zulyAAaccUGYjcCHlWoTgXJksmDlSojkFNMFxXNhAVHkmXcfqQEtDlbdmJUNBlmUYUYSvuTHCufcxBmj\n",
        "GSthaqwwunvEuRtEFObChykoVcOMUkpzRuXBOioNNkLsxmdKeRVqztCpglykodVIkRVERKYUtCNpZKRO\n",
        "RFhfAZEPmPJWqNSKDjypNVlevfXEDKqxarWSlSLWdebXUdpLiBvvznFnbLsObmcxkYJHJrVOIzxCQAmg\n",
        "BeqQRFTkBZdOtIlcfDqyVmafuDqImlHlEugaQUTSkIuciafdlUCNxXSevvNnAQJNVsVGTSoVQfyUchtv\n",
        "cInpTdlVHKpPWmrzTIgQdYNSEQGLpVwfJZdJlwdFJQhyquapucUwUljzqPNKQOBAUTRbypEDFLLhAhJQ\n",
        "RgGpLCbtqvRnGfyGABXHjUyWyOEOkBgggQlyWZovtAxrOMluxkvDXPbxoPhKfIslXwZCFSdhfyVzSXex\n",
        "jvGbixFRYaGFuHvuABItibVIEUcoalcVpRPMvftpMhAZfFktDHeRgmfjhIjWqIqfbMqNVsubsOwhfxoj\n",
        "DqcCFnkfHbqiDMjPGpfWDPELymrBPqNExgAKCvrWdlHBFGjQFNfRrMkJwcUmemKExBUPEGkvcVkgDLUK\n",
        "IVUuwJwqCtIMRHNWJFYsKLPChFsJTRvkwxOtXmcLoiffSOKwQlgNZzRwgwMDFoxWBjlwDCjUvJFnppWe\n",
        "DbHlhmlXxBoVkZPYtRLKAEsuokcFCsDcoJuVYTNiHubGnfBSdpZkHTEJscarcbMHdQLvTORVbYgcNdKb\n",
        "WtBdYfLIiyqyekaXtlRAsTWMxqaplluwAsmSPBqwpYMqjqDLvWCqgAyCIthWPsseBMguKCPFYdKVBpdP\n",
        "rOZrceDVHfsOYmrzWnwlqrRnUlJfuSpMSBQpoATWWrGGeuEmkvwaRfqgdtqjmaOlmRCUifUvsbnqvWIo\n",
        "AWKbdEhLIEWWWZLjLMHFNlYwKwaEcnlhoomPEvscobLDXeBriBmeDFhOOiLvmJnuvKxQxMfkgyXPgWHL\n",
        "kEVuavaaUGKAmLVdwZnJpNmUmuJTPUsrPgKwuVOANjKtGflYgnDLhaeSZxlPEsTCJphEJSiCuIsMbQhL\n",
        "FlgnQoRmqiJRsJFCLRWNOGeyGuflmFPqnKBFhJKROtWxoOsisrOPooOgExTLsOeyXsJryUmuWFOunjSS\n",
        "EDMnpQqyXexCQOVXxfHjmTGuKALGURUPxBcweMNyvgUkIVbcQujbMFybPYjeClgzqHoZHclWTsiTFCXg\n",
        "WIKfMRVTOoHmelBlPmSAlMahtEuMKEHhiAfyItWygQfovjBLXfmJtIMqoZPLuVzdMFMwGFSHnGqgQavM\n",
        "ojqzCbvrovLCbeZjBVqrxDcReGacQZMhUfrKCQUuKrkgpzomMJdKaPSxmfoNsPLWuvheCYMuEzSvcpxF\n",
        "DsWfQsZKXxVYUKWzxBjJnQoDXHWFRtdYOVVjZjvIgfsKdvJPmifjeZpYZVqBuwpxXFXASuJtcNAaKwom\n",
        "nEltzFeaHswezwLCEplWAMFfRufIHqBapKnGxnVaMoHOCNLhKVEcBZNJLnXXCWpahPNdKVQlSwnexjSb\n",
        "ILmjBMrxJsXvtEFAAIqcqoJYzffJgiKuVAZdliWLQOajkaoPnoxIguNTKEAWygczJldqRyKIWlaJGKvv\n",
        "TJizJOCytQXttiktYYbNbplEqroVrIoCSWpwMRrMrevOYvseqtMAYAERFZMbrawXiNyLKnYwgKWkLMlk\n",
        "NBlgOiwczdNUkLbDNPZTtECMJrAqnbPoVfLVxqxpwouGZbaBXRWITNsdpTZADBKtQfJzXgPFeFHvPHNa\n",
        "GznlYfYELxZfDuuaLfhaFyphczWVIQDmUcNDIiViXSODMXKBvRQlUoqXtSzMvATiSMmqrfOaOZZoiNXc\n",
        "XlnRcriXmwMLolCIEKSYQkRoVbSWwqeikkZKYnUcqcYVgmZlUkTdBaXjnrMZRubnXTqGmOKfFhGKeZEN\n",
        "eKFowLkascmPbcpEGvDCmFCoagymDKQGWWWrOuOIFgiztPykPEqWqXnkYwmqTxkWKLDUoXnfyGDlSVdi\n",
        "MvnPcaxDdwzBrAgCmdOOhmrCwiKLryIgrBehXwNUhTJVNPlTToJkySSHkaQolyrnqcvHeDRfdhqxhPPv\n",
        "LSPGPpEkdoIwANERseHoeiobSLZtSGgjFXFOhTMGRIFckYvVIPMdskUyglwRIolveTpRKUlvjmKEpynu\n",
        "QOOcxdaBBHJgxZoQWAjaJKNDsXSDeVfwMzgSrQabQbqDeVUTprVAYToUOWqecHnJvHprCTSnwcWefwbG\n",
        "URVvuHolXmDoJGvQcMAlnjWviqXXElYsAUlpnaSBVtvqUMTGTHhjPVWVvucYMYcpOiZyKWujCCbAYQxA\n",
        "havaVTVjXyUmBuEqyjAXnFDWbVUwkCWLZLCIrGgbwkEdrvuufZeOSSoWETHDwKmUdQixOPoPlipMCJOb\n",
        "RsdqcRuhTdukKHLVSTZqwpMbtMiqVHPICekBuKHveBDzWfPYRhuEKeeRGEbYaGtnhVulPghaoOrTcdTq\n",
        "flgKpTNcgggZTCfkNHPRNZVveBmrUtGgxwkUastoXlfMxfcPKXBUIeShQDNiiIHMsKoGmpXfXzHXShzO\n",
        "AKejiEhEVkjFgUoJOVGfsYGJEOPdGAaUsBOxVZBwyYwiKpMiFXZXuMtuTseyavSHvjMqlCrEuaNfdywR\n",
        "yiurnchTGKPQQgYakUekONfGiIJhfCdtKjwZKgPWFeYnBiifBpSyvgDrMFHIpxdqxEbutkmiSIUFKBAf\n",
        "vcrjILUjyYFcdGCEajRQTfyWqezfDkoOlsYmxYXBNkzsIQnjiqnKUBzGeocLTYbPoqpTPsgNxzzfjpfO\n",
        "BokfghaJXjqkfcyMflnkvbGvsRTFMRBYHTztdMuFsbYAeMRNEsAHOFmSwUhpTssyXkhBBpZVDIqkQkth\n",
        "KPMrOaDcarJuLsOzTowjpjEawsmPklWyPuCEPclNQaCTQRUmXICQjZMBPrOwNrixJrufiYWYlwumXPgx\n",
        "pYzbgdKBFPGLoJCJSwYQsxjKSuWaWPgRCaaWmnhSzRhEcgnSzzHpozQuoRglRMWYoaFDDsjUqVbXEhcQ\n",
        "nVmkeFacKdHbsUqlHyDqsCYPWQRYFWloKKOxsudeRTnLdMhrVPhktToDPZZxpXVrQOTlAeULyGTMZPeb\n",
        "yGYOpAHrIHmDXkzpkzNlXPmRepQIXqOJGPzuHWFGGLDZLxtHAHmujfvplrOiLVoTLrFMOHFBVqETxzWR\n",
        "VWyHqIsnEHrlCRSHypLtIVSeCQbdGAPlflTkzEUhugBdOyKlPrToEACfmkbYAuDlMOFlRntImtzxfmFN\n",
        "uOmEEQsxxBWqcWdOyhLuCOPUdkLuynBsyRdSeIFCKXAORTonhJKCykDwBrnKzDsfDtWGBdFXdNPWhocv\n",
        "pvsyITRRgBbrApZerQAhHITbyWJxCxYMlKluPBcZvqsqEKIDCaVuDaFHCbXEcIxzKQIROawplvYEfwhy\n",
        "iwiUMaQGoEsGwcjutwTcvsYNZQtPENxAtJnQzWTfFKufOMCxeSNVdTAgyYePHjjyuVtKsZXHQQJMSmCW\n",
        "ZFnzyrKEwmWrKFedevEgAydYgCHiwiyKAguXaZeTzZhmJLViPrLlbvSHpbudaQGaLFMEnhPZbxYWknCH\n",
        "exvftTUIqExaEfXKOlxSytHhhJeQfwTLRzTlunGBWmUxBfuVXpjeQraRCVWxgywscdltmTbBcxFVzcyy\n",
        "ZCagaqIpNfOADGtwWBsPCTcUEwKxhTeaKwJCCGiXRaBYvbpYVDLwwyvKvgHNPhhznMgCXvvwoxJQrjkh\n",
        "fjarEWgBehnCLXKSHUuCBPwPSkLzHlHiffKuvHhgilwPSdzlGsWOuHZiuKbdjttMYDrRlIyfqfLOKENp\n",
        "mwkniBQjFIPmsQaInrjsugIIuXJbxZAdcUDqzXsdpFyhcpowmyRKNJapNskTOixMHnMlFpgHwgYvvAfF\n",
        "pGjLaGFgyHOBIOwDFrKzqjSbYtjsVcGouyNbrRJapyNXbSwugcUaUMBKNHHvZCzXxxaWOHMtEaqbnxQN\n",
        "FzqNhhbKrTvCAyojELAfULKXosOgAbFHbmqZPbuJxbrDblfiBaTamHYQYAndeSSPGUkEqArXTQqhYAJY\n",
        "LznCOiKaDVMBDOPIochwRckSZnwFPdaZcFTIpEczuUTflPjkImWrbcQKMmNyPXIoGZtMjUnGSzTUgnON\n",
        "JuxPHNTvZWbrJKcWKJIoNFQbyakwWhaMhdmJKBxIqCHawWIscvanrrLLQduhGDgvfqHqptTZNFcquaNI\n",
        "heweaGAFjexWUvIszXxnnOjthuxAXztupuHojgesvkaJDPLEPTJNPPxDCDQFCngVnKYDHbOQkFTYFkme\n",
        "MZLHLITtVnfpbjqFbGAhKsxqnMJALeSfUVIecykZGTJWHOqTOovPIRTFJjRNcgRKQuvqGmSpPUmgSqcH\n",
        "wmHVyFeERCOlfOolTqcBJidHujeMLzrETucooOVDlHKnlWPystGRwUKAOtysSnmqhCCnJmvANMMiihtx\n",
        "pqRrhZOvlbZCgkpnrgaLpJRqUQrUrxLHiznEItrgWQekyuOolWFpFvJZhntKSdNfUMUYVDMJRhYSsaFM\n",
        "QscNPABsmZsSFtIMItyLRZKjJmpjdOirMyocIQPQOGRnpEMnrqpkhrIurLqukILkcRLGMOmryHHfJvlt\n",
        "pZvGmEdfIuwMFnfYKMhWqixWDXwhHOAIvBSXzqBelMlzIYtCLqSonFvtknAmqsUqcMHizFvCWrxQlowp\n",
        "ClSoCxwLbBndOeEOXuouRDPRQHeMaICUYdPZyGBmCUMuiZkgHbEWfzxmDGcdxHoiVVTQIHNiaMANkyjj\n",
        "IjsqjybwhyBRlvuDuLkpJdCZRaKrlDnbNzvYYlhEcgTFfcJFIdOIfDFdaHKynNciLQnyGdgoQwgRHWRx\n",
        "NuwBHTrZEvsQjDPinPntkBWZzkctuDXgwyZkmaxMNbqZGLNiSLcJZEJRmsdCRchNdqhzrmUgrLBNabgg\n",
        "IPRYPHcWIzSZwVsquDwhmlbHUeKyqPZKLhdeUUhEhJTRpCEVLEdaRXczhlDRAffkQBIWGvWHPPKkjTaE\n",
        "jXfLJQRIjuyebFisNjIufjXIycVKRJcaxFEKsyoSQbgcMgLsVYXsMqTfZDYAUZoWpAFWBCSGHNAfnQeM\n",
        "LnSGwKcxOSsyqwwuqYMFNlpwsRGWuTAoMujZaxNfEqrTEMWTzwIhYZGvYCcwXtPpxZlBIayyVSfPqHbe\n",
        "BJFFtRXruZOQLBkLUjOVFchJucgVgjqFrTCjRLVQQoigrDRrnxTsHmAyDHldLFzvtOfguWfHzJXaIZcr\n",
        "eUwMOFcXWjCqrduxpfXrukaRjGsfvUWQnxoZuYfzSIldHuZbpTvUVjkRFJnJMgncxKFSNnXpCApwgcTk\n",
        "sHYOZPLTWNLeRpDlrLSpRzPHYHctMNbODkXqLAFjLobAjnzOTwmhlnFZwmJLJhCwQhSvZpXUNpROGUxk\n",
        "ZtnUEvDieFVZCwMLhFCGdUpLoylIZXmLoziehtmmgrHHsdxNdaEkWuxKUAFrfVzEXhbwhCxoSYratFsK\n",
        "eWpACrEsMGGGZGIsxxscqkEyILkiZtgHCPiIwdLJyxmEESUPkTgvcjShRqNZBjPofEhlOJYWbOuVpdnK\n",
        "DWiKYvaLGJwqGSNTKvhFBiUhNaFgDuIkmfHzXbfrEsBkZUOrHjlZPVDXZLTaTwhYbdxaPzeOZltLeXEz\n",
        "wJrxojiZklhyGbpmTUTGRDBjyYKJfqwRxGmTJocpfJEWLPYeVdjAkbqnLpQzzUPlvsHkbbOeOeEQWkrR\n",
        "rKMDOGUaeZzRpqktMEExzosREwLoureyZKUodbrRTchwlAwGDIvJhpzoJLgeXbMsrmepqCjtTPDpVlNq\n",
        "oAFrTJNMvgjfQzJAQwXXhxRzbwuyvLeJlUgMgMRCXjXKHENNDkslXLdnkRwDtGaCsNCJurrWaHOHAOYp\n",
        "BOBylBecTKKAVxgEUkFkGlVnsSKXYYeWZaFcZBErXHqgebvFvRqrFvgFNOztvSeWzdODZmvDNfCcWwcE\n",
        "AFahUlhbARRKkWXCZmbXOOCRFMsFobcDoHfrTDoskEKCrxrRgOqxUAYDjxytCeOwTNtqWjrXjenaLbYB\n",
        "wnbdfGwuossdiQtkBZxgivjldNOsBvVtVlGYDdXCbBFLCwRDuzzlitWbvsFNXGgETOKbyYBWbjqnLWGw\n",
        "mcQeNrOxtXRlPfbCLwHcAXdrIdNzuYghOIVCCiLRQtYdNgBKRNzKjkeAKCozsnMqZUHNBcwVvTkTXjJP\n",
        "cvQPOCmiefawwenfMLzuABCLMADMnOVmOEjeVCJaEWZBWUzZFnujQKQghcoONRYZelwjjGgbcsxnJsMA\n",
        "wgFxLloLAQRdDJuDICZJGkwAfBcwnMRKabOZdXwRXrXRJuwtloDStUAhJUVQeKlWTuypsqEQUQqLaBwF\n",
        "ThyfBEVodGAumZxZchMFINuBUcSidnQHmUrYGCQBbpJqUngyXABXyWKkdxCeTNuYkvotLrAJCMnfTazB\n",
        "dsXXkuNuQAgPuVPGqrZFfyCBnhIyBbbsyRTaKrOiqtVGQqcjsaMePEOUAmRlOjwTUHGxGawTNodzwFZL\n",
        "ZPfqYvfEiytWRdmdIGUHqKJByaGpYEutLvKmkRpPJcvLTWgRFXQoKSLeidFWuftZSZCezymCQLQJfSMM\n",
        "pfJwFwEtuWfnoppbEqJByAhhHNmiYZBRowXXBCrOBWhxZFDbDgOxOsGtUblQDsLPUBhuFGhgDkzjzZDi\n",
        "MYjBGubJswQrITThMFaUQxrWTmwxzttWlooZhSaRmNfLixGnvZOxWLyMrGeClehUvjbeUFeJJeRmgQgM\n",
        "yeVhbberBaSRbWkeVgOaCzdvAHusWYdhAZJAhSERyLTCWEbnuIauyVbHCZKhjiotYEoUmyiUUotIJcpz\n",
        "eAkpyeuVNsCJdcUgLHarCHcltNIfOILYMmFgAJpZXGkHTqpnMOPRmgQpQyXRBXgSkXxXiySGVKskgNGw\n",
        "PRFYdYxURZShvAvbyEnLZuDjoYKaVrkeApoJFwdAXzQquXScGROqCsFIhpHdUgzqPOUEymrJBvmJzhwY\n",
        "mclwEUbTlMupnyjkokkIMOoItEJgrMHiHonCzimoEHAChByfckGlWpPhmHwEKuFpBpjlWSGefDptjCzB\n",
        "IQnaXZHvTAhMvCewaUGHLCmBdBmnHvcCWVMClIytCNFzmOwHCZYuFTFGTvjtrDYSMmxVCFnqiLQCMdyZ\n",
        "HryFnOlSmwZkPczQqfMaFUuRkEhSemEiyfTaGiEsnxjxMPAsxPAcUDTGfQHQzMvHLjBTpuBBYWQvAjuX\n",
        "JGHPZqSlfaWhBmUzqCOWptPBfuHxWthbFgVeteEjoOqzfmTDbrKkypaLgWiuJyRctvXmrqhbNGbQXHlK\n",
        "kzJiKwTIFrWNrzqcctggzxqmlkTLkVaWHMXaLkEooqytahsCjbKhOpyQXzMxLCiWhZKkEtrZOPqQhyNx\n",
        "cYbpKJdCgmDcXjFwCLOhOGkxfLueOSiNgdUsVKfSEZWAgMNdovAcojlflnLALtjrQsjVyqQkRxQmXKTW\n",
        "sVOstMHtXzITGITijNnjbKZmsTPqhItXprvHHhzLTlcAaiTfKbPSeNVyFizDgoLDknFRwiBqySTbduNu\n",
        "rrCJnsYZrpjHpeYKbcxrMlVGSTjiXscGOgEglFBylficsdTsavLHVkgZnheiWWgrAlEukEvEwgDahhiq\n",
        "dNnBkEKCrfDOBDaoFsFNzmVUPUDGGONcdzlEoEsWhiwaRSwfeRKrlAxqrNpQIAfKuXZROuNcurIMvxrh\n",
        "mFowHLDOaqNqZPvKdkuWSKEMVxNDFlbelNJBPwmgMkROMfNdBrmLBIohvtKPMWtMOfeAgHjvtzPseJsM\n",
        "cObmQyceOPtyzymbLQzzIrrqvzJiHjIanBYnlLrBqIRbdOWmXuGzSTHxGXDYQsmUZnSdxVHiCjgDBgCE\n",
        "HnTolheHbDxtWrOhrvmleIsDISFBSQPBPcBRryfhrinomFPZgpsHDeSuauvOfJHBHZIBklFYXgDpfhRD\n",
        "NceoGRHFjNfXLsKwbPiNYVmSiHhpJTklzrfvFKvgYKKIgmzCZlrGbRsaLvrixcCrTONHXdahQlxlmgfZ\n",
        "VDFKLdLhdFfBZhDkDbVEWUMmMenSuCxHMPxaqRuyZErmRWpwNTmJRMedlVmVNDwuxlJOJWERGrdDRluI\n",
        "nRGhWyZTOYAfjOcKowuUMBBJVYdQEDTJtKNrixBeVRFDZbuMsdXXMgzevVdORZHPStGdmmnjWAdoLZpv\n",
        "xHuyEhrkeZAjtaCOrEnlpcAWTKrSVcCAmewKEiPSgDGVgkoKyTJCoPcxzCIehMAtOloHKgWoRRgdtaBB\n",
        "aUufWeBKffvpblljFrKtXuYnCDOPxZdWtpvxbsJhdHezcZSklrMOrBwuLWlrkCbRpkanoKvjfPEBwGkc\n",
        "AWZhELmWSbuKxkaZugdKqPCJerARefKsNNEEdnfXNdbPsjxaXXJWexQdnpWijjIelTJknKBnFkkjMYsk\n",
        "TxMqZWtNOQrYcFdIXyreIoBqSVnUehiUbvDLPFJSWdzyJdjHHwhsPHJUOmLpGmrFWQnNPMSTHSMlmzjn\n",
        "EHtolDspTvixNgIiPeboMfjkeNJBqNDkfxRYvHqlCvVnWQivUjONelWVTmjjzPreCzouYzTERCWvzHXt\n",
        "IkbkjmLMFLEpTNhdCStSkZhCKUEctGdlmJAGnFwcreUVSejyuLJqLPZuTcAFiKegcoIernlFnFkVLQZd\n",
        "pxrpeYXPQCDhzOmSyPmCeaoIHcNjJGGmeEoatsDdBqXelOvGumNFhQlYkUlILuNBcfXgxJcBJDNeyIVZ\n",
        "ZtQhbUthfjxxZbzRdeQkryZJCdJiPnOecOtBkNZOwzmgbLyihjzZZkqdsGshytVLEXQjHraVHaEpOMdJ\n",
        "FkuAZcnoukIDuykWrJvdEeXdUDWOIuYkFywAqiJuaLTDKAZZpFuEsdAEaGFYLttDZixmWOWowTgsCJKN\n",
        "CyYGkENeYxrwgFlqXWgOOBqUxsTQULVGQRjMHXhAMgzrwMYtqTFklODrpjCIQwkOUmrBLWgpZwmBxQYu\n",
        "gXAENoraNHzNXWstRvYVveZanZRhIeMswqabSvRCepBdPygrVYLkxjFbMqDEqYBccIYRiDGEJswYpVQg\n",
        "WgdnTwFTwptxtZQZILDwEWYHLtDpVnVsGxuvhctpxFmoZZAqhrHrhFKdxfPkBAvJKQqkurBgdYrVxqDx\n",
        "BBoQVkKnYYjIYCgHZxhAIGhIsuCmruEQtcVWoHiVDhwWkFjOUZpnwARiEtLcZtfdDoxGjjGHGgcmFnYH\n",
        "hlNCoKsvMIFhpjqnwgeCxjtBjLodYThifoKnwJbRaWbbDHoMbbSHmBkqMEDmmNhDVaHcqLxJdxhDxUWz\n",
        "flimSFSAOlLTckPCJWDkIxNGSQNXlHkFoeopmaTXLqkAlsyOUiJWyAjihbQhDMxEbXSOzpeorMFOLGis\n",
        "TWdttIjEFvcfTHVnjHfrDSAaBRyhflKahVYKQEVFZtWQSGzXhalPxGwKWpSrCiXdkspocMJiAigcOXiy\n",
        "EFZYRLALfWODYRsRjmQUNjqJBLNAYzwqGyApLuXzvjaOhTIALXgkzRqcTJmtueFCuNqSiMdtOoJqgmZT\n",
        "keMafLhquyuZIgdRuspLtERMFpoHIllbmlzTPOKHiVCpthOCXnssYHEzHcmdrFHSqCBqSbOkQuxovtNi\n",
        "ljfUQaPwRNlmnLZlTzZhWavCrPFbYeMLGUYukhXzWJPBqLytnKYxfqHuFYpBtjgbeubgJpCbqZVkNxiL\n",
        "AgybmRgELdIEpILHRxbeKHHDRAafaRpFfWmYeXreLXtgXOiJjytHhHWlUfRnPmUEMazlgjYvucviIbsW\n",
        "iNmYOoBeoAaXRKoyzcIxeRbGSTAqEQTsclYQqMzxrKgDLGICIFUMRVNNuPAEuVtbZfSJfxQwbCZlyztd\n",
        "AtdSkmXzYEvUyPiCXXttZNiqtyNJrcpVaoUPrpXAYQhPQjiPbUluyVmIgdUtRhDqhptyhchqeBdpnbYU\n",
        "qZOMcBYuvZwtKlQXyBANBOYRqOyFdoXaYYxmQxYJsvhTTpgSJeWtrUsNvSbiOUINLMZFZLyHLlXPsVKN\n",
        "NDbxPucgDmYprCzjUuqunKEGylyhBHFuXPgawpMQLswFQTRCKQsBRPuFWwEszAghkKcYtVUGbbzhdybj\n",
        "jeKEgkJfoBgyFXueTgQgzZlEhdfCkFrKpDlmnwEMbpflDZFARHhapcEljtBsUAsDXcdikNGYdsvcZLYb\n",
        "ovSJQVKOrbdhRQwSrzXAZOOvsbHAtvrsxPPfGxJnOlqVLYGAAsvcASUkCcZevLNzvqJYVDzqiVKqHNqY\n",
        "nldPsiliVeyfEWZxVqBhdqWDjEUQKnNzuhRsLxkNVAxDieBfFHyjSSgFvGbvIOkzJEUqTnQyibmzJAGs\n",
        "nmUKGXqTiRdzxsZhpuRkhykVusNTrPbtRdRWzbAlaipsJfjHGUyexGMuXcyLdySSxvmngSYUNiZxdrPk\n",
        "xmDgeXeFiZmDHmtxGHMUrjttdtaaPqjvTCOPbIJWHJBvbdfEZruECEJRHuqKkaecyIIcdwBIbSBXdxLF\n",
        "ofrlqhoBHWYiumhSOdrxAAdSeNBkQyOJERfDTmIDpgXlvepjkNUWEssgsTuvDvBtDowNkwiGXpxpZSrH\n",
        "ZmUtANTNukfCEfnREMkxncPqAizRnFVgkyfZefFrZewmDcAYsFUHcmNHXDlNMdzpHSewbvDyIncJzdrJ\n",
        "xbXLWkLNUQdUZJjlZdjwaKUIaSxHrImLUJYFczFuzeGgbPlaLSTREQwdZltNbMAulDyDBVQdAzMSNyfH\n",
        "gclyPfhaUJGqnTzxGJcBTxOyClorHTNPCkVJgaIaHAbvyGmcgtujOdjmmmXLIBISNnSuGbPGeXVoJxCY\n",
        "AEWxCFtPHvFknjsoQmBAMwkkfDTKxfhKdJbOxRaGdpLYqpUGkRTCfbTuHITfsUKrWWacqutQgBkRzOFb\n",
        "XflfbaZlOhFWOFFyaeBbNkSTpqKnVgbHmCVHBBeGLOMKAtkPlAtjfcRBfbyQLvHbGBdqwlMBOsDcEwOP\n",
        "CPJabSwczueGkDajhOWsnvFxKxFKlSKgLAzpduKIjNukqPfEqPNtQwGoEsubTnvRlZCWntYdkVLkWijC\n",
        "rRdVYbkMNwpfuXKKekNdwzNyCSpimspHaPoqVjcESkHHZuQuSwwIlUhAtHYDKMABaVFAFoVxYSIkKXLX\n",
        "MmntPRuOrTvNBWOBXkkOVkIRxIbayiSRUZhIZtuhWbsonBSQkRsUiemSQCDfuTHPzlCJIuGqBqxNuXWQ\n",
        "hwYpwOPxTgqKoTwirtUUhIojILVjdANJgCDuGynhKzjbWUkZbtAIwedrwyFdnKFZaMLhvipxvHrHtGoj\n",
        "TfLUoqtphXtIUdaUvjygVkJhPpIErGfRRSzPcfouqUjwbQrLbxtSbzxuIYHTBgfTidekGvkTmZhOvKoO\n",
        "PtztXvkQbZFWjacZxJihpegxlfcJrxFUwdXOFRVKsZJwvmUZQiackwRbaDohkYfEEWYOWuZNFCShsbfq\n",
        "TYGRrzBaLlgsXpzbGHbQtxUqjKQZMhBIpvZCYWLdQkziEvOCANkcMNmwSWztWFiihhMqDXZLZASGQTHI\n",
        "BEhbGwtWQxhhXRqBtWiuFnjCFknAiJwYbtCjNxeuoXfsoXeXjAnrXWDEbvaBeLoKGCjpUYbMlNaDuFTK\n",
        "afCRrAqAEGTddsmKJgqdcquDHKtxFdORzwtJOVNqyDWxHpnnVxtfHuMBweCAtwSgNuToBRRGMUpMcvGl\n",
        "KkvRnQkzbpRBlrqhuyeYavLQltsAPaDTghPgDWzMRaXtLJBNHSkycecxyFnDopmtPGrOZabZXhRRYcna\n",
        "TDxKjNkjbHoWFmkvBzTAQTfzSQINLPraUlaAyltPebRctgIuDnBmtpDuMmKVaVtIkQgRKhHpMXttSWXu\n",
        "KkYAYISniXSAJcBiAjtRwrveFIVLUlxNdlYJzTVgfUdVAeipZdrOvFrsEmumeHcJReiBLHRvUKzZFUjd\n",
        "frTpYkMtWsuvMBCOIrmcQhbaMTsowegfVlShmfGWrdbryJYghmUkFgwKDkPKJNKLmGfBHWWyMzWijCBF\n",
        "RXUzkpgMUAVhMaoFcNNviyczaJDtMLlCwGGAhoFMtWrCzKQXBnIDGMavgTKMuXfiDxZSNsTHvGkjCpEM\n",
        "DJqDLHQEelpRESsotretqQlaCFcKfbLucYAcnvZOfZsnQEbEEUicuZTqilOWAkxDXsgeIFhmDNAFjMTZ\n",
        "eOCCCrCzIjBamCgcNRCPsqPiYSOteeXlBmZenXwLRCCDXXcnRVwtoUZIoUopvheMXrnbhCXIdeeTnKjV\n",
        "kxmnQLfHEXbstWHKgLmVjKJnfEKDNemnyEHuVDuIxZNSklduFYmpNasPEqvkjMDUbWvbDhEgHzEOnAHb\n",
        "gJuRfSNaIbioQSkwKuCnicnXpTPcRBLSVtbsWbblkJENhqXLncMouXaAgnKqProBtZIdWgcmuAKucgdf\n",
        "yzRGifXBbebycfzsNodbddTOZoECnZERNAXHbVdciACajXLIkmuSyMhNgyMAVMgBDRNFTZhZVsrBwJmA\n",
        "iFXPoUhRkIAnJtZDHsfoOmZRKnZQnEUwviymPmIwzzVsOPaggPjPBtncSxEPssBiAYJFhjMuMqpiqxnZ\n",
        "wiGgYFVmUiNnnFgrhqedeBetrPClIqBXaiLaVnGfFfQpsTzAtoIvnPRbdnwJYHqwxuIOjldRgbBOkeel\n",
        "XuHhbzSuqSgzcKmmDozBfBcvtOobVrYtIQjeKtfrsDJVTAFhZwzFiGeFUYzwapkZpIhulaMimVJWBdZE\n",
        "LmloQfTyZbKmJEABkHBQfSDAFRMvzIujzLFjaeJKJdfzunwOwflPEmGmtHOYWFJOzZntOuYqcLSytCFE\n",
        "AZTqXQaEXKNlambxgbwAQxmxfonKYsNGVwosbroNCcHkeGpGmhkinSYfwVukZDqZtYjFDQeoTQlasGSH\n",
        "SHdGaolAvrNnFdtjmvtgummmhnGqcCBMWzqBJLiSGlYOVxGqzRJiHHueumcrtMRQSsyOVnDTNLCJQaqI\n",
        "PGBJVMnJRZndsBIhZUuIUeuCPUlYlZwmvEAhkynKYpCzUsrlKHvbngAiYbtUTSVHTyoVgkKPdsATKIEK\n",
        "SkbCxuIWFDgbqpMUviAImxdxSXUBHuaSwSSWOPzedKwyJrkUPUZusKhURriWIzLvNpupMVhJGjFTTfew\n",
        "TMxYYHWbzyuZAAvLiUymbImOgGmraJyMkRAKgsSFPteZARkoKssVZrURkLbFuOjSRHncnBxAACVWNTdH\n",
        "DYNEIYoHmaQQYlMGefSRSFRbIOsMuycsecjbpcZWycsclTKaNfXKlxTubYtdbEitdrngNDSCYoPiNRsa\n",
        "yYsXUYWpXENADQDnyZqqaySICWcoKdcNKuLweQSGnVHidhbeQXzpuHmAWgHQIFbyUPfuvifRFPoSRrFs\n",
        "FrDIqzKXJkchDRJibybpANPyoXWDTOTyYbUhMEEMzjxqhzeBIANgtKLBvgaMXsqHEPeIOgAnzIKbpAZE\n",
        "NCKBcZVzlWFtvgQJVuuGTQNiEzpkdnuMhJJDpkCHaQalnjMGPayxLIcKvFfZtHlMsXTGyBYzVmyGzROR\n",
        "HAwUDDTYEUcRbrhFpuPNpXsWrxJfKVWFVZDllEXQURBRmPkQfBJrqfgFQfeOhdQYQJZGXskbCkoQoSny\n",
        "uWdYxPvBgGqQluzzVklAclUnHamMdQojTKWPIvCTphXfJoDCkoXzPyjpeOKAodpKBTCbkPRfXzBOcznX\n",
        "RzTjhIJpcjKqgZmpgTYdCJAwaXaClNvyLJUxrwpxmfxShhzgRZfUbIBjbjmxhcwkewOmruvbnruxqWDa\n",
        "sixtEBTXiTrJlFugJJinVkkbhLmqsFopbYvgaGJegniJJOgknCaJuCFNXIwbFotMMJUVKMfQoqwKQbEt\n",
        "rxTDvddaNYhKaOHnbfzBZrMfPabRiEgkkzFDSdIsjwJtucgGrFXmNQPyxDdLoXwEoGzjOcJqJqeWYeba\n",
        "hZEBQZbQsGfYVsnSeMDZmeiYgmkllkQfQXjcPdYiVxcGVYfKIwWFDVHiwMFBnoZvnbIcYzRoervPZnju\n",
        "lBhqnjWTWmZieBzFqNFKwvvLQoFIQQlyJrtzQjhXaPqjtSoOooOSLbwGcdIqEoRcFofGqpWuBHimHjMs\n",
        "cgkcPJwZESJDiEWKKCvTyfgfNDwzVxZDuexFakhSaFgarHAuOtUqkKarAxjujOmmcHWfxkxoNJarLSoU\n",
        "VfCSDjtqsOXnexZKpEcwPvJZTBzgzcRZIjyrDnuCcXCFHbQNVUuKTCSUstxWfXBgKkDnIPowwPosDqIW\n",
        "UflGbydDSoRVYyNtOwKpaqDVPHRbLvCWcfUbFjYJWsHDkORzNIVkxzyQhJdOcwhUJGbpncoFReZNIlXO\n",
        "HQGadzRlBtRdzNPwEcMcVHpEmosfJeMlcmUALSilogxornUjWPBjVYxRUYteNsDkIUEUbtzhDoTPdpna\n",
        "okZSAjyeUwNKoFrcxJfrXOLzEDazaKyxvUIFjmiYsHePkZPayXnyPvMbDKEsLrMOJJeuuELSRdXrVyHp\n",
        "SsYjzTfACZPVMAYhWLwDTlSNUfzmzZLPNFmNoVHmUPKwmdgMHKvbjcufGLOFwQTzZyIPNZwBljvYwFjL\n",
        "wcoEXGbqiTFDXcjKsRgicztajZzrSeNvZjoydUMsNGwnTwzPCBEkSHGSCJXKLhPplmIOTzOvjQsGiFBH\n",
        "sdBaoGkkdLOaObgPAyqMpUvoGfFlvKnArVWuwUJekySUCGWLIWWOlYJWwxTkCpnWBgBcnHeMaSRBFSOK\n",
        "nVhNrwZNxjCjPZNjVyLyThRjnvlKldpgECgTRjdTiMqXTOVnqMEDfmIIaQxpbytpVzXhRWnwloOzYDXi\n",
        "SsFDvXPpnfulMXaZjwTgnGxrnFGCCMfcPYKeiLFoOYreCjNTmfEdQCYdoabjvoQufwUUftsdVdYtMlJB\n",
        "qwUJyiADXjiHDQvndwoGCOECRWlaXUBHNHepxIjGtJRejrqDAFgjPsArSkIhvtNBUMCKmAlQywQPEuuC\n",
        "hCdRWLWxwUwtyhphbErjUZnJvOsnmIsxEiMDDIzGxKEARRewxtETJYlDJektjfQwpbJgtvanXrMhpmvd\n",
        "QIntdsMYGhzoTuJQfDXDAdTfsheoDwLUISKOgMOEuBEsqWOHXNaaToFQQVLwvigmQhEWEffdeyVKrCbk\n",
        "DYQUQgWwSGoGuGmDjYEeBQahhipyQXJbqJkUUNsbwobfzfPUjjuSGKIhCZanHnzbtgnSqKpfJBlStqOk\n",
        "JPBlhGfOTvDrCgQvTwLwEkogLOjpBjdwEwleYCNTXGUjJLATDkcXUopjWEGwAomFwUEzkXtYKwYukuuS\n",
        "hlhqhihmVzPlqyPNjFWRedXXQVkXOtNSbwAGdFQLDFZTxibWASOhWRbxWCizLDdzHpgUwtrhcDIeESYX\n",
        "wNAfRPxbofPXpBPANLUXMOYGoCZHefDAiHUXiMPaqpMdYpRGHKdeednbfKHGQWGFkZbDMgeAHJWRKohF\n",
        "iwDVSwFFmlVCQuZNTHXgWZSxtKKLisWwwxafCkkLRSfOTkhbKMEFDDXToWawltijrQCkaVVqMzJQrICX\n",
        "DYbGkUJdrcCWZTIGnHUGKBJOqAxvaZUremrQZcxjjrGxBAGUhEFgmvMTuyflbxmKkFbPZeIlyJokhOuw\n",
        "lilNcuroVrgXztBJAnSiuNMINVNzCgyOnPQJbYTfRVGRTWIgjMEBaQaqpQzIdWYxdXkMHyRyGaRMaCsy\n",
        "MtTOQxEcUeJEHKYBvttazNoUOptWPoFNrWCYLhycdyfVFjWBhOGdttXtNNvgveLzmYETGLYsTuSRNCEa\n",
        "pvPRpGeRryZQqBuKXawVCIItNiLkktYPKAHTAuoOppIaYgsknygaekIOoFjBdetJebiwDGnCbdYIsccf\n",
        "XBgFHEdGngqOXNADuTZiAeYINSKMTtukaAiZxzJyMJKpINovrsjkhFQZRlzEojHntqpGsJBwpSaPhXSl\n",
        "hgJHLiUjrypyXVozSpPXxYglZIfNFEWmKueGabBdrtNOoEgxtuaEtdipNsANDcIqZjzcIZUwhlruHrJO\n",
        "wyIPNuPiAiRBVZZNzyXGPewgyyxbmIclvDkFRjSHmdyTjimyDAxdSxymSZaCsZujocnerXugCXOmaHzg\n",
        "SmmxZEaRGedelRxhjvgjLLpVAHHcmQysLHuqpzmLoRxtlDhqMTQkHkibjFOamfGQzpXsgAlLmBOMFyIx\n",
        "onXjCNYEGleGscSFhGHTRSDCsxaJSziHHtTYjWxyNAUCICdMhmqUEHuwSlMryhNBfUUspCBRsBJhJrPS\n",
        "albZiamExIwCYOEvnapHTGGexXscpxMJqOnxzRVLvlfsSpWpBFxBddEpMqxYetzJYQlXroLtjWKEoudF\n",
        "IUbokJsHaJdjfLUettuLSULGMEiHOIPMVCmpAwwAaKyppwjQVoDtOIRnvcEQAThesLvbZnxLjWnXWlKj\n",
        "EAxmkQHwKtMbQqqJstwGVcQWmwhqGLEqRQqhHnrcdYagYEOuhfKddsDpLfylTwcqjgiEFccZIkgXfaQN\n",
        "xszANNQUSNnPbooeuEPJMqFqvFUCuDqyJlCBOGJthIelesaQBAoUbVZrSxKAOjeQNwUuhtJtUpYIXAsd\n",
        "rdnzDBJPidGjpGKIPNutRXUdJTmzXkZrOgCFmNnxZreXUYRDLQjYQmIMenNFNFbpCGDodCLqtyOzOTLi\n",
        "qKROBOVNzgVnHJvSiXQjDNPsDQvIXzvZlFiRMhcAETuxYYbQTcPHZvJAMGwuqAzLLeSdJPmLhhWoujjg\n",
        "AXNelLZoiXBkvxeBJFOGlSRwewAWAWZjctoEtsaFawCUBroNhnhBviwxpyRrNYQYImYAqaRzCvblUqeb\n",
        "ieujEvpQfpUCAbWvzaTkXnTPzqloFdhwkWAzyjwqTzfLmXtEKnlciwscUoZsVKhFiiANEnsgyUMOLnoe\n",
        "UkABeCiYZnkkCoACCcEfImhATnPqXftWyhSEcNmYJQSoWJmehZWANTfRqwgZcZStEBHgwlBKKuYlmTlV\n",
        "BLMhVIPBkFyvuQujgOBWAiSdUlxtrlZvsPJcSrFIJvwMEpypIfYlVDTguMsTTxujToYDHwYfSvVzodPe\n",
        "DDRBeXSmMNrHVQWysdqwpKAIYyiYlVjjWjoAPQABdicNUnceTuPwaqNkGMpgRBMMDFAgZAGiLQZxKpKh\n",
        "xzUlHLtzvAeSgRPsFrMKAfHyuMcCcXEHDxVQPfuCXdWcDyJDWCKVSbSPxSVBjnJytjdExoAMqpjJxxPn\n",
        "ZtBMNeMvzygyIcfgFbThHOSLQSJsXUFgcvbtObeLHhFZCzlVrFQeMpXnTqEuDOwcZEIOIJRfpbWSZEYd\n",
        "bCrpHPfZHlByHpjPCIYnXKCjaBHXvtTHROfDhszRoTHRyyBQYXrZVnHQHmvrNKxtbamSKyhsolOPYkGE\n",
        "yshRqNrguVDJrXvpUqirnzpwsmECVXMXrbbayVFRxAdCeEUUTDWKGvMBmWSGlhztpbjsxGMajqAleHcD\n",
        "FZVGDdNwTshssDSPBCUeKMQgvTPPFgDZsOZyuobmqPijkbWMURWHWtciqMPbsJjyRVYOlBgYndyRxZYa\n",
        "dBPxlcgwxnwHhctIClTeOMYQkHTSWCFrrKdqLasQnzrRyROVbgOlrThGjNLKxyjDfeFCMHvgQDfwXiUs\n",
        "AoZWOEAqZwCJNQgpiECrXaGzRjzfVZKJqsdSyPyNRxGdEyIlZrgEbpgLUYxoDNkCYQGQOEotuQYLtlVE\n",
        "ChyfPiAhzRUdSJFBNgdACBnJzvjsWDhjghlMvxmpXPymIXKuNhfBtByNmGsgTvocHrRTJsjFVXLhCLsf\n",
        "sDdVmJXvhIMteIxIqubBYSruNoNwyDYhNRcenrilQRgRvptcDiTPjrxiyEdxvVQldMCEVGpfyTHQUSeW\n",
        "PtemvNdOEIjhsLZBZVVfZcYTtyMDDeahXgIsyPxjcPMUekEnXvpHDxLnPJZOMvzFmKIUmahPtucuQpIa\n",
        "SakKTFWctFaOoCJbSIoKsFNSIeQiRcRMMCxGWOOMKKaoRawrOwDTUcKzKVuVGxgJRiGBAIoJrSuyXQoy\n",
        "xCbMuLpsNNeIqSgVPyDxCtMguPSzQNfpJXncsRjngZwWpZTQwGMcmrfTkauavVFJbobaFPTkPkftLdHy\n",
        "UMFsuFtXdCcMoDVLEjAcJPIjbweswYJNFtpUlecWDpczEiwEAjLLonHDleCKebfzcQBHBezSrxnOhFNZ\n",
        "ASCpJkjjDNuCyZahuiGTDYhpbXcnDyPmFhuCMkcTrSFOzfQYqJsDYmfOfjeWgiEhqKShLsYMztFtsWhz\n",
        "CjIirPgTBFUYOVpgUPrGHNUAvvOzoIRMxLWutORlHWlRFyYMNDpLjpSEwCLktOntWsyrhIFMRQCEgauZ\n",
        "GQjTQWCstxrRnymamWiutHrlAILglqVUMFRYGuIbtpKAcIccRPJzhNjPvrcruRFpjQNLCQlXCszgeiLN\n",
        "TbzYWICzhSWuRzPpmpXMnrepRirJPZMZLwkTDFKRhIonfzulfOYNzHjNoSGFCJvirerCMGGMWLcvcKHS\n",
        "xlqnADgAmrGXDzkvEiodNAgavQrIUwKVbxLgIdrHWEtKCvOjHoJIYcpLdDpYxIwRTNSmvGZVaWwYHyEo\n",
        "zPyqJoKSKJcxsuDhrWaDMZAQloNwImkLpzKxWkrnRVWeSYuoKgwlVydpjCgEeIsofUgOfAfbHWgqgoeo\n",
        "rVPsgCsbfQOUwnrJpqbPGkZaWsbkUmfpxkImqUzeZuHLrzxxizHdlOgxjgFFJffJnMFkNxQxAALPLIVK\n",
        "QkuJOZasVLcAFxGjePkdZOvZLhlpzbbRvYtKjCKALSsJNsRcLQsQlqXnFhbqgxoUKXPgVYDHdYpmxaJK\n",
        "ZTbAknczvdjPXtnWRzDhOXuPempPCjVZyqVmBVCsjzJHJrRABAiFHHYOCEgKtKJNLGjsowxWGqqEzAAw\n",
        "vWDKIQmKdysOOiNTgiTBuyfXbMvEPCtccgnMdYCGadpKKAQIMuzKFVTRepenYYNvdWFgRlFmYvMrzUvm\n",
        "oOiwZcZzVFJeyNihVueuwMVTKPJDCrDPMbLzyqYwaYYCfTEriUnVMHPxLznaFgXpXqhAhoCtwgJhZfwy\n",
        "cfdLRAJYbABWKjwmxSjlyUwCJSOrdXiuIhPRDxTVdoXzHKBwgnqmGHCiMiyAFODlHgiBKOoQpbMBbxUq\n",
        "xVowPuvRVtLbuFfrcvIUvjiCdFXbnOKMAiiOvJYmLmbfkmZCtrbjEdhzwuTUbQcINZQHiTrrpWBRVnRH\n",
        "GnygjjbCsHXNwBvRSSajMMpnBwYbUeQADjvCJAsACFlCTLIQlAIVMTqHFkswqbDDHtpgcWaXSSglUYKE\n",
        "lqNsYCyaQXBzrFUbkAUAWAKrDgDtAlGMBqWQhpEwquZqWZJpslUfMllCwWptqINjrOBTLuPzwvXNbLCx\n",
        "oFRritKRpJgBOaGPZdkUzvYnvYmAlEsVmKRXqyQUOdCBqLYyboOYeAQNLnkuiDXCiNiksSSRpDMVQQgs\n",
        "TmYThnppfKSmkpjjceGLaMOvYgsvNkGENKgGtUSzVPlLMeephDKrWGNpAxBqRiCnQIuKwDZurIRsznUp\n",
        "xhstMWpHdZzqeEnttlAHiWbhbIJpwKBAGsFWthBiwBDKTFzIUamELZJFLbmqOmwBIYBJIofAUyxTLUEm\n",
        "LcOXzjIHFcfUfEWccbWzhVuIZMdTVsOaNsLTpHjrvFaYTnJUrqaYnUmbobfOXXtkjKjFUEhVNlPWeaIY\n",
        "uABNuEDKFWiUaqQiBHGsgEmDDLMhkkHZzFWlobXIyUlDzGcwDnEOwwWxgFpebsslmKItazIYctPROSJp\n",
        "ImDHusQIkoFQSmuqwdcPNERvflfHtkGTrtbQXqZUsazoxmbVTPIuuxKvfALAaGnIuIZwczCcoIRMncBs\n",
        "timFGHPJPaHMPTLjsBjIwbbzKyghaDTUStzJceaYAneywwpvdiUJifPHtXmAwZPChWsDmwonzeeQCEiB\n",
        "xWsJLAtrdVEOBxEaYiSabHdUwlXlDOAKzZUwozJoBGvnFttDkXdYdjQSzzhTIPfYpWVFdiFIqSbyPZIi\n",
        "VoXunBPbAJVMWluPcIfHmjPeHaTyClCvTOucEYEZXbVDiZMsfeuruDGMmQEsHutzvzVmWvCoPRguBiHh\n",
        "taTeaguPmNuAxzYJLEcdoApfIFBaLUqettjTJNYhZYlJZRRoKXEvFnoUHdPjDuXuTAubGODkHAokpItw\n",
        "SlEwhjrUSlfMawWlTMciWAzVcgPcqCHIaogokYAWGsvWZzBfJqzxIkCNvHDvBkOMCyeYXzVVuRJLQIOy\n",
        "BMoVPgFLOagDxyPfWxTtZQNCLOrVVclPzMNYruNUyMOBKxBvinxuGMAAfndhPsROtkOJAAJQSxpmTzXm\n",
        "CmEwZOhlItvETUneqvdKLghLyREjuJWRFjVVuNMiPuvvmRaEUmjCXDVuMRAvBuHUYGKPXthWISIbueRp\n",
        "uvxpmqclmrXpAGFrxhJGxQwlrbkHEmcEUooCoPqGzbrCfIWmtUKmzzXvcqbhxKcAwXCNjbJDWDndKiLK\n",
        "HwaFKyhXJQgHjIaTfIJrkhUpTHJZebRertDigQtDKxGerMRgHWFTrqqZlcBjAUfTZdFlZCAEZnhzgTIy\n",
        "gJSsWJjFcCVoFonAfKPTOhTxjxTRtzOSnZaIAgScEwBCDvWFDVGpBOpijqdwvugoYsyuIOZJTcySDrzy\n",
        "wBxediHOIYgasrUIDsNZcParqTGfTaBZHoSssXGtiCVvLReyoiitzMpsouqUeMHGWwDMgBaQTRkxPwNP\n",
        "XsvyFVXfjgKuamMTsEsbeKDgAdVndyDleenPBcXWKGPcDsALDajkCEGufvbtyXUZnelqISbQnHphDoTH\n",
        "RMIxMKclpWSvQHkzRhdAehBVaKYaXRPMpGaeRxvTRVFfewirvIDoGvYTAvKSoMFCLUNVFVKrYMeYtBrS\n",
        "KgiBOjvliNOHLrmztypGhQjtpEQwzVfpVqsTUPNOCPzgqOuvLXJBQZHLmSwGTxEMgCAbogXombCiBDNX\n",
        "BvGtXjrGWbWHtNCoRuqIZPhBQXZiNUhbmzOiyByAoMSBvusppiPVibIqmLXwXEVfcEAyNeUxaEZThULu\n",
        "mkGmoLrpOEktwRluXvOmmfEWxZkxUNIqZKuzbaUmLKBYrXMmdOYLEzljzbSJnqRbSiAFyUNyyieKITkh\n",
        "mvkKyosXKCaTsXQIKczJmxuqIlKYldmUZyWTolQynlWngjDzFMlwhJFEmODeycbEfxgSRbIXySfwlhZZ\n",
        "BUBhKyGBHRzWGRXAzarcmSDORvaOMOqYlcVIMwlHGtrLMhFWioqeKfvsJdTXmfQzavzSzCRrVzLFMaBT\n",
        "DMOPFJcjzXcPvBkzacRmVKTQAvVobGRBypFHvoUdjvBhwWXVdDjvfJOocyIHbMqZGMaRaaFFnmtvTSkY\n",
        "nIHbmPAtuEszMDFURBYxcOJXKMvJbfSbhiaacxhxiZBnoHTcFeqXQfjTqpcMKFpvvzkpSxlDxSlhikFZ\n",
        "XSplcknpxiZfwUwGsrfpBUkevEiwndkKrVpWKufWpLTWXcyyXehOcDfnzgTAkhwOAcaiHqJWzsuAvMyD\n",
        "pDJgeCdAJMwatRfcpKQGTkwxHracsYOlZeXoGthHIRnDbYZhuGEQRKFRnqSEbWDCJObWSAoSwFzVZEnI\n",
        "rVBwXibUaTwnSTwRmIwkIgoGPRiOMLOTvnzEBBCfcugYZwGSsHRKCJoRsxxzRkKwnTRcRNfbMGssqmXV\n",
        "IKYzyWHIsCjdzxiHEtvHaufVgcoqVkqIQertevTUTIVMYlNXCGEUzQowqsFpciURKoUwqCRogxeghOWs\n",
        "cMnuAathgFvNIVqqXpmdJDJPhXQpZCyNbTYktMyTUtQEBeQBhEZzqHotmYREADhFodlcPmTMutBZyefW\n",
        "sBmsnUbVnHUGAyaDirMoowBwXnzrmfHJgfpAquFoHTuvQvIJcjqiqVdntXbgwpVywbsKxqUMNxYVxBmQ\n",
        "OAcxOAVPuJeOgABYEHhevhnUOgCUuTBAhJcUGsasbMInGCbHnHXWDdXijDRkUYFuOytTcMPtWklmTHTR\n",
        "XFTfcFfSSqFUFbQVCKEjUOLveXtsHrIfkphXyDkRELnaTfuaZUClLqbdpWAREJHJpycYRDjElqlVeNya\n",
        "kTCjDpvFrdnlXogrDZdQzAYaePDdfvHWdcaQGgrrHKBdMnMYbsikbkffVsITSUhEapmLGQYbHoiKGRcg\n",
        "GPLeEvmCOAkGIuDBdnYPlzuUmLOfetGXpbTbPjjWCZiOJxlDazSbEPVpnNLDsLiwlgleiCdPezQwnNWT\n",
        "ECLuRGpfJZlnZtcghLucmvlOZNwXaikbKGmoGZJIcsfNnmaHIcPXiEYDHjLKpVtNsqemAmaiTIzvLqlU\n",
        "mlcvraikZozZwBoExUkELoiaAbTAkqDhrARHQyAvWvYUjthfWjZqbQNTnkgmySsORxGcxouYcyCSkjmC\n",
        "fpTGOlFoXWLINurMZdQURRnZCiZqsEKeVVZdFMnaoUepdAdARtUuXTvkGzmpEVNZiYSWJAwkcSKgAWTD\n",
        "mUNVxVebIiavuOAxWUBkuUkXCYtRoZhVNwCZGlaANNpBvXgSDeLURUdQnQteKAXbGlOLGYYYCzCGjzua\n",
        "UmrdPYuRrUBvLFfwBTioTmpANdPCptqKwWXARMKrtmbggOBDgNkeHzNUCIXUIuOAavRbLTnzNNRgzLdK\n",
        "boTJooLJIdVFbbjWNngnzPznJglCLEWqulqzSuAyvqYdivDqxEtYPKTwVheFmDidEOnLqjPHBcjoOVvt\n",
        "MCDmQfwNxkOPuxiJqLQOPRAGJappmpikgmrvRAlKjFjTlaznQldBJmzSMDvCWghWOgfhfkHFZBNdbmMf\n",
        "MsaQHrtJQvZuGFCrPVBNSNZBFZRdpmQNZYZXpkGjXRAXhELlxDfGhiXwgAUujQbqUCiKaRIYruNDRDlL\n",
        "zInUkJBpySRZoqwQlqmoxADBjjtGjFPLTkcexYGwGYlANZQaXNgKkPXUUqlViVzxPxxtMQPqOxTcChCg\n",
        "dvKNliVwzRfMmSsBFeuePnbmVqvyfdOXnZpUopEqfCMnnXpfZnNYwNKiZFPUWWmNCMibsyQEhiodVjTz\n",
        "UxsicVsZNMXyvBLrdJxGGeCPEutNCzYBRamXwRlmVdqUTPnUoAWaVDshgTHZhvhVlLZsoqbyqOjJMPac\n",
        "hHqiCKhgFkDUhUDSwsrEwaBrKhXINTjYmHvsTyFdRHliydbfQtRFZcsSTfcSfqyIgQuXLZnrdAwylBmW\n",
        "BRbmVwdoNFcnoxMKHaYOhgihIsKitcrgEkfjIOKDPDOadFhMwVSKWeCfxxxfWjgNiGDaiYDtMhCgedOR\n",
        "nTYoeVrpGsyDIsuKhffqaEqoqfWukaQlcUShYicuZAdoYVGvRchUgcmNwxQGogDvKhyAkIuqHCIXQfXp\n",
        "CtkSSTXTugolUKfqSzugIOpyHhIlcTjDBTKPqcyaRhmgFdSBkYurnvnukNGVoxpZBFmwIEmehuaUcoeu\n",
        "btkjJqKcAAqxgrKcoRGuqHVUHqKgEaqRCIXlaTqaUewJBEWnTnTJIDYdLeGUMDfndHPYTAGQbhxreADo\n",
        "WZtdvbJVnNGRNvlAsqIPlpXSXEZGBdqVyNCCwylcXprVoGqnPXZioKnqbdrYlDhbsTVDJqRQKoPtQXzu\n",
        "RnrGgCfYfeRRxiihjItxHurPwtYJoObDzlEABeIRxQocvWrJtyWchmZXJdYvTgicUircdiMKYAkNbdKu\n",
        "gPpzXnTQIZxtIhvfBfjIHRaDXbYExxYBvrejpEaVHlinHlYRrhsbChnAwTKlQtHntqcqiXZwTUEdlsVy\n",
        "WFdZNRfqzkhWzeKMGmkuKoSkuSZRkddsuBNFVMFLPeUkLwCCDKagNjMZwtHcVcEEKyjAYubHipuqNjaV\n",
        "JukystpMZrhBgLqRVMpaIPsyAvYIsBDVqKNCMLqLwyhJhuWDdCPBgSzJTLkJvaGPirOFwfuMtkyXeKoZ\n",
        "rGPRJqXyhdYNOXVSqGvbSPozAbjhpyfgGVuNUYaRQomzrTtzAMJnYnyvDnuBkbVvmYzhlhqmwgCZaGJG\n",
        "GGRbaFdfnDlUfCfhpDWTkWfpUDuUksJvRFNxVYBKGoxBCdhmYZwyDPzWihcQXgByRbYxWZslVsbuTHTf\n",
        "vaulICCTRkkiYuYoqFdzuxsqOBkzEJHbNXhSnHYxyeGoEklCeaUVEtjxmXyOEzcpsAhfKCTejxOxwGYh\n",
        "eLtoPpPINviTCHUsgzSkycIxtvekMaoZkBIyLboyvMxxaqfviBxkSALNjiNYqGTypcZDvHonaVBZCSLp\n",
        "SjRTsJmDuPwKnYwCdTprFvbXnrhARNToXpryIfEoIwSWIdfSKeOHDYwgyUvwXXpKUKQEiyZxCsTkAjME\n",
        "hdxShAAUYJTkprXuFITxxJuKMiphRAyAeUFZgknMMLvUaSjiMlGmLARvTMpllxEQyfvEqkcONHVFcaTW\n",
        "tqcbVrgeTLTGuJsrjZdYrrjtoLKcEfjkIhjzXgEkYhZggujFJuQlVtSqvuejtxAEqjgXrYjmwLkSRmXp\n",
        "pkTfONxRyAxRYqJccLxuhabwMTWfwLTlzuVGJtVJOXxwKjFIZENpGHwRvTRitDBQBesRYATKhmWmmmbP\n",
        "EXOzdBHNeghlqpjJFmzXyADNHQNEThWDyMsGsTmyFnywIPvDSIcxHbKQHgmJEcfsPzYvSYIbQjnTAgzF\n",
        "UfZAbwfgCMRxtmZQQyayJFFkCSVHTUcQzSLWqhENNUpyLZaJsQsFQsPyFIjGtcmoJaFQGKTFtKUBdBBo\n",
        "xECKHgYSMcBWnzRvPyihfjwyjhTTavfYqOrbrgZDSrwVYFjNsdxLJIigfMgythUoUIVSydOnfhAaesXZ\n",
        "kfyDztQiBCMHjfEGLFllxfejLJjanZVRENsXhIxSWDgbvHHOAFtHzqdfquGbdQvOFlhDiWpxwEolxbep\n",
        "fVfpKYGMNIQuOlmtTkNRDFTVMtVkEXYUDZKfEihbxXsSLGDcKSHSMXZxAturZVEQgismVAgMVVatqjBM\n",
        "rXeHaGdccPJMlqhVAePDyEoIRTLCwJpkNTuOjEKEvXaAGhWmhWPHCBMVPkcPklbGIvzMzOFplRUsvZbE\n",
        "vScmmoKktOUVOeKBcqVvoSsplqqssDvLiPqucbrxoNkodsbrZnvoDfyNGyUAURseEuJPUWsEiVCNcUNd\n",
        "sxzoRVpEFuFloqWLumNVJITKXnWnOlGpCaQgTLJYizixXoxAHHbodRtPHBbnSzZRZOmlWKOQqvHWAhDh\n",
        "cYBGRQsFwyesMILhiwjnvjeMIZnHYHYNrmOahjrVPuRgsxdfgUbKCZAVfcOizDeQLKiFQmQQUlDHnCQe\n",
        "lMnlLSrtXhmGDqISCgElUrZXbXjGGkdWadBbxzVojGQwyhAbWMhSKFFwoIqJfIDdZjUdfCYFkpDdIuWe\n",
        "aFIUFhnlsREthBRoaquSzBVVOPABfuAYZpoalZwNfZMPOptcoQYVUdRYlXuYChPAdRJgFgwPyTszSXIe\n",
        "qHRtMxyNlPGoBfpjxHnNvwIADmJmquLgMQGtpJAyvflZjFwAgIymerCTnVkjvqPKFVRscOqAhqvCqCjw\n",
        "BBojzXKIdphOVTFKhBpnIWYRfuqvQZgVMaqNBkYKzqGaEnBFKZukSLdPbXNmcZtMeykLwlLbZqaHayOb\n",
        "IWZvbxEXXnaozCHeyiYMnWqIAwJxhMIPDsgySMKhdBYmdrGdbJOfJralshwvhWlmatTsylewdimJEzph\n",
        "tuTzSGOkGDPPvltRVJPdHRPBTAsKWncfjjuHdlEVOeZIvVnUFHmyGTFDlMGVyAIdzLocbTXIHYTopIok\n",
        "UHFAVjEXPlsMoKTriyGnfeTlVzvGhVZzUAWWPdZNdIxKioQylFMJZmSToyRGsDJKJXQxPkINvmoHCVUc\n",
        "RIjImkWWxTnDLQiXdmHqQrWBuvguUUubGByTRnJfkNWxsSupcfIVgboDWzqYHEfAnIKCfdYUOslfXPax\n",
        "YnaJfNLqJgcxRjBmRpOYgNpZOpzMOCVIRiiXdIqqFxPJhQqJadKiCesOsZoWGWbbQSVRZUlbNZdzeUTE\n",
        "nhdMSCKCPbpWZguZHGkLiWCisjqnaLbJpbRFAHPjGbHOXKZQXoQQZohmVqjTcdWNhXEjPlLKnjpwbMPQ\n",
        "ybzDvGgkybXtbDmjQuyOrMrcYGRGGfuuPXzieaetSBidnSRPsLaXKGcxDkXmHbqMWZJXsQkwtojlxOeU\n",
        "KSIFdVvNEnOUmIZDdlnwtJcPBlcpRWNTazpzgItwJotSLWZruzrMlSGASMWDwOqTpeYYHaTHCCurPdwB\n",
        "AWzUtwblZXNrBYdjUoDacvmRVURqOzUPlnFISsZMFPtthnDHSsFgkYfsMtXFuNPhLTleWVrmelyFaemo\n",
        "bVIhEAxNwOUDQCOCDIBHsQlFxCbHErKiBsvQNjuIGnIzZiwoVTdUZnucSaKdHrxJeGQfTawFJefGJFFa\n",
        "GHzELfnGBmkZyorbbDDwhvEVeIYIGLPMEuZduqFjbeWbVfzVIRZNXwPLgcYUsevuhEQXfYcJshYnJaWz\n",
        "iqvlswEBRKNYEJidlzdWnQJpBtyjHYVpkQGzdYkeREqjhmmnUIbGZVnwwaMKqgXfURSICNxdteUSGhGZ\n",
        "UEEFhWRoTKGRwFmPpZPOsalsrNOlkTdXqGKoWlWkqJvYYrtLiTfhdItMbbhdumSYgCcQVUARnYFWkCsC\n",
        "jElZxrQHIlbTHFLOnrutlvyxzaSIdkJgeyMUnUmtXfnaIedbAInAuQssOQqBTLbvFRiqKqUSdUEmcRmN\n",
        "LvAxlgliymfbjTwDSqNTLVkrKIrzpUShNKkuehciEAYeGJOFFcOvurJFUyfZhQqzfaneiBcrPhaphSCB\n",
        "StQiJvtoPhHcLUbriDUIfifVFnNtJfGlmcbQJSXsZfVjpbqnkMllUmHzLvEuSarSlNlNHsWvYlfhjMEA\n",
        "epYTjoRGZeAAtURFeDfDxTYmOmONuQQBdcdncFGjhHmKlwqmUWoXuIXIxaaXnNThgPGtIlynrUIPLQTG\n",
        "xXhattDrfBGbZRveKbgjzxJLdYREQlMeLtcIEUoyJocdAfUbymxuFLVjGkOQniiPParqoyQYfDYAQTkM\n",
        "WLicLxpEFkBbwlKrTyYilKTtYkpVGxtOjYmcBDOrwFhFiGutmpTyTarUbVUeSevBTdaPDpjRkaEmLJMg\n",
        "WsMhSGfIcBChcqrRKgKpjvGnFipjswgjetRtniMagakbCXAjpzWTtMlgZGCJwGyglpcLebrKWhgwJfWV\n",
        "qGifWNEpCtjuejHoyVCdIxzMYGnfoslgTNAJdtVBWDVoGLzHSAVBTnhNIvAOExQNiJOIPPiHkdaRbfaP\n",
        "ixDDoCDOOeAqvQJFxLWDICfGmufyxmaMshbvcrtjqqVtffZTnbtCOQfzRMGwOQEKaAmSWjnYdNgvdkmd\n",
        "dQmaKZSdqKNrnvJlcyVMKuNWmuoOeyKecgjXbmSqnpjwJEaDYoehEklEgJyiksGxdEKgfYRXQecRZgfe\n",
        "qKWGtIDCjnQyLfMuaaUCYJBblQAsSBNSMHLcrQxhDkyqDLtpqjoFzRaOyIvCoOhqZewHMfmCYkXDRsSE\n",
        "BJXWUdVlTnKAXoDsLXiHHFfgiacxczqOIkITlkzuQgZkGnIWaJzJDUXbpMpMQdOSZQEPQgRAEkFXtUKg\n",
        "PKaKyPwfMJIvBUPJFjOjXqOtWXnJerTyfLBHcpvslcFXuqePWnKSMNxTdtlkjUrdZBAfuAvcSkOuGItP\n",
        "DEDnglUSMrZkJlwJAmWiBJVZjzywtwjBPqUNTKnPxMQCTJufdWNiioSrhoYmWkYFqvIBTQXoItRlfpjG\n",
        "CvxQyoIHlxKzyNIapFVJQCjgrTlGqmxQrWsIRfeeJcpHqayFkrrRQAvdPklbPbJuGiknTHzzYJSZRBzP\n",
        "VBgMQnWyNmHElRIkxTpsaCWVqzDXBieLurzARlcCmZWBMLuXvrvkqlSbBUBzkhLxcIZdAwdhkmXnYHUW\n",
        "fgmEVkaxuwyUJegBAmgcvSDHTGsyehcwlqOWXDvdFDOYNwHsGolYTDWWCVnoMEDHLwDZOiIFoEghDyzP\n",
        "VfBgFAqFjyjQSJGPXUIjMXtbPBhTXVsbNXXbjfqUoDMKMSMySZfThaykPvXFoJjqepblrGbQBCeoRFUm\n",
        "JzKvHzEUmciNCBjIpICtQgvHHeCyaunOrxNAxgXrNhbokpjmbUVTnjfCQunojDUgEPmHufYFAOuLjSnW\n",
        "vSMFCeOrTcUjGPADANSjBWBTDTboAcvjbymTCbJhZAQxIiyGyzbaUIijFYFdpkqdgejWWJKWCJgVrVBg\n",
        "FnztcwDJVTXEocBzzGICmudknKOGdJRnuQrUSuiGMJpPqERoKWnvMEVbTrHXVWBftvUpFxFDrpHOlSIM\n",
        "czgTBmCORMFkaBhLKJdmqyPIjjDmPUhmaaDhgIMQssbIVVqnhWpRgWwhkPFINTkTsxBwNRqWDrriWlGK\n",
        "DwEcseTkyFvfQSHfzFiQkkjRAHOGdlUbcYqCIqxYuJZWhojWvTzcVaxlPTmsEiuMTWPtrLhmflWJHAhh\n",
        "RzKdjsziZMyDkaLdLgcFpshtFBzrjXOlKjJZqMscCrurTWfbUFIfEXfJyRxmeyVivMqtGvJDZRWWSEQQ\n",
        "zuiIeXWVRQtcCallRqYNKhOxYJwLKpioqoUJrvxAIpNwgcveovCsfzddnwLkiHTaqvdZnAPDMjXdPAMM\n",
        "aKPEDtAcRcnOmVAnWpYwlckWLEHbcciLlXQsQhYadTcXHIkYQkUUtekVHNeOLPUZVQmWkFpIlGqDrICI\n",
        "AhEIHjLjmadcBtQmCJKiHnzEkCmJnNXUXJZtwdtsTalneUpaXGyVoGVinWdZAINrCvrGgdTaljdRqnWQ\n",
        "xCrurrtWwIeuBrIuPdnpWSEUPPOCRvPaLjAnVpuxtjKKaacZiZfPskSNuWOHBSWomtOmuqgmPwHzhbDi\n",
        "GfbWfMFAzqDyfGCRfSbOhQjYbSxScagTOFHJxdOscKOIDUMEexfHZFXvvZathMvpugyuplCQVLLIijPQ\n",
        "pETSDgPYLEZndRCRBqNJmmFKDhxreFIjfJWrySXeHuKMOuDjJDrjzYtPbwiClbuvBoGWyTRgMkjrwJgO\n",
        "NobDHVWysyDUsxYPBmVkyWcQmYJDvExHZpUWHFuVJANZKKoufiHYjLtdmUlryQdFikZbDjgqfnzLRwVA\n",
        "rFgglSdAljflUTjSyOxJfcuyqKeLkXLVZgsAgnjpJgdNhenJeNJhIdKMRFGISYuLjpdYPueEfOySxZsK\n",
        "oiAaxnTWGvVyHaLBaQTlAyWTaVOjENThhHZIldJysycKTLZNgOfIWHaeKHzUkuOKIMwZZfWRcmgIMqdH\n",
        "KDdmwBWFjcOOpPiTWQdYzXGyotjpzRQVJtUiNimtRmVBTLIFKMsfnbXaRDMVpGqJPTUAGYnnQFpHogEh\n",
        "iNonmFqpgirGRrYouiAQCLLKUrTEDfrAyFLlemtLoqvMyHgMUIDwrrcSHgqoJFKZPgeObPyNKJqhCjzD\n",
        "wFCJrYjPMGsmCTPZmkfwDjTDvJuqXOUvhASPAtJnshwkSmhQPDMbQEpvJUQVGoMqaGVsJTiDnjDlqzJb\n",
        "ZpJqCiGHYdfLlozWjGTBfeRccgTSoZGBJVUidJNDPVCwNyQEMUfOkYkopDFoSYimrjhPUSWOVFFslXuH\n",
        "FwGadAaoxZsyCUBBAwjCDrUmeLCZnknsZYLbnyZFPsfWANnCGXDgGXMnnHWyAhswLClklfyJHWIGRIta\n",
        "YbvJsyKUxZJPOHikAeMjrWMKkOGIGkXbWaDHYCivWJBGyapZuNoGOTgiboazIgYfhVrlJCQlckwzORqf\n",
        "YYZDLkPpVVrRBkvPUwAajiBYFsUHCERGKXYoYRSAFAkVVUCcyxTmfiYwrqPabLjiaWZJavgevbPVqeKH\n",
        "NpYHapQMLleltzWrAMCuBOuDLUsHjmGBkYyZNGKOjIHODUtdiKmacCVxvHVMAkOmwxaxecxfIBeUfYIW\n",
        "GhVerLKgTnQwDQjfbYDGnyjxXUjJxEIIAIJeCiHLRXFsFqRliwOjhGzvKwUdBNpHhZMKZxKSwsIYbnPB\n",
        "DdhLBKCIOVLbqqfOGvcQxgzqOBJalnHqpzqGBYGXkzpdEOCtNRYQDyFNgHpVNXUPKspppPWDsJynQiMe\n",
        "dUjrgKktiuyWgZECYlowmTKIaaZrXqsqDGqUoDbHkYyzdeTjMfwcKZYEcygxXmzOWnPtgeSGSTZIspGe\n",
        "IqWmbGnFXKYuWsIgebIhMyZgqyCYGAHCABGTccPEsIMgIomuOQBxjCSnBBoZVyHQcpyDUiUInRRQUGnM\n",
        "xRkBAuyzWcqHaQskvIsWhwJHHqwTnBIKEJQXDVcBeADrTvmWRJCHhlfftoywzyDxeJAXJEHnyKZnCPHf\n",
        "QfZjPnuDnNvMNXYDrIKPoLEHBcelddIbifWQayzVVgyKuGocVGSDDOfGoDTcAvblCBjPVuOaopqPorvk\n",
        "XAmPPKhkoHiUXGdoXUDphytuxtmYWOtyTRIZGXaWoQIjYCnJcMFGosGGLBnpkYNyUnjYJHoHJFAOCTUN\n",
        "AlYiZLbAkeRRadJxMJGyobaGtYGVKdkjgAWwNzdGddBZhrZUbcemTVrXuwcqZJZWEOJgzHkaeRrLHzWh\n",
        "fRxdGcsYxTPlUfZqNiFSWmpeyUMXBnNoaxgQrJmrMZRSGGNwvRftYOkjnXmfovkXSzUQcaNkRwcaiUvm\n",
        "zfPxcVtFVzYSJSvHOBNvadIdMPoCoogAaLITTUXDJBQpBDUcKGMGAeXvdiWiqYdzpaApztvWUoyIZsrB\n",
        "btzduJqYYJPrtYFVahBhumbHKVaFpACqmZxIEfMWaIsKptKrwoBozgUgxyABdDqgEYpZpAzOHcYahErC\n",
        "brpgPRkjtqHdCFXRogfMdBbJlkevgEGntPozjddKkfTfIlJnpRxXbgcDZxQVJwMTroLvXWwaCvhdlWID\n",
        "xmwuHRLnAngCMoInIERKeyVHbyVihKCLhOlOcRTInBfxLrXtkGIjiBBCadgQJKnntnimgvOIycZczYLW\n",
        "FrcmRhBhhwesJsJUXPpzOABCKfIOhkGtGdJVtqDicTNFCjhjVQBCpmiuzdXPHntdWHgYITPWxvcRewrN\n",
        "eIjczSwYTOtQVxwuUToUOTqjOQrpTmnxvWxaEYioOjZCLBasBIcrZWMNMvSEywdOuNGMNrZeTAeAEcxA\n",
        "qeNIviyhAgpVtKEhVHexKHvsFNwMKndVlaykRypvEtZgBHimRwheVxYMANImTRwpwRsYngKRKYlwZMoG\n",
        "OskDgCsdNcOhxvzIpZGDVFdIUtBILTUJSebXAeOuMBwUCSmcRkcoTVQuSuCFuRAvSVOSjxxZbMpsiYxB\n",
        "lTRBhWBkTbRwbEpTimHCPMktFOJXsrKenghxEkyMpFagzWrGyUKXCieKHfCyLMKnLgQanMeyKSTzwnjs\n",
        "iNEuVhJZKAYmZAEiBeioVnebOrfvBgjHEKyfTpzNnyPzhNUmRFnnCfLGylzZtKApMkuyrBMSpfplnUBk\n",
        "PvFBYGcjLmTzdUAtKmtVzuWAXhauatQCqXFBOcyPfEzxzxbZaDYbAYfevxfXwmbquUkZYBtKptOugtre\n",
        "gSLHvHsCYbZZUIWqNVfbBLuwQxzIdPkDqOdFyAHzcVWzVImWlQwmPdhGavFfwtAZZyBqAxYBpRNLmpOG\n",
        "pTyfrLlNbtBmZofqsFjpyxlafFhCUSlkHSiWgJQqGikwsJMMzLaiCEJQZXzzdfkmNgpkXFXyUYUKOlrP\n",
        "NRhnHKvolzGXFmuJQjqUYCgqLQYsHJsodFfHGARGcQuboCWQOmtiwFuMNyrynjxBvpuCuYXQyauYyQyt\n",
        "CcnnHPNnYwoycvmXQFPHtDfUkrzcfdDeIkMLLnZCcQqGTCdFKxbiwdEZgeAkTnjBOzgqLLiepPNZNgCE\n",
        "PhDErcNklMuDlQGNIiEPkplmoHYUQxpMvFoqBUNxHEndUrZFZbdYqnHWMjeWnXJIowJEXuitzKWymOHs\n",
        "UwKnYZaSIOZNdhGQDXfVnhzGpunjqDQXlhjgHYAaklXxBdeGTQbSwOtnKyXWEhScPZoYVEYBcOvbUOpj\n",
        "PiHYqSvYxEbJFZQBMZwazYhNhopIWhaqNtBINrzkZfdzZgjKimbPZjzXIRpsLPFTNSYKraOJyOAspaFF\n",
        "RDuRzWGcRQsgEhjdilfLuuvTQqSkoxWQDWjTFqaCVVNqyBeBYrvpEvNWTIeAmwhpxRpncCFDqGuoVLWs\n",
        "YznqNyddXhXZwTTRwgAHUWECXygmDcwMcMcuGZIVdcRwCHalNiYXbDFYjfFMAUIikCjvUHWCIWuqGyIe\n",
        "FlbDthXXMTtdtvBRCaRrXSPPkoslEsPvzbBMpTicAwfvXbjUHtQpjnarlfLfvBosWVxXwXMBVCIsRmoQ\n",
        "nPwNBePyKRlpqpuixKVgVjkVjBqTRgDIJAuglUhlTstwFBPfISaiMveLjxWjwYJYZNhlTLMslbBQyYbu\n",
        "KjYKosgSmHZKkLDADQCfoMuLVHeeCrzYEqpWLoeRIhcunPXqiwqAdAGAJKBzIWHqNVwmYISdvivfDOfr\n",
        "MvPbdtztrirPIZtBlmbdfbmVXfvglESZuahISiQFawCiFzjOrAUZlBJmiLJaXLRPebQemgMlrtoxYxhW\n",
        "eZiNrcmSUangudNSeUNyfouBTdUFlcYblciLRJCmZcYbxrOwYdGJWNqQnYpEQfksXvkiuBIJMbdkmnZQ\n",
        "AAGSIMRHFEYbDglmfjiFhGFzrFDTtUPuIUdSMfDmbYyOnVBXwFVxMuXEvcLIXQgNXEgmguOCFKSIUfzu\n",
        "hkJcsfjrpWmZgNhuXpwOPFvrQeMhLeWSZupZoJDwIssgzqeGwCHsLYQGcNKrKOgHFUZMIeASQSYejMRh\n",
        "AdENpADeBQuHHCbHwKXMEHSxefbBmtTtJDCpMJoSRtgwfmDZrRlJdTxPTWQBWmVpeEXklkcdhknVplUc\n",
        "TRvDMLLpFEmjNSfSGgBwuvFMXFrgjzHbyZvYGAcUmesKyznkwgpKPzOZZoYMIFHZlOVNTUVWwRMFgjZL\n",
        "cQNqslzJHcWlnLvCAfRNbOZFnecoSBwliZyTxopHFxLzYiosNfSJatOeKXfMtNGqfIhlPspoMmEjdBMC\n",
        "nxaQYozMCbAsciQmuBguJuvnajnKyDogidmEbVSiQpvxumJGpPPmwLeTVGatfxEukJGWMnleMoXlBvAU\n",
        "BFGKSVJZjKEhqEJoktJqRDCZSXSvwsbTAoxmJHwrkyumiINBNRpcGAbiNuNxRBRyzpmSqHhschdrOyat\n",
        "DUHISNyMSJCnDURDsKBLyESXEbVBcQIlPmJrGBjnjfnyYpLsprNXqhraWfQWqJUyiXItxeNIaYPjgaGe\n",
        "VKTTmItxeZFUhqIEeFWAskmkPpdndqPHRSVyLpvixIxrSOFcLrQMlIPciRATHBSobPDNTMqDWfhAluRm\n",
        "fKiyTrVrISmMIcmeEtMCFhaQeuUTWLyyqyxELDTjwjrONibFXzASOGcEllUqZLPGerPaHGHNLFtYoWDQ\n",
        "SEzQTtahBhkiSUaxuPGukHFwnrFFvUIWfYFYUMiPTgXpnidrnbmakYuKsxazobOamccrheZaAKSRsvZX\n",
        "hrNjiaJfhsrSFDXhgaqIdQxmpCYfVAxkzLMMruIUkyPTVbdrDbWYktyYGNsHgBEAJopAhZdSvHszEzZV\n",
        "ibEsuFWmRzyEWRooShySwYCQqdDBfMjhJDbBrlscxDfmkWYiovHsihkuCuSsxRSrPqPipBkUmFAYPSAs\n",
        "YnuYVpcecBbcKHdvzWYypHLjbkGUIdBNrKwkahKGSiwcurJSISKpVjYftIuiOtfRvywwXWOQERjqSFfz\n",
        "lrXosQbYuhjuAxhtgXtwbuTeucJVywKgtZyNnhjXRLLiHwMoPfpPPyAQZrFGfbzHgulXsmlxPFbWXpuT\n",
        "nkGetBrrcvGvlZSzHgKIoJOyMlZurWhDukuwqwZhvYKpKhmLaAeCPMPELAgINyKqpOapcsKHhPfxFDJA\n",
        "HMkjYdCAmwocWSnEfogJCcGRcKfSjlJMiTSRfPhDqVDEhkCSJNDmOiqXDGVaHzNYecLSWPNIWfBqrHfU\n",
        "duKBbdnrjUEeYwykGTBbbcmojJTDnpKNOSVViSLMMyBsoKjVHxVADCvLscWaqlJSTODptdPBjWFsBldq\n",
        "odhhExmXiUxapAkkDyVzhTSsQyJdPsaJrFNmNMnLxVYRDYpfqXUAxwKlZiKWWvJhjEVrwgzCsWoZFtCE\n",
        "kKjyaqbooOlNkAddgAazFlgKLjlXDGtlvRBYCYQiRfRIfWIYaLZxLrQzrYzBghYOKAaKgXmUpPkCaMmN\n",
        "GlAXokgPsdyUjsiaKSSoeCqMrMbQXeRZqkNeAQpujYJFGfbeceunpFNYjuUPiQVOZPXTKhiwPMLKZEKP\n",
        "NoEPPwXtRoVfGYIRyRgZWyJrMjuBQNchjZBNQUwSgIyXniXCMeXRfAcDKxskxYvMyRGyXeSlOFKFItyI\n",
        "FiUSskVfjqRXgqWOYHdDEWClkYXPjcAcuKkddJrDZqpFYYIlxACJHnfTTOUICdPhknncJRxdkMwSeSVS\n",
        "QdoxJeCJTcjDogRrnFsOIiHKlhyxucemEexjTFgKjdbffVxXqPQxLhdaawVKLxYRqeQGLhXqIeFykJUD\n",
        "MatBIGGTCbkQWAeYOYPoWRIHOSYZcStFGQpExtLKWcOwGMxNzgkbaqOMPkcHgudTOdQooljmZryWDUKG\n",
        "IKGqNZroQwTworzNcXZRBNYSQgMiwoqjgHnCOZYAWMonmDGAYJcPvecBaHeJQWolQZmYhKoBZaVoCQmf\n",
        "BGRdjBsnBnOYLIQXIeTfmwUxtADmBkhDXEZqGsBGOwMQqyLHOObREqMGkSeHepgonKmvKggqnntwXlxW\n",
        "juNjEvszhIaFFlEHHgiLrYDAsrfdvHuyXyEgvLYCEmVLnmjlUxrWvcIdFkkJjaaNZqePUSEHhecBbHRN\n",
        "VLquogLIjUrjRgsXGywAquhfRjUMvmIEDSOXFkupsQARTCqbVjFbKicfFTtVKxbqfSbLlybPvcUSasUP\n",
        "mkPytpvUSvuPtLFmkeKQIWNaJouCnyPyiaRBSYuvMtBXylHWIKkexawFeNwjIpTJBImSUXAAipljptIj\n",
        "MoxFBReUIhcyLaoBVPIZSWfJDMJMwEWaZbjFpgUpXQYtmwDUeUdUruxpUcCGdnlpkCXZlEETSCPauRwg\n",
        "YYCcnRpqBUyMnvWUNyoXhKqwZsrTLteXQVxOSztAxqBwEsKPLLYmXPdkOoUfuEcJYdIfxQXgalSKJfEt\n",
        "TOKazgVKoiUsuemONwHeyCVCuUBkbAMifDjSeyplNXUSPpvzJCFZmLTJQGPRVuSVtZUujsLwtqcGoEka\n",
        "UExetgcupdJsrsbhTYULkVBMCPZIEHlLwarcxqTdcfkAmODkhTJZHjKoyGPfpYsHPqHtLOTWGMixunvq\n",
        "WXxZueyZjieriCSWGRUwIYKmJFjrvkBReOMmvnkprYWTLWNTvzIHtzEtkIzPRGMPidFbewZnqlhYFeYE\n",
        "fpszkxkhRfwiYEXyERfYBMEJFDHThpvtwBQnemRsLmZVPkitRtMYNsFbZonBvtopMftpspksjzeqdxAL\n",
        "tWsLrtDqToVGVOQAOvyIdhWOeHKcykQJxjgqlmGKMiKnmUTJrgDRXaroZEQnyXSoGVDmUUXDiclJejRR\n",
        "wgDEIuvHFxRfQhtqLKnJfONtkcnDORkZqbtPplsjjTEIsquhSsQTwNZuPVxaTqDvwMONBfCsNJuJpJHZ\n",
        "dCdFLtBQPtFQuCdKOrpndJNUFQIDSbetUKylhSUjcDVtbiQrWMRQhAwGUZyPneCGUjGBBTkLqxLAXXtB\n",
        "KfErkDaWMFZZeuqDmXKJEGHyToPUhPphfVhgUZgbIuRAtWnroImpJKqqmEZqeNQCKzhjIkKQHURWLXFw\n",
        "PBuijeoTSpsVLaOGuLVjMZXkBvVXwUuHfBihziiavGSYofPNeKsTXruMUumRRPQJzvSzJkKbtSipiqBd\"\"\"\n",
        "a=[]\n",
        "clue=list(clue)\n",
        "for i in range (len(clue)-7):\n",
        "  if clue[i].islower() and clue[i+1].isupper() and clue[i+2].isupper() and clue[i+3].isupper() and clue[i+4].islower() and clue[i+5].isupper() and clue[i+6].isupper() and clue[i+7].isupper() and clue[i+8].islower():\n",
        "    print (clue[i+1],clue[i+2],clue[i+3],clue[i+4],clue[i+5],clue[i+6],clue[i+7])\n",
        "    a.append(clue[i+4])\n",
        "print (\"\".join(a))\n",
        "\n"
      ],
      "execution_count": 0,
      "outputs": [
        {
          "output_type": "stream",
          "text": [
            "I Q N l Q S L\n",
            "O E K i V E Y\n",
            "Z A D n M C Z\n",
            "Z U T k L Y N\n",
            "C N D e H S B\n",
            "O I X d K B F\n",
            "X J V l G Z V\n",
            "Z A G i L Q Z\n",
            "C J A s A C F\n",
            "K W G t I D C\n",
            "linkedlist\n"
          ],
          "name": "stdout"
        }
      ]
    },
    {
      "metadata": {
        "id": "dIeV8PGgJrrd",
        "colab_type": "code",
        "outputId": "8e94f7af-fa7b-4156-dd45-3ef132f3407d",
        "colab": {
          "base_uri": "https://localhost:8080/",
          "height": 36
        }
      },
      "cell_type": "code",
      "source": [
        "import urllib\n",
        "clue=12345\n",
        "\"\"\"for i in range(400):\n",
        "  a= urllib.request.urlopen(\"http://www.pythonchallenge.com/pc/def/linkedlist.php?nothing={0}\".format(clue))\n",
        "  b=a.read()\n",
        "  b=list(b)\n",
        "  for i in b:\n",
        "    if isinstance(i,int):\n",
        "      clue=i\n",
        "  print(a.read())\"\"\"\n",
        "a= urllib.request.urlopen(\"http://www.pythonchallenge.com/pc/def/linkedlist.php?nothing={0}\".format(clue))    \n",
        "b=str(a.read())\n",
        "b=b.split(\" \")\n",
        "b=list(b)\n",
        "print(b[len(b)-1])\n",
        "for i in b:\n",
        "  if isinstance(i,int):\n",
        "    print(b)\n",
        "\n"
      ],
      "execution_count": 0,
      "outputs": [
        {
          "output_type": "stream",
          "text": [
            "44827'\n"
          ],
          "name": "stdout"
        }
      ]
    },
    {
      "metadata": {
        "id": "Vkz0hpoXKkVQ",
        "colab_type": "code",
        "outputId": "e37dc18a-5f30-4494-b0a5-467e3cefc33b",
        "colab": {
          "base_uri": "https://localhost:8080/",
          "height": 35
        }
      },
      "cell_type": "code",
      "source": [
        "number = 123.4567\n",
        "number2 = 321.654\n",
        "\"The number is %0f\" %(number)\n",
        "\"The number 2 is %.f\" %(number)\n",
        "\"The number 3 is %.3f\" %(number)\n",
        "\"The numbers are %0f and %0f\" %(number, number2)"
      ],
      "execution_count": 0,
      "outputs": [
        {
          "output_type": "execute_result",
          "data": {
            "text/plain": [
              "'The numbers are 123.456700 and 321.654000'"
            ]
          },
          "metadata": {
            "tags": []
          },
          "execution_count": 9
        }
      ]
    },
    {
      "metadata": {
        "id": "b4VD8bN4YONn",
        "colab_type": "code",
        "outputId": "289ea510-a334-4452-bbef-8e6a40fc51d7",
        "colab": {
          "base_uri": "https://localhost:8080/",
          "height": 72
        }
      },
      "cell_type": "code",
      "source": [
        "a=[j for x in range(10) for j in range(x)]\n",
        "print(a)\n",
        "type(a) # List\n",
        "a={j for x in range(10) for j in range(x)}\n",
        "type(a) # Set\n",
        "b ={1,3,5,5,6}\n",
        "type(b) # Set\n",
        "print (b)\n",
        "\n",
        "d={1:2,3:4,5:6,7:8} #Dict\n",
        "type(d)\n",
        "set([i for i in d.values()])\n"
      ],
      "execution_count": 0,
      "outputs": [
        {
          "output_type": "stream",
          "text": [
            "[0, 0, 1, 0, 1, 2, 0, 1, 2, 3, 0, 1, 2, 3, 4, 0, 1, 2, 3, 4, 5, 0, 1, 2, 3, 4, 5, 6, 0, 1, 2, 3, 4, 5, 6, 7, 0, 1, 2, 3, 4, 5, 6, 7, 8]\n",
            "{1, 3, 5, 6}\n"
          ],
          "name": "stdout"
        },
        {
          "output_type": "execute_result",
          "data": {
            "text/plain": [
              "{2, 4, 6, 8}"
            ]
          },
          "metadata": {
            "tags": []
          },
          "execution_count": 2
        }
      ]
    },
    {
      "metadata": {
        "id": "3rdENNs-tb9F",
        "colab_type": "code",
        "outputId": "602d7bbf-7e6d-461f-a862-0af33e25cba4",
        "colab": {
          "base_uri": "https://localhost:8080/",
          "height": 36
        }
      },
      "cell_type": "code",
      "source": [
        "def func1(a):\n",
        "  x=[]\n",
        "  for i in range(a):\n",
        "    if(i%2==0):\n",
        "      x.append(\"+\"*i)\n",
        "  return x\n",
        "print(len(func1(6)))"
      ],
      "execution_count": 0,
      "outputs": [
        {
          "output_type": "stream",
          "text": [
            "3\n"
          ],
          "name": "stdout"
        }
      ]
    },
    {
      "metadata": {
        "id": "-0-Yg8eiuCxn",
        "colab_type": "code",
        "outputId": "7c681358-9611-4da2-e5a8-72a695a3b4d1",
        "colab": {
          "base_uri": "https://localhost:8080/",
          "height": 35
        }
      },
      "cell_type": "code",
      "source": [
        "my_courses = {'course1':'html','course2':'css'}\n",
        "def pyc(**dict):\n",
        "  result=[]\n",
        "  for kw in dict.keys():\n",
        "    for i in dict[kw]:\n",
        "      if i in 'python':\n",
        "        result.append(i)\n",
        "  return result\n",
        "print(pyc(**my_courses))"
      ],
      "execution_count": 0,
      "outputs": [
        {
          "output_type": "stream",
          "text": [
            "['h', 't']\n"
          ],
          "name": "stdout"
        }
      ]
    },
    {
      "metadata": {
        "id": "OXFukH3bvJdu",
        "colab_type": "code",
        "outputId": "a6e5cc7c-772e-4950-de5d-1af107c49bf9",
        "colab": {
          "base_uri": "https://localhost:8080/",
          "height": 36
        }
      },
      "cell_type": "code",
      "source": [
        "a_list = [1,1,2,3,5]\n",
        "b_list = a_list\n",
        "a_list = a_list +[8]\n",
        "print((a_list==b_list)*b_list) #False * List = Empty List"
      ],
      "execution_count": 0,
      "outputs": [
        {
          "output_type": "stream",
          "text": [
            "[]\n"
          ],
          "name": "stdout"
        }
      ]
    },
    {
      "metadata": {
        "id": "c26_fPFAxXnv",
        "colab_type": "code",
        "outputId": "38e703aa-63d7-470c-d80c-a847589c6091",
        "colab": {
          "base_uri": "https://localhost:8080/",
          "height": 92
        }
      },
      "cell_type": "code",
      "source": [
        "values=[1,2,1,3]\n",
        "nums=set(values)\n",
        "def checkit(num):\n",
        "  if num in nums:\n",
        "    return True\n",
        "  else:\n",
        "    return False\n",
        "for i in filter(checkit,values):\n",
        "  print(i)"
      ],
      "execution_count": 0,
      "outputs": [
        {
          "output_type": "stream",
          "text": [
            "1\n",
            "2\n",
            "1\n",
            "3\n"
          ],
          "name": "stdout"
        }
      ]
    },
    {
      "metadata": {
        "id": "iHPVHwz3ynqf",
        "colab_type": "code",
        "outputId": "1115ba11-dfa2-4cec-cec1-b3fa05d7467d",
        "colab": {
          "base_uri": "https://localhost:8080/",
          "height": 168
        }
      },
      "cell_type": "code",
      "source": [
        "values=[1,2,3,4]\n",
        "\n",
        "def pyc():\n",
        "  for i in values:\n",
        "    print(i)\n",
        "\n",
        "pyc()\n",
        "\n",
        "\n",
        "x= ['ab','cd']\n",
        "for i in x: i=i.upper()\n",
        "print (x)\n",
        "\n",
        "a = 4\n",
        "b = 2\n",
        "c = 0\n",
        "if(a<b)<c: #False in Python = 0, True = 1 they can be compared with integers, they are subclass of integers\n",
        "  print(1)\n",
        "if(a>b)>c: \n",
        "  print(2)\n",
        "\n",
        "#arr=list(5) #Error: list method can only convert iterable objects (strings, tuples etc.) into list objects\n",
        "#print(len(arr))\n",
        "\n",
        "l=[]\n",
        "for i in range(17):\n",
        "  l.append(i*3)\n",
        "m=[x&1 for x in l] # x&1 returns 0 for odd numbers and 1 for even numbers\n",
        "print(l)\n",
        "print(m)"
      ],
      "execution_count": 0,
      "outputs": [
        {
          "output_type": "stream",
          "text": [
            "1\n",
            "2\n",
            "3\n",
            "4\n",
            "['ab', 'cd']\n",
            "2\n",
            "[0, 3, 6, 9, 12, 15, 18, 21, 24, 27, 30, 33, 36, 39, 42, 45, 48]\n",
            "[0, 1, 0, 1, 0, 1, 0, 1, 0, 1, 0, 1, 0, 1, 0, 1, 0]\n"
          ],
          "name": "stdout"
        }
      ]
    },
    {
      "metadata": {
        "id": "J86mGl1z2v_g",
        "colab_type": "code",
        "outputId": "6bafd177-d6d7-46d0-ddfd-c7dbe50e798d",
        "colab": {
          "base_uri": "https://localhost:8080/",
          "height": 109
        }
      },
      "cell_type": "code",
      "source": [
        "nums = [55, 44, 33, 22, 11]\n",
        "dict={}\n",
        "for v,i in enumerate(nums): #enumarate makes v return tuples of keys and values from nums. enumerate(num,3) starts the index from 3, enumerate(num,-2) starts the index from -2\n",
        "  print (v,i)\n",
        "#  a = v[0]\n",
        "#  dict[a]=v[1]\n",
        "#print(dict)"
      ],
      "execution_count": 0,
      "outputs": [
        {
          "output_type": "stream",
          "text": [
            "0 55\n",
            "1 44\n",
            "2 33\n",
            "3 22\n",
            "4 11\n"
          ],
          "name": "stdout"
        }
      ]
    },
    {
      "metadata": {
        "id": "mwzpcNUeqj5M",
        "colab_type": "code",
        "outputId": "08026fe6-6166-41ae-9e6d-6feaf31b7dc8",
        "colab": {
          "base_uri": "https://localhost:8080/",
          "height": 55
        }
      },
      "cell_type": "code",
      "source": [
        "dict=[]\n",
        "#dict[0]=30 #Error, daha önce oluşturulmamış değeri değiştiremez/index ile atamayazsın\n",
        "dict=[10,20,30]\n",
        "dict[0]=30\n",
        "print(dict)\n",
        "dict={}\n",
        "dict[0]=30\n",
        "print(dict)"
      ],
      "execution_count": 0,
      "outputs": [
        {
          "output_type": "stream",
          "text": [
            "[30, 20, 30]\n",
            "{0: 30}\n"
          ],
          "name": "stdout"
        }
      ]
    },
    {
      "metadata": {
        "id": "5-c-WusBxr2B",
        "colab_type": "code",
        "colab": {}
      },
      "cell_type": "code",
      "source": [
        "name=name[0].upper()+name[1:].lower  #In order to capitalize the first letter of the word"
      ],
      "execution_count": 0,
      "outputs": []
    },
    {
      "metadata": {
        "id": "RfvHxyn4z7OQ",
        "colab_type": "code",
        "outputId": "bfb02705-df34-4d99-ab3f-017ded0c3951",
        "colab": {
          "base_uri": "https://localhost:8080/",
          "height": 36
        }
      },
      "cell_type": "code",
      "source": [
        "print(21>>3)"
      ],
      "execution_count": 0,
      "outputs": [
        {
          "output_type": "stream",
          "text": [
            "2\n"
          ],
          "name": "stdout"
        }
      ]
    },
    {
      "metadata": {
        "id": "nIblK4huVa4u",
        "colab_type": "code",
        "outputId": "06bedfab-1f85-410c-fff2-c49c00caba52",
        "colab": {
          "base_uri": "https://localhost:8080/",
          "height": 201
        }
      },
      "cell_type": "code",
      "source": [
        "from itertools import *\n",
        "#import itertools\n",
        "\n",
        "for i in islice(count(10),10,40,3): #Count(10) 10'dan başlayarak say, 10 rakam ilerisinden başla, 40 rakam ilerisine kadar, 3'er 3'er\n",
        "  print(i)\n",
        "\n",
        "for i in count(): #sıfırdan başlayarak sayarak ilerle\n",
        "  pass\n",
        "for i in count(20,-3): # 20'den başlayarak geriye doğru 3'er ilerle\n",
        "  pass"
      ],
      "execution_count": 0,
      "outputs": [
        {
          "output_type": "stream",
          "text": [
            "20\n",
            "23\n",
            "26\n",
            "29\n",
            "32\n",
            "35\n",
            "38\n",
            "41\n",
            "44\n",
            "47\n"
          ],
          "name": "stdout"
        }
      ]
    },
    {
      "metadata": {
        "id": "6u7TN_lUblBj",
        "colab_type": "code",
        "outputId": "f93841bf-9c2c-436b-b8e6-eca4abb78740",
        "colab": {
          "base_uri": "https://localhost:8080/",
          "height": 55
        }
      },
      "cell_type": "code",
      "source": [
        "func=lambda x:x%3==0\n",
        "l=filter(func,range(10))\n",
        "print(l) # l filter object\n",
        "l=list(l)\n",
        "print(l)"
      ],
      "execution_count": 0,
      "outputs": [
        {
          "output_type": "stream",
          "text": [
            "<filter object at 0x7f99ed52f5f8>\n",
            "[0, 3, 6, 9]\n"
          ],
          "name": "stdout"
        }
      ]
    },
    {
      "metadata": {
        "id": "1NGi83WlcE4V",
        "colab_type": "code",
        "outputId": "97f16d02-9b0f-4dc9-db27-f2278257c587",
        "colab": {
          "base_uri": "https://localhost:8080/",
          "height": 36
        }
      },
      "cell_type": "code",
      "source": [
        "arr=[[]]*3\n",
        "print(arr)"
      ],
      "execution_count": 0,
      "outputs": [
        {
          "output_type": "stream",
          "text": [
            "[[], [], []]\n"
          ],
          "name": "stdout"
        }
      ]
    },
    {
      "metadata": {
        "id": "cm__bYbZdcbp",
        "colab_type": "code",
        "outputId": "e1227136-20ef-454f-9340-d5e5922a0a16",
        "colab": {
          "base_uri": "https://localhost:8080/",
          "height": 72
        }
      },
      "cell_type": "code",
      "source": [
        "string='123 456 789 101112 131415'\n",
        "print(string)\n",
        "print(string.split())\n",
        "print(string.split(\" \",2)) #baştan itibaren kaç kere bölmesini istiyorsan"
      ],
      "execution_count": 0,
      "outputs": [
        {
          "output_type": "stream",
          "text": [
            "123 456 789 101112 131415\n",
            "['123', '456', '789', '101112', '131415']\n",
            "['123', '456', '789 101112 131415']\n"
          ],
          "name": "stdout"
        }
      ]
    },
    {
      "metadata": {
        "id": "ZBOLgm_ZeaJR",
        "colab_type": "code",
        "outputId": "699868b6-7010-4dce-eef0-d392d0c54e75",
        "colab": {
          "base_uri": "https://localhost:8080/",
          "height": 130
        }
      },
      "cell_type": "code",
      "source": [
        "a=[1,2,3]\n",
        "#x,y=a  #Error liste uzunluğu değişken sayısına eşit değil \n",
        "\n",
        "x,y,z=a #List unpacking\n",
        "print(x)\n",
        "print(y)\n",
        "print(z)\n",
        "\n",
        "a_tuple=()\n",
        "#a_tuple.append(7) #Error cannot append to tuple, Tuple'ları birbirleriyle toplayarak birleştirebilirsin;\n",
        "b_tuple= a_tuple+(2,3,4)\n",
        "print(b_tuple)\n",
        "#mevcut tuple'ı slice ederek yeni oluşturabilirsin;\n",
        "c_tuple=b_tuple[1:]\n",
        "print(c_tuple)\n",
        "#veya sıfırdan yaratabilirsin\n",
        "this=1\n",
        "that=2\n",
        "them=3\n",
        "d_tuple=(this, that, them)\n",
        "print(d_tuple)\n",
        "\n",
        "\n"
      ],
      "execution_count": 0,
      "outputs": [
        {
          "output_type": "stream",
          "text": [
            "1\n",
            "2\n",
            "3\n",
            "(2, 3, 4)\n",
            "(3, 4)\n",
            "(1, 2, 3)\n"
          ],
          "name": "stdout"
        }
      ]
    },
    {
      "metadata": {
        "id": "SgFXBH_Yhpb9",
        "colab_type": "code",
        "outputId": "a0251a0d-1b82-4bc1-d779-8dccb77e3000",
        "colab": {
          "base_uri": "https://localhost:8080/",
          "height": 111
        }
      },
      "cell_type": "code",
      "source": [
        "a=list()\n",
        "b=dict()\n",
        "c=dict()\n",
        "for n in range(3):\n",
        "  a.append(n)\n",
        "  b[n]=a\n",
        "  c[n]=list(a)\n",
        "print(a)\n",
        "print(b)\n",
        "print(c)\n",
        "\n",
        "x='abcde'\n",
        "y=x[-1:]\n",
        "print(y)\n",
        "z=x[:-1]\n",
        "print(z)"
      ],
      "execution_count": 0,
      "outputs": [
        {
          "output_type": "stream",
          "text": [
            "[0, 1, 2]\n",
            "{0: [0, 1, 2], 1: [0, 1, 2], 2: [0, 1, 2]}\n",
            "{0: [0], 1: [0, 1], 2: [0, 1, 2]}\n",
            "e\n",
            "abcd\n"
          ],
          "name": "stdout"
        }
      ]
    },
    {
      "metadata": {
        "id": "lp28nFFz__9Q",
        "colab_type": "code",
        "outputId": "d3d2cc8f-e32b-48f6-d4db-e36cbb595b61",
        "colab": {
          "base_uri": "https://localhost:8080/",
          "height": 74
        }
      },
      "cell_type": "code",
      "source": [
        "#To loop over two or more sequences at the same time, the entries can be paired with the zip() function.\n",
        "\n",
        "questions = ['name', 'quest', 'favorite color']\n",
        "answers = ['lancelot', 'the holy grail', 'blue']\n",
        "for q, a in zip(questions, answers):\n",
        "  print('What is your {0}?  It is {1}.'.format(q, a))\n",
        "\n"
      ],
      "execution_count": 0,
      "outputs": [
        {
          "output_type": "stream",
          "text": [
            "What is your name?  It is lancelot.\n",
            "What is your quest?  It is the holy grail.\n",
            "What is your favorite color?  It is blue.\n"
          ],
          "name": "stdout"
        }
      ]
    },
    {
      "metadata": {
        "id": "Zc0E0NhwMzPZ",
        "colab_type": "code",
        "outputId": "391301ef-efd9-4844-a736-1d6c8254af3f",
        "colab": {
          "base_uri": "https://localhost:8080/",
          "height": 36
        }
      },
      "cell_type": "code",
      "source": [
        "def cm():\n",
        "  return[lambda x:i*x for i in range(3)]\n",
        "\n",
        "for m in cm():\n",
        "  print(m(1),end='')"
      ],
      "execution_count": 0,
      "outputs": [
        {
          "output_type": "execute_result",
          "data": {
            "text/plain": [
              "list"
            ]
          },
          "metadata": {
            "tags": []
          },
          "execution_count": 15
        }
      ]
    },
    {
      "metadata": {
        "id": "ChX-sdr_YmNg",
        "colab_type": "code",
        "outputId": "8a3c8314-4080-4928-b31a-de368d1270ef",
        "colab": {
          "base_uri": "https://localhost:8080/",
          "height": 149
        }
      },
      "cell_type": "code",
      "source": [
        "print(\", \".join([\"spam\", \"eggs\", \"ham\"]))\n",
        "#prints \"spam, eggs, ham\"\n",
        "\n",
        "print(\"Hello ME\".replace(\"ME\", \"world\")) #Doesn't change the original string, returns a new string\n",
        "#prints \"Hello world\"\n",
        "\n",
        "print(\"This is a sentence.\".startswith(\"This\"))\n",
        "# prints \"True\"\n",
        "\n",
        "print(\"This is a sentence.\".endswith(\"sentence.\"))\n",
        "# prints \"True\"\n",
        "\n",
        "print(\"This is a sentence.\".upper())\n",
        "# prints \"THIS IS A SENTENCE.\"\n",
        "\n",
        "print(\"AN ALL CAPS SENTENCE\".lower())\n",
        "#prints \"an all caps sentence\"\n",
        "\n",
        "print(\"spam, eggs, ham\".split(\", \"))\n",
        "#prints \"['spam', 'eggs', 'ham']\""
      ],
      "execution_count": 0,
      "outputs": [
        {
          "output_type": "stream",
          "text": [
            "spam, eggs, ham\n",
            "Hello world\n",
            "True\n",
            "True\n",
            "THIS IS A SENTENCE.\n",
            "an all caps sentence\n",
            "['spam', 'eggs', 'ham']\n"
          ],
          "name": "stdout"
        }
      ]
    },
    {
      "metadata": {
        "id": "teheA_1KZVth",
        "colab_type": "code",
        "outputId": "272fd05a-3ea6-4d09-a415-09c4b46cce1c",
        "colab": {
          "base_uri": "https://localhost:8080/",
          "height": 187
        }
      },
      "cell_type": "code",
      "source": [
        "i = 98765.4321\n",
        "print(round(i))#prints 98765 (rounds to full number) \n",
        "print(round(i,1))#prints 98765.4 (rounds to 1 decimal) \n",
        "print(round(i,2))#prints 98765.43 (rounds to 2 decimals) \n",
        "print(round(i,3))#prints 98765.432 (rounds to 3 decimals) \n",
        "print(round(i,4))#prints 98765.4321 (rounds to 4 decimals) \n",
        "print(round(i,-1))#prints 98770.0 (rounds to nearest 10) \n",
        "print(round(i,-2))#prints 98800.0 (rounds to nearest 100) \n",
        "print(round(i,-3))#prints 99000.0 (rounds to nearest 1000) \n",
        "print(round(i,-4))#prints 100000.0 (rounds to nearest 10000)"
      ],
      "execution_count": 0,
      "outputs": [
        {
          "output_type": "stream",
          "text": [
            "98765\n",
            "98765.4\n",
            "98765.43\n",
            "98765.432\n",
            "98765.4321\n",
            "98770.0\n",
            "98800.0\n",
            "99000.0\n",
            "100000.0\n"
          ],
          "name": "stdout"
        }
      ]
    },
    {
      "metadata": {
        "id": "d0BFAlSLaAR_",
        "colab_type": "code",
        "outputId": "91003e5a-1d47-4493-b8ae-36e9b7eda1a6",
        "colab": {
          "base_uri": "https://localhost:8080/",
          "height": 252
        }
      },
      "cell_type": "code",
      "source": [
        "nums = [55, 44, 33, 22, 11]\n",
        "if all(i > 5 for i in nums):\n",
        "   print(\"All larger than 5\")\n",
        "\n",
        "if any(i % 2 == 0 for i in nums):\n",
        "   print(\"At least one is even\")"
      ],
      "execution_count": 0,
      "outputs": [
        {
          "output_type": "error",
          "ename": "NameError",
          "evalue": "ignored",
          "traceback": [
            "\u001b[0;31m---------------------------------------------------------------------------\u001b[0m",
            "\u001b[0;31mNameError\u001b[0m                                 Traceback (most recent call last)",
            "\u001b[0;32m<ipython-input-24-56094b3b30a3>\u001b[0m in \u001b[0;36m<module>\u001b[0;34m()\u001b[0m\n\u001b[0;32m----> 1\u001b[0;31m \u001b[0;32mif\u001b[0m \u001b[0mall\u001b[0m\u001b[0;34m(\u001b[0m\u001b[0mi\u001b[0m \u001b[0;34m>\u001b[0m \u001b[0;36m5\u001b[0m \u001b[0;32mfor\u001b[0m \u001b[0mi\u001b[0m \u001b[0;32min\u001b[0m \u001b[0mnums\u001b[0m\u001b[0;34m)\u001b[0m\u001b[0;34m:\u001b[0m\u001b[0;34m\u001b[0m\u001b[0m\n\u001b[0m\u001b[1;32m      2\u001b[0m    \u001b[0mprint\u001b[0m\u001b[0;34m(\u001b[0m\u001b[0;34m\"All larger than 5\"\u001b[0m\u001b[0;34m)\u001b[0m\u001b[0;34m\u001b[0m\u001b[0m\n\u001b[1;32m      3\u001b[0m \u001b[0;34m\u001b[0m\u001b[0m\n\u001b[1;32m      4\u001b[0m \u001b[0;32mif\u001b[0m \u001b[0many\u001b[0m\u001b[0;34m(\u001b[0m\u001b[0mi\u001b[0m \u001b[0;34m%\u001b[0m \u001b[0;36m2\u001b[0m \u001b[0;34m==\u001b[0m \u001b[0;36m0\u001b[0m \u001b[0;32mfor\u001b[0m \u001b[0mi\u001b[0m \u001b[0;32min\u001b[0m \u001b[0mnums\u001b[0m\u001b[0;34m)\u001b[0m\u001b[0;34m:\u001b[0m\u001b[0;34m\u001b[0m\u001b[0m\n\u001b[1;32m      5\u001b[0m    \u001b[0mprint\u001b[0m\u001b[0;34m(\u001b[0m\u001b[0;34m\"At least one is even\"\u001b[0m\u001b[0;34m)\u001b[0m\u001b[0;34m\u001b[0m\u001b[0m\n",
            "\u001b[0;31mNameError\u001b[0m: name 'nums' is not defined"
          ]
        }
      ]
    },
    {
      "metadata": {
        "id": "IbP8pnXpyUe5",
        "colab_type": "code",
        "colab": {}
      },
      "cell_type": "code",
      "source": [
        "python -c \"import django; print(django.__path__)\"  #Run the python command from the command line"
      ],
      "execution_count": 0,
      "outputs": []
    },
    {
      "metadata": {
        "id": "234b4qn5k3uC",
        "colab_type": "code",
        "outputId": "1aeba866-216f-4bbb-b406-d2970da85646",
        "colab": {
          "base_uri": "https://localhost:8080/",
          "height": 111
        }
      },
      "cell_type": "code",
      "source": [
        "def countdown():\n",
        "  i=5\n",
        "  while i>0:\n",
        "    yield i\n",
        "    i-=1\n",
        "    \n",
        "for a in countdown():\n",
        "  print(countdown())\n"
      ],
      "execution_count": 0,
      "outputs": [
        {
          "output_type": "stream",
          "text": [
            "<generator object countdown at 0x7f95ccfd2c50>\n",
            "<generator object countdown at 0x7f95ccfd2c50>\n",
            "<generator object countdown at 0x7f95ccfd2c50>\n",
            "<generator object countdown at 0x7f95ccfd2c50>\n",
            "<generator object countdown at 0x7f95ccfd2c50>\n"
          ],
          "name": "stdout"
        }
      ]
    },
    {
      "metadata": {
        "id": "1PWU9EtkmYMz",
        "colab_type": "code",
        "outputId": "0bfaac1e-f416-4800-a512-52bb41ece7a6",
        "colab": {
          "base_uri": "https://localhost:8080/",
          "height": 36
        }
      },
      "cell_type": "code",
      "source": [
        "e=5+3j #complex value\n",
        "\n",
        "d=0b1010 #binary type starts with 0b or 0B\n",
        "bin(5) #converts int to binary\n",
        "\n",
        "f=0xC13B #hexadecimal type starts with 0x or 0X\n",
        "hex(124) #converts int to hexadecimal"
      ],
      "execution_count": 0,
      "outputs": [
        {
          "output_type": "execute_result",
          "data": {
            "text/plain": [
              "'0x7c'"
            ]
          },
          "metadata": {
            "tags": []
          },
          "execution_count": 6
        }
      ]
    },
    {
      "metadata": {
        "id": "GmZH08wuhDWE",
        "colab_type": "code",
        "colab": {}
      },
      "cell_type": "code",
      "source": [
        ""
      ],
      "execution_count": 0,
      "outputs": []
    },
    {
      "metadata": {
        "id": "XzIp4lfH6Ar4",
        "colab_type": "code",
        "outputId": "91165785-d9c6-4405-b334-554bdc2b9b53",
        "colab": {
          "base_uri": "https://localhost:8080/",
          "height": 55
        }
      },
      "cell_type": "code",
      "source": [
        "list=[\"Isaac Asimov\", \"Ray Bradbury\", \"Robert Heinslein\", \"Arthur C. Clarke\", \"Frank Herbert\", \"Orson Scott Card\", \"Douglas Adams\", \"H. G. Wells\", \"Leigh Brackett\"]\n",
        "\n",
        "#help(list.sort)  # prints out how to use sort()\n",
        "print(list)\n",
        "list.sort(key = lambda x: x.split(\" \")[-1].lower())\n",
        "print(list)"
      ],
      "execution_count": 0,
      "outputs": [
        {
          "output_type": "stream",
          "text": [
            "['Isaac Asimov', 'Ray Bradbury', 'Robert Heinslein', 'Arthur C. Clarke', 'Frank Herbert', 'Orson Scott Card', 'Douglas Adams', 'H. G. Wells', 'Leigh Brackett']\n",
            "['Douglas Adams', 'Isaac Asimov', 'Leigh Brackett', 'Ray Bradbury', 'Orson Scott Card', 'Arthur C. Clarke', 'Robert Heinslein', 'Frank Herbert', 'H. G. Wells']\n"
          ],
          "name": "stdout"
        }
      ]
    },
    {
      "metadata": {
        "id": "BBU901D-8Erp",
        "colab_type": "code",
        "outputId": "f5d5c4a6-4395-4407-dc11-9c9a54d80aaa",
        "colab": {
          "base_uri": "https://localhost:8080/",
          "height": 36
        }
      },
      "cell_type": "code",
      "source": [
        "def build_quadratic_function(a,b,c):\n",
        "  return lambda x: a*x**2+b*x+c   #returns a function\n",
        "\n",
        "build_quadratic_function(2,1,4)(3) #function returned is called with value 3"
      ],
      "execution_count": 0,
      "outputs": [
        {
          "output_type": "execute_result",
          "data": {
            "text/plain": [
              "25"
            ]
          },
          "metadata": {
            "tags": []
          },
          "execution_count": 21
        }
      ]
    },
    {
      "metadata": {
        "id": "DMDoj53vYHTd",
        "colab_type": "code",
        "outputId": "efd444d0-0af8-4e33-ebe1-4f75d10fcb5d",
        "colab": {
          "base_uri": "https://localhost:8080/",
          "height": 583
        }
      },
      "cell_type": "code",
      "source": [
        "!pip install paramiko\n",
        "import paramiko"
      ],
      "execution_count": 0,
      "outputs": [
        {
          "output_type": "stream",
          "text": [
            "Collecting paramiko\n",
            "\u001b[?25l  Downloading https://files.pythonhosted.org/packages/3e/db/cb7b6656e0e7387637ce850689084dc0b94b44df31cc52e5fc5c2c4fd2c1/paramiko-2.4.1-py2.py3-none-any.whl (194kB)\n",
            "\u001b[K    100% |████████████████████████████████| 194kB 3.9MB/s \n",
            "\u001b[?25hCollecting cryptography>=1.5 (from paramiko)\n",
            "\u001b[?25l  Downloading https://files.pythonhosted.org/packages/c2/fa/fa9a8933c285895935d1392922fe721e9cb1b2c1881d14f149213a227ee3/cryptography-2.3-cp34-abi3-manylinux1_x86_64.whl (2.1MB)\n",
            "\u001b[K    100% |████████████████████████████████| 2.1MB 5.7MB/s \n",
            "\u001b[?25hCollecting pynacl>=1.0.1 (from paramiko)\n",
            "\u001b[?25l  Downloading https://files.pythonhosted.org/packages/77/03/927e4cdbd821f929392608ddb2220a9548ce164c52047e90fadd20786fd8/PyNaCl-1.2.1-cp36-cp36m-manylinux1_x86_64.whl (692kB)\n",
            "\u001b[K    100% |████████████████████████████████| 696kB 12.2MB/s \n",
            "\u001b[?25hRequirement already satisfied: pyasn1>=0.1.7 in /usr/local/lib/python3.6/dist-packages (from paramiko) (0.4.4)\n",
            "Collecting bcrypt>=3.1.3 (from paramiko)\n",
            "\u001b[?25l  Downloading https://files.pythonhosted.org/packages/b8/09/905ec939994e2c49dcffff72f823802557f166b3815ea54c1db3671eed42/bcrypt-3.1.4-cp36-cp36m-manylinux1_x86_64.whl (54kB)\n",
            "\u001b[K    100% |████████████████████████████████| 61kB 15.2MB/s \n",
            "\u001b[?25hRequirement already satisfied: six>=1.4.1 in /usr/local/lib/python3.6/dist-packages (from cryptography>=1.5->paramiko) (1.11.0)\n",
            "Requirement already satisfied: idna>=2.1 in /usr/local/lib/python3.6/dist-packages (from cryptography>=1.5->paramiko) (2.6)\n",
            "Collecting asn1crypto>=0.21.0 (from cryptography>=1.5->paramiko)\n",
            "\u001b[?25l  Downloading https://files.pythonhosted.org/packages/ea/cd/35485615f45f30a510576f1a56d1e0a7ad7bd8ab5ed7cdc600ef7cd06222/asn1crypto-0.24.0-py2.py3-none-any.whl (101kB)\n",
            "\u001b[K    100% |████████████████████████████████| 102kB 12.5MB/s \n",
            "\u001b[?25hCollecting cffi!=1.11.3,>=1.7 (from cryptography>=1.5->paramiko)\n",
            "\u001b[?25l  Downloading https://files.pythonhosted.org/packages/6d/c0/47db8f624f3e4e2f3f27be03a93379d1ba16a1450a7b1aacfa0366e2c0dd/cffi-1.11.5-cp36-cp36m-manylinux1_x86_64.whl (421kB)\n",
            "\u001b[K    100% |████████████████████████████████| 430kB 13.8MB/s \n",
            "\u001b[?25hCollecting pycparser (from cffi!=1.11.3,>=1.7->cryptography>=1.5->paramiko)\n",
            "\u001b[?25l  Downloading https://files.pythonhosted.org/packages/8c/2d/aad7f16146f4197a11f8e91fb81df177adcc2073d36a17b1491fd09df6ed/pycparser-2.18.tar.gz (245kB)\n",
            "\u001b[K    100% |████████████████████████████████| 256kB 10.8MB/s \n",
            "\u001b[?25hBuilding wheels for collected packages: pycparser\n",
            "  Running setup.py bdist_wheel for pycparser ... \u001b[?25l-\b \b\\\b \bdone\n",
            "\u001b[?25h  Stored in directory: /content/.cache/pip/wheels/c0/a1/27/5ba234bd77ea5a290cbf6d675259ec52293193467a12ef1f46\n",
            "Successfully built pycparser\n",
            "Installing collected packages: asn1crypto, pycparser, cffi, cryptography, pynacl, bcrypt, paramiko\n",
            "Successfully installed asn1crypto-0.24.0 bcrypt-3.1.4 cffi-1.11.5 cryptography-2.3 paramiko-2.4.1 pycparser-2.18 pynacl-1.2.1\n"
          ],
          "name": "stdout"
        }
      ]
    },
    {
      "metadata": {
        "id": "AdrQA3MwfvAc",
        "colab_type": "code",
        "colab": {}
      },
      "cell_type": "code",
      "source": [
        "x=input(\"Enter a value: \")\n",
        "assert round(x)==x,\"Enter an integer\"\n",
        "assert x>0,\"Enter a positive number\""
      ],
      "execution_count": 0,
      "outputs": []
    },
    {
      "metadata": {
        "id": "uy0ByJhUnZyO",
        "colab_type": "code",
        "outputId": "82222d0e-5396-40e3-b2f1-fbbadbcb6749",
        "colab": {
          "base_uri": "https://localhost:8080/",
          "height": 109
        }
      },
      "cell_type": "code",
      "source": [
        "letters = {\"c\", \"e\", \"a\", \"d\",\"a\"}\n",
        "print(letters)\n",
        "\n",
        "print(\"e\" in letters) #checking a variable is in a set is faster than checking in a list\n",
        "\n",
        "numbers={1,3,4,5,7,4,8}\n",
        "numbers.pop()\n",
        "numbers.pop()\n",
        "print(numbers)\n",
        "\n",
        "\n",
        "dicti={1:1,2:2,3:3,4:4}\n",
        "\n",
        "for i,x in enumerate(letters):\n",
        "     dicti[i]=x\n",
        "print(dicti)\n",
        "dicti.pop(2)\n",
        "dicti"
      ],
      "execution_count": 0,
      "outputs": [
        {
          "output_type": "stream",
          "text": [
            "{'c', 'd', 'e', 'a'}\n",
            "True\n",
            "{4, 5, 7, 8}\n",
            "{1: 'd', 2: 'e', 3: 'a', 4: 4, 0: 'c'}\n"
          ],
          "name": "stdout"
        },
        {
          "output_type": "execute_result",
          "data": {
            "text/plain": [
              "{0: 'c', 1: 'd', 3: 'a', 4: 4}"
            ]
          },
          "metadata": {
            "tags": []
          },
          "execution_count": 9
        }
      ]
    },
    {
      "metadata": {
        "id": "15I1QZWQ-kva",
        "colab_type": "code",
        "outputId": "6898e5cd-d60a-4256-9c5b-b648fbe48580",
        "colab": {
          "base_uri": "https://localhost:8080/",
          "height": 36
        }
      },
      "cell_type": "code",
      "source": [
        "letters = {\"c\", \"e\", \"a\", \"d\",\"a\"}\n",
        "letters2 = {\"k\", \"e\", \"c\", \"f\",\"h\"}\n",
        "\n",
        "print(letters-letters2)"
      ],
      "execution_count": 0,
      "outputs": [
        {
          "output_type": "stream",
          "text": [
            "{'d', 'a'}\n"
          ],
          "name": "stdout"
        }
      ]
    },
    {
      "metadata": {
        "id": "sghcQLGWA4cJ",
        "colab_type": "code",
        "outputId": "aacaa33a-f10f-4ba6-b999-f2ea46dc701e",
        "colab": {
          "base_uri": "https://localhost:8080/",
          "height": 111
        }
      },
      "cell_type": "code",
      "source": [
        "first = {1, 2, 3, 4, 5, 6}\n",
        "second = {4, 5, 6, 7, 8, 9}\n",
        "\n",
        "print(first | second)\n",
        "print(first & second)\n",
        "print(first - second)\n",
        "print(second - first)\n",
        "print(first ^ second)"
      ],
      "execution_count": 0,
      "outputs": [
        {
          "output_type": "stream",
          "text": [
            "{1, 2, 3, 4, 5, 6, 7, 8, 9}\n",
            "{4, 5, 6}\n",
            "{1, 2, 3}\n",
            "{8, 9, 7}\n",
            "{1, 2, 3, 7, 8, 9}\n"
          ],
          "name": "stdout"
        }
      ]
    },
    {
      "metadata": {
        "id": "BYm0mPtrNPoK",
        "colab_type": "code",
        "outputId": "d6585760-1c13-441c-8c82-d0b5a27a79d5",
        "colab": {
          "base_uri": "https://localhost:8080/",
          "height": 92
        }
      },
      "cell_type": "code",
      "source": [
        "from itertools import accumulate, takewhile\n",
        "nums = list(x for x in range(8))\n",
        "print(nums)\n",
        "print(type(nums))\n",
        "nums = list(accumulate(nums)) #accumulate adds the \n",
        "print(nums)\n",
        "print(list(takewhile(lambda x: x<= 6, nums)))"
      ],
      "execution_count": 0,
      "outputs": [
        {
          "output_type": "stream",
          "text": [
            "[0, 1, 2, 3, 4, 5, 6, 7]\n",
            "<class 'list'>\n",
            "[0, 1, 3, 6, 10, 15, 21, 28]\n",
            "[0, 1, 3, 6]\n"
          ],
          "name": "stdout"
        }
      ]
    },
    {
      "metadata": {
        "id": "Sa68C-aLXAbW",
        "colab_type": "code",
        "colab": {}
      },
      "cell_type": "code",
      "source": [
        "5(lambda x: x*(x+1))(5) \n",
        "\n"
      ],
      "execution_count": 0,
      "outputs": []
    },
    {
      "metadata": {
        "id": "lwDQBlR4xNXd",
        "colab_type": "code",
        "outputId": "38495b5c-d10a-4be1-dd87-5f180f758349",
        "colab": {
          "base_uri": "https://localhost:8080/",
          "height": 111
        }
      },
      "cell_type": "code",
      "source": [
        "for i in range(5):\n",
        "  print(i)\n",
        "  i+=1"
      ],
      "execution_count": 0,
      "outputs": [
        {
          "output_type": "stream",
          "text": [
            "0\n",
            "1\n",
            "2\n",
            "3\n",
            "4\n"
          ],
          "name": "stdout"
        }
      ]
    },
    {
      "metadata": {
        "id": "DCcunLAUy1qz",
        "colab_type": "code",
        "outputId": "3b8d2ba2-2296-47dd-ca97-e5c5101b7ebe",
        "colab": {
          "base_uri": "https://localhost:8080/",
          "height": 252
        }
      },
      "cell_type": "code",
      "source": [
        "nums = [8, 9, 1, 2, 3, 4, 5, 6, 7]\n",
        "\n",
        "sorted(nums)\n",
        "print(nums)\n",
        "\n",
        "letters = [\"a\",\"c\",\"g\",\"f\",\"p\"]\n",
        "\n",
        "letters.pop(\"g\")\n",
        "letters"
      ],
      "execution_count": 0,
      "outputs": [
        {
          "output_type": "stream",
          "text": [
            "[8, 9, 1, 2, 3, 4, 5, 6, 7]\n"
          ],
          "name": "stdout"
        },
        {
          "output_type": "error",
          "ename": "TypeError",
          "evalue": "ignored",
          "traceback": [
            "\u001b[0;31m---------------------------------------------------------------------------\u001b[0m",
            "\u001b[0;31mTypeError\u001b[0m                                 Traceback (most recent call last)",
            "\u001b[0;32m<ipython-input-1-908a2c6ca470>\u001b[0m in \u001b[0;36m<module>\u001b[0;34m()\u001b[0m\n\u001b[1;32m      6\u001b[0m \u001b[0mletters\u001b[0m \u001b[0;34m=\u001b[0m \u001b[0;34m[\u001b[0m\u001b[0;34m\"a\"\u001b[0m\u001b[0;34m,\u001b[0m\u001b[0;34m\"c\"\u001b[0m\u001b[0;34m,\u001b[0m\u001b[0;34m\"g\"\u001b[0m\u001b[0;34m,\u001b[0m\u001b[0;34m\"f\"\u001b[0m\u001b[0;34m,\u001b[0m\u001b[0;34m\"p\"\u001b[0m\u001b[0;34m]\u001b[0m\u001b[0;34m\u001b[0m\u001b[0m\n\u001b[1;32m      7\u001b[0m \u001b[0;34m\u001b[0m\u001b[0m\n\u001b[0;32m----> 8\u001b[0;31m \u001b[0mletters\u001b[0m\u001b[0;34m.\u001b[0m\u001b[0mpop\u001b[0m\u001b[0;34m(\u001b[0m\u001b[0;34m\"g\"\u001b[0m\u001b[0;34m)\u001b[0m\u001b[0;34m\u001b[0m\u001b[0m\n\u001b[0m\u001b[1;32m      9\u001b[0m \u001b[0mletters\u001b[0m\u001b[0;34m\u001b[0m\u001b[0m\n",
            "\u001b[0;31mTypeError\u001b[0m: 'str' object cannot be interpreted as an integer"
          ]
        }
      ]
    },
    {
      "metadata": {
        "id": "gIimfBePrBni",
        "colab_type": "code",
        "outputId": "8ac6882b-f538-4723-b12f-4f1a755c45d2",
        "colab": {
          "base_uri": "https://localhost:8080/",
          "height": 54
        }
      },
      "cell_type": "code",
      "source": [
        "#map(lambda func,iterable) # returns an new iterable with func applies to all iterable members\n",
        "\n",
        "#filter(lambda condition,iterable) # returns a new iterable with iterables apply to the condition\n",
        "\n",
        "\n",
        "list_a=[1,2,3,4,5]\n",
        "print(list(map(lambda x: x*2, list_a)))\n",
        "\n",
        "print(list(filter(lambda x: x%2==0, list_a)))"
      ],
      "execution_count": 0,
      "outputs": [
        {
          "output_type": "stream",
          "text": [
            "[2, 4, 6, 8, 10]\n",
            "[2, 4]\n"
          ],
          "name": "stdout"
        }
      ]
    },
    {
      "metadata": {
        "id": "lUh2TJ1pvSOh",
        "colab_type": "code",
        "outputId": "081ec5e8-ba14-4c3e-e771-a2c33b8153e1",
        "colab": {
          "base_uri": "https://localhost:8080/",
          "height": 35
        }
      },
      "cell_type": "code",
      "source": [
        "b={} #empty dict\n",
        "b=dict() #empty dict\n",
        "dict[\"a\"]=1 #assigning to dict\n",
        "dict={\"a\":1,\"b\":2,\"c\":3} #assigning to dict\n",
        "\n",
        "set1 = set() #empty set\n",
        "set1 = {1,2,3,4} #assigning to set\n",
        "\n",
        "tuple=() #empty tuple\n",
        "tuple=(1,) #tuple with only one element / singleton\n",
        "tuple=(1,2,3,4) #assigning to tuple\n",
        "tuple+(5,6,7) #tuples cannot be changed but can be concatanated\n",
        "\n",
        "list=[] #empty list\n",
        "a=list() #empty list\n",
        "list=[1,2,3,4] #creating filled list\n",
        "list.append(5) #assigning to list\n"
      ],
      "execution_count": 0,
      "outputs": [
        {
          "output_type": "stream",
          "text": [
            "[1, 2, 3, 4, 5]\n"
          ],
          "name": "stdout"
        }
      ]
    },
    {
      "metadata": {
        "id": "69Tr8r3Hzux9",
        "colab_type": "code",
        "outputId": "68ac920b-1815-4ce5-fc02-00befd1e9e74",
        "colab": {
          "base_uri": "https://localhost:8080/",
          "height": 35
        }
      },
      "cell_type": "code",
      "source": [
        "#lambda: one line function / anonymous function\n",
        "\n",
        "print((lambda x: x**2)(4))\n"
      ],
      "execution_count": 0,
      "outputs": [
        {
          "output_type": "stream",
          "text": [
            "16\n"
          ],
          "name": "stdout"
        }
      ]
    },
    {
      "metadata": {
        "id": "fszLhgtz37rY",
        "colab_type": "code",
        "colab": {}
      },
      "cell_type": "code",
      "source": [
        "class Cat:  #class definition\n",
        "  def __init__(self, color, legs):\n",
        "    self.color = color\n",
        "    self.legs = legs\n",
        "\n",
        "felix = Cat(\"blue\", 4)  # class initialization\n",
        "\n",
        "class Cat(Animal):  #class initialization with inheritance from Animal class\n",
        "  def purr():\n",
        "    print(\"purr\")"
      ],
      "execution_count": 0,
      "outputs": []
    },
    {
      "metadata": {
        "id": "Y2V_nceMIOXp",
        "colab_type": "code",
        "colab": {}
      },
      "cell_type": "code",
      "source": [
        "dict = {\"color\":\"black\", \"number\":1}\n",
        "\n",
        "dict.setdefault(\"color\",\"white\") # adds the color:white pair only if color key is not used before\n",
        "\n",
        "dict.get(\"color\",0) #gets dict[color], if not found, returns second parameter (0)\n"
      ],
      "execution_count": 0,
      "outputs": []
    },
    {
      "metadata": {
        "id": "bEuD4UjNT74c",
        "colab_type": "code",
        "outputId": "4e5d3ac6-ff53-4a6d-d96e-818c938853e2",
        "colab": {
          "base_uri": "https://localhost:8080/",
          "height": 35
        }
      },
      "cell_type": "code",
      "source": [
        "print(\"Word1\",\"Word2\",\"Word3\", end=\" \", sep=\"...f\") #print line break"
      ],
      "execution_count": 0,
      "outputs": [
        {
          "output_type": "stream",
          "text": [
            "Word1...Word2...Word3 "
          ],
          "name": "stdout"
        }
      ]
    },
    {
      "metadata": {
        "id": "0xGBA8Ihd73g",
        "colab_type": "code",
        "outputId": "e3a500b7-10dc-4c24-9dcb-b95eb9f0d18f",
        "colab": {
          "base_uri": "https://localhost:8080/",
          "height": 35
        }
      },
      "cell_type": "code",
      "source": [
        "list1=[1,2,3,4,5,6,7,8,9]\n",
        "\n",
        "list(\"even\" for i in list1 if i & 1 ==0)\n"
      ],
      "execution_count": 0,
      "outputs": [
        {
          "output_type": "execute_result",
          "data": {
            "text/plain": [
              "['even', 'even', 'even', 'even']"
            ]
          },
          "metadata": {
            "tags": []
          },
          "execution_count": 7
        }
      ]
    },
    {
      "metadata": {
        "id": "3iNMW3cHgL_A",
        "colab_type": "code",
        "outputId": "03a95150-e1db-42e6-c9f2-c9531b161c56",
        "colab": {
          "base_uri": "https://localhost:8080/",
          "height": 35
        }
      },
      "cell_type": "code",
      "source": [
        "2 & 1  #bitwise and\n",
        "2 | 1  #bitwise or\n",
        "2 ^ 1  #bitwise xor "
      ],
      "execution_count": 0,
      "outputs": [
        {
          "output_type": "execute_result",
          "data": {
            "text/plain": [
              "3"
            ]
          },
          "metadata": {
            "tags": []
          },
          "execution_count": 3
        }
      ]
    },
    {
      "metadata": {
        "id": "bKSb9mUfNQ3U",
        "colab_type": "code",
        "colab": {}
      },
      "cell_type": "code",
      "source": [
        "list[-1]  #last index of the list\n",
        "list[-3]  #third index from the end of list\n",
        "\n",
        "list[2:-3] #from second (included) to third from end (excluded)\n",
        "del list[2] #deletes index 2 and shifts the rest\n",
        "list.remove(\"a\") #finds the first matching \"a\" in the list and deletes (not index based)\n",
        "list.pop(2) #deletes index 2 and returns it\n",
        "\n",
        "\"a\" in list  #return true or false\n",
        "1 not in list\n",
        "\n",
        "list [1,2,3,4]\n",
        "one, two, three, four = list   #multiple assignment, assignes values into variables by order\n",
        "\n",
        "list.index(\"a\") #returns the index value of \"a\", error if not found\n",
        "\n",
        "list.append(\"value\") #appends the value to the end\n",
        "list.insert(3, \"value\") #inserts the value to index 3 and shifts the rest\n",
        "list.extend(list2) #adds list2's elements to the end of list. list.append(list2) adds list2 as the last element of list\n",
        "\n",
        "list.sort() #sorts the list in place\n",
        "sorted(list) #returns a new sorted list, can be called on any iterable incl. strings\"\n",
        "\n",
        "\" \".join(list) #concatenates list elements into string with \" \" between\n"
      ],
      "execution_count": 0,
      "outputs": []
    },
    {
      "metadata": {
        "id": "KbZyrCeqKw94",
        "colab_type": "code",
        "outputId": "f01ab1c8-9daa-4f3b-e964-eac64f13cfa6",
        "colab": {
          "base_uri": "https://localhost:8080/",
          "height": 35
        }
      },
      "cell_type": "code",
      "source": [
        "spam = [\"apples\",\"bananas\",\"tofu\",\"cats\"]  #convert list into string\n",
        "\",\".join(spam[:-1])+\", and \"+spam[-1]\n",
        "\n",
        "\"Some string 123\".isalnum() #True if string is numbers and letters\n",
        "\"Some string 123\".isalpha() #True if string is letters\n",
        "\"Some string 123\".isdecimal() #True if string is numbers\n",
        "\"Some string 123\".isspace() #True if string is space, line break, tabs\n",
        "\n",
        "\"Some string 123\".startswith(\"Some\") #True if string starts with value\n",
        "\"Some string 123\".endswith(\"23\") #True if string ends with value\n",
        "\n",
        "\"Some string 123\".ljust(20) #Justifies the string from left, 20 karakterlik alan oluşana kadar sola boşluk koyar\n",
        "\"Some string 123\".rjust(20, \"-\") #20 karakterlik alan oluşana kadar sağa - koyar\n",
        "\"Some string 123\".center(20, \"#\") #20 karakterlik alan oluşturup ortalar, iki yana # koyar\n",
        "\n",
        "\"Some string 123\".strip() #removes whitespace characters from left and right\n",
        "\"Some string 123\".lstrip() #removes whitespace characters from left\n",
        "\"Some string 123\".rtrip(\"amsP\") #removes a, m, s and P characters from right\n",
        "\n"
      ],
      "execution_count": 0,
      "outputs": [
        {
          "output_type": "execute_result",
          "data": {
            "text/plain": [
              "'apples,bananas,tofu, and cats'"
            ]
          },
          "metadata": {
            "tags": []
          },
          "execution_count": 4
        }
      ]
    },
    {
      "metadata": {
        "id": "TLaSvYvPP8mD",
        "colab_type": "code",
        "outputId": "1175807d-a137-4990-c572-69eaa929a484",
        "colab": {
          "base_uri": "https://localhost:8080/",
          "height": 7364
        }
      },
      "cell_type": "code",
      "source": [
        "import urllib\n",
        "\n",
        "number=[b'12345']\n",
        "\n",
        "\n",
        "for i in range(400):\n",
        "  link = \"http://www.pythonchallenge.com/pc/def/linkedlist.php?nothing=\" + str(number)[3:-1]\n",
        "  #print(link)\n",
        "  response = urllib.request.urlopen(link)\n",
        "  number=response.read()\n",
        "  print(number)\n",
        "  number=number.split()[-1:]\n"
      ],
      "execution_count": 0,
      "outputs": [
        {
          "output_type": "stream",
          "text": [
            "b'and the next nothing is 44827'\n",
            "b'and the next nothing is 45439'\n",
            "b'<font color=red>Your hands are getting tired </font>and the next nothing is 94485'\n",
            "b'and the next nothing is 72198'\n",
            "b'and the next nothing is 80992'\n",
            "b'and the next nothing is 8880'\n",
            "b'and the next nothing is 40961'\n",
            "b'and the next nothing is 58765'\n",
            "b'and the next nothing is 46561'\n",
            "b'and the next nothing is 13418'\n",
            "b'and the next nothing is 41954'\n",
            "b'and the next nothing is 46782'\n",
            "b'and the next nothing is 92730'\n",
            "b'and the next nothing is 89229'\n",
            "b'and the next nothing is 25646'\n",
            "b'and the next nothing is 74288'\n",
            "b'and the next nothing is 25945'\n",
            "b'and the next nothing is 39876'\n",
            "b'and the next nothing is 8498'\n",
            "b'and the next nothing is 34684'\n",
            "b'and the next nothing is 62316'\n",
            "b'and the next nothing is 71331'\n",
            "b'and the next nothing is 59717'\n",
            "b'and the next nothing is 76893'\n",
            "b'and the next nothing is 44091'\n",
            "b'and the next nothing is 73241'\n",
            "b'and the next nothing is 19242'\n",
            "b'and the next nothing is 17476'\n",
            "b'and the next nothing is 39566'\n",
            "b'and the next nothing is 81293'\n",
            "b'and the next nothing is 25857'\n",
            "b'and the next nothing is 74343'\n",
            "b'and the next nothing is 39410'\n",
            "b'and the next nothing is 5505'\n",
            "b'and the next nothing is 27104'\n",
            "b'and the next nothing is 54003'\n",
            "b'and the next nothing is 23501'\n",
            "b'and the next nothing is 21110'\n",
            "b'and the next nothing is 88399'\n",
            "b'and the next nothing is 49740'\n",
            "b'and the next nothing is 31552'\n",
            "b'and the next nothing is 39998'\n",
            "b'and the next nothing is 19755'\n",
            "b'and the next nothing is 64624'\n",
            "b'and the next nothing is 37817'\n",
            "b'and the next nothing is 43427'\n",
            "b'and the next nothing is 15115'\n",
            "b'and the next nothing is 44327'\n",
            "b'and the next nothing is 7715'\n",
            "b'and the next nothing is 15248'\n",
            "b'and the next nothing is 61895'\n",
            "b'and the next nothing is 54759'\n",
            "b'and the next nothing is 54270'\n",
            "b'and the next nothing is 51332'\n",
            "b'and the next nothing is 63481'\n",
            "b'and the next nothing is 12362'\n",
            "b'and the next nothing is 94476'\n",
            "b'and the next nothing is 87810'\n",
            "b'and the next nothing is 6027'\n",
            "b'and the next nothing is 47551'\n",
            "b'and the next nothing is 79498'\n",
            "b'and the next nothing is 81226'\n",
            "b'and the next nothing is 4256'\n",
            "b'and the next nothing is 62734'\n",
            "b'and the next nothing is 25666'\n",
            "b'and the next nothing is 14781'\n",
            "b'and the next nothing is 21412'\n",
            "b'and the next nothing is 55205'\n",
            "b'and the next nothing is 65516'\n",
            "b'and the next nothing is 53535'\n",
            "b'and the next nothing is 4437'\n",
            "b'and the next nothing is 43442'\n",
            "b'and the next nothing is 91308'\n",
            "b'and the next nothing is 1312'\n",
            "b'and the next nothing is 36268'\n",
            "b'and the next nothing is 34289'\n",
            "b'and the next nothing is 46384'\n",
            "b'and the next nothing is 18097'\n",
            "b'and the next nothing is 9401'\n",
            "b'and the next nothing is 54249'\n",
            "b'and the next nothing is 29247'\n",
            "b'and the next nothing is 13115'\n",
            "b'and the next nothing is 23053'\n",
            "b'and the next nothing is 3875'\n",
            "b'and the next nothing is 16044'\n",
            "b'Yes. Divide by two and keep going.'\n",
            "b'and the next nothing is 72758'\n",
            "b'and the next nothing is 71301'\n",
            "b'and the next nothing is 55577'\n",
            "b'and the next nothing is 88786'\n",
            "b'and the next nothing is 32293'\n",
            "b'and the next nothing is 87798'\n",
            "b'and the next nothing is 24838'\n",
            "b'and the next nothing is 66137'\n",
            "b'and the next nothing is 88016'\n",
            "b'and the next nothing is 36876'\n",
            "b'and the next nothing is 33179'\n",
            "b'and the next nothing is 90231'\n",
            "b'and the next nothing is 17825'\n",
            "b'and the next nothing is 84361'\n",
            "b'and the next nothing is 99222'\n",
            "b'and the next nothing is 87348'\n",
            "b'and the next nothing is 47100'\n",
            "b'and the next nothing is 90650'\n",
            "b'and the next nothing is 84369'\n",
            "b'and the next nothing is 36116'\n",
            "b'and the next nothing is 96544'\n",
            "b'and the next nothing is 62892'\n",
            "b'and the next nothing is 43790'\n",
            "b'and the next nothing is 67652'\n",
            "b'and the next nothing is 32839'\n",
            "b'and the next nothing is 5353'\n",
            "b'and the next nothing is 63153'\n",
            "b'and the next nothing is 48029'\n",
            "b'and the next nothing is 84141'\n",
            "b'and the next nothing is 14662'\n",
            "b'and the next nothing is 78566'\n",
            "b'and the next nothing is 18131'\n",
            "b'and the next nothing is 710'\n",
            "b'and the next nothing is 67500'\n",
            "b'and the next nothing is 34992'\n",
            "b'and the next nothing is 64568'\n",
            "b'and the next nothing is 8155'\n",
            "b'and the next nothing is 30579'\n",
            "b'and the next nothing is 11629'\n",
            "b'and the next nothing is 32490'\n",
            "b'and the next nothing is 47936'\n",
            "b'and the next nothing is 51350'\n",
            "b'and the next nothing is 51877'\n",
            "b'and the next nothing is 38270'\n",
            "b'and the next nothing is 41643'\n",
            "b'and the next nothing is 23416'\n",
            "b'and the next nothing is 54432'\n",
            "b'and the next nothing is 4448'\n",
            "b'and the next nothing is 30086'\n",
            "b'and the next nothing is 93346'\n",
            "b'and the next nothing is 53491'\n",
            "b'and the next nothing is 31248'\n",
            "b'and the next nothing is 37446'\n",
            "b'and the next nothing is 11309'\n",
            "b'and the next nothing is 13878'\n",
            "b'and the next nothing is 31404'\n",
            "b'and the next nothing is 27786'\n",
            "b'and the next nothing is 16030'\n",
            "b'and the next nothing is 4689'\n",
            "b'and the next nothing is 16553'\n",
            "b'and the next nothing is 98150'\n",
            "b'and the next nothing is 19224'\n",
            "b'and the next nothing is 71919'\n",
            "b'and the next nothing is 53068'\n",
            "b'and the next nothing is 71407'\n",
            "b'and the next nothing is 54264'\n",
            "b'and the next nothing is 33407'\n",
            "b'and the next nothing is 11086'\n",
            "b'and the next nothing is 72527'\n",
            "b'and the next nothing is 92923'\n",
            "b'and the next nothing is 93389'\n",
            "b'and the next nothing is 94438'\n",
            "b'and the next nothing is 88796'\n",
            "b'and the next nothing is 90785'\n",
            "b'and the next nothing is 73079'\n",
            "b'and the next nothing is 75559'\n",
            "b'and the next nothing is 53223'\n",
            "b'and the next nothing is 75979'\n",
            "b'and the next nothing is 55749'\n",
            "b'and the next nothing is 52948'\n",
            "b'and the next nothing is 71569'\n",
            "b'and the next nothing is 10240'\n",
            "b'and the next nothing is 3064'\n",
            "b'and the next nothing is 29818'\n",
            "b'and the next nothing is 88835'\n",
            "b'and the next nothing is 38200'\n",
            "b'and the next nothing is 32515'\n",
            "b'and the next nothing is 43551'\n",
            "b'and the next nothing is 1398'\n",
            "b'and the next nothing is 23580'\n",
            "b'and the next nothing is 31619'\n",
            "b'and the next nothing is 83052'\n",
            "b'and the next nothing is 37409'\n",
            "b'and the next nothing is 85052'\n",
            "b'and the next nothing is 13510'\n",
            "b'and the next nothing is 43240'\n",
            "b'and the next nothing is 5868'\n",
            "b'and the next nothing is 19337'\n",
            "b'and the next nothing is 21122'\n",
            "b'and the next nothing is 92118'\n",
            "b'and the next nothing is 44659'\n",
            "b'and the next nothing is 60291'\n",
            "b'and the next nothing is 29895'\n",
            "b'and the next nothing is 98452'\n",
            "b'and the next nothing is 42243'\n",
            "b'and the next nothing is 25755'\n",
            "b'and the next nothing is 28879'\n",
            "b'and the next nothing is 37149'\n",
            "b'and the next nothing is 17033'\n",
            "b'and the next nothing is 543'\n",
            "b'and the next nothing is 82304'\n",
            "b'and the next nothing is 80616'\n",
            "b'and the next nothing is 36217'\n",
            "b'and the next nothing is 16201'\n",
            "b'and the next nothing is 33304'\n",
            "b'and the next nothing is 20091'\n",
            "b'and the next nothing is 93295'\n",
            "b'and the next nothing is 75485'\n",
            "b'and the next nothing is 1765'\n",
            "b'and the next nothing is 76626'\n",
            "b'and the next nothing is 92820'\n",
            "b'and the next nothing is 52222'\n",
            "b'and the next nothing is 2892'\n",
            "b'and the next nothing is 65776'\n",
            "b'and the next nothing is 817'\n",
            "b'and the next nothing is 2025'\n",
            "b'and the next nothing is 94455'\n",
            "b'and the next nothing is 47579'\n",
            "b'and the next nothing is 56908'\n",
            "b'and the next nothing is 39768'\n",
            "b'and the next nothing is 76810'\n",
            "b'and the next nothing is 36875'\n",
            "b'and the next nothing is 97644'\n",
            "b'and the next nothing is 84602'\n",
            "b'and the next nothing is 86446'\n",
            "b'and the next nothing is 71359'\n",
            "b'and the next nothing is 33883'\n",
            "b'and the next nothing is 70553'\n",
            "b'and the next nothing is 98832'\n",
            "b'and the next nothing is 60599'\n",
            "b'and the next nothing is 17342'\n",
            "b'and the next nothing is 74423'\n",
            "b'and the next nothing is 41609'\n",
            "b'and the next nothing is 54377'\n",
            "b'and the next nothing is 33490'\n",
            "b'and the next nothing is 35815'\n",
            "b'and the next nothing is 59166'\n",
            "b'and the next nothing is 11441'\n",
            "b'and the next nothing is 94796'\n",
            "b'and the next nothing is 68509'\n",
            "b'and the next nothing is 45872'\n",
            "b'and the next nothing is 81664'\n",
            "b'and the next nothing is 94537'\n",
            "b'and the next nothing is 36571'\n",
            "b'and the next nothing is 52815'\n",
            "b'and the next nothing is 54533'\n",
            "b'and the next nothing is 74595'\n",
            "b'and the next nothing is 55654'\n",
            "b'and the next nothing is 48550'\n",
            "b'and the next nothing is 56044'\n",
            "b'and the next nothing is 25536'\n",
            "b'and the next nothing is 30479'\n",
            "b'and the next nothing is 77512'\n",
            "b'and the next nothing is 94866'\n",
            "b'and the next nothing is 26746'\n",
            "b'and the next nothing is 44833'\n",
            "b'and the next nothing is 96169'\n",
            "b'and the next nothing is 73807'\n",
            "b'and the next nothing is 65481'\n",
            "b'and the next nothing is 28520'\n",
            "b'and the next nothing is 71069'\n",
            "b'and the next nothing is 40951'\n",
            "b'and the next nothing is 72828'\n",
            "b'and the next nothing is 80158'\n",
            "b'and the next nothing is 22504'\n",
            "b'and the next nothing is 69881'\n",
            "b'and the next nothing is 15695'\n",
            "b'and the next nothing is 49718'\n",
            "b'and the next nothing is 64436'\n",
            "b'and the next nothing is 27671'\n",
            "b'and the next nothing is 44306'\n",
            "b'and the next nothing is 59668'\n",
            "b'and the next nothing is 52257'\n",
            "b'and the next nothing is 7219'\n",
            "b'and the next nothing is 36882'\n",
            "b'and the next nothing is 48246'\n",
            "b'and the next nothing is 10907'\n",
            "b'and the next nothing is 57291'\n",
            "b'and the next nothing is 15565'\n",
            "b'and the next nothing is 40253'\n",
            "b'and the next nothing is 57887'\n",
            "b'and the next nothing is 75107'\n",
            "b'and the next nothing is 4757'\n",
            "b'and the next nothing is 3219'\n",
            "b'and the next nothing is 84631'\n",
            "b'and the next nothing is 75550'\n",
            "b'and the next nothing is 30793'\n",
            "b'and the next nothing is 30982'\n",
            "b'and the next nothing is 4391'\n",
            "b'and the next nothing is 86607'\n",
            "b'and the next nothing is 41433'\n",
            "b'and the next nothing is 97107'\n",
            "b'and the next nothing is 89858'\n",
            "b'and the next nothing is 186'\n",
            "b'and the next nothing is 37842'\n",
            "b'and the next nothing is 2777'\n",
            "b'and the next nothing is 44508'\n",
            "b'and the next nothing is 48314'\n",
            "b'and the next nothing is 48355'\n",
            "b'and the next nothing is 67280'\n",
            "b'and the next nothing is 852'\n",
            "b'and the next nothing is 6756'\n",
            "b'and the next nothing is 93964'\n",
            "b'and the next nothing is 51422'\n",
            "b'and the next nothing is 82972'\n",
            "b'and the next nothing is 20192'\n",
            "b'and the next nothing is 12568'\n",
            "b'and the next nothing is 33780'\n",
            "b'and the next nothing is 28995'\n",
            "b'and the next nothing is 94122'\n",
            "b'and the next nothing is 13677'\n",
            "b'and the next nothing is 78020'\n",
            "b'and the next nothing is 50718'\n",
            "b'and the next nothing is 3014'\n",
            "b'and the next nothing is 87513'\n",
            "b'and the next nothing is 60592'\n",
            "b'and the next nothing is 16613'\n",
            "b'and the next nothing is 48784'\n",
            "b'and the next nothing is 91727'\n",
            "b'and the next nothing is 81823'\n",
            "b'and the next nothing is 92306'\n",
            "b'and the next nothing is 82052'\n",
            "b'and the next nothing is 99401'\n",
            "b'and the next nothing is 2228'\n",
            "b'and the next nothing is 69304'\n",
            "b'and the next nothing is 36845'\n",
            "b'and the next nothing is 72224'\n",
            "b'and the next nothing is 84132'\n",
            "b'and the next nothing is 92376'\n",
            "b'and the next nothing is 40503'\n",
            "b'and the next nothing is 67329'\n",
            "b'and the next nothing is 56881'\n",
            "b'and the next nothing is 72156'\n",
            "b'and the next nothing is 46463'\n",
            "b'and the next nothing is 62058'\n",
            "b'and the next nothing is 54696'\n",
            "b'and the next nothing is 65731'\n",
            "b'and the next nothing is 38290'\n",
            "b'and the next nothing is 57913'\n",
            "b'and the next nothing is 6309'\n",
            "b'and the next nothing is 73902'\n",
            "b'and the next nothing is 19934'\n",
            "b'and the next nothing is 16055'\n",
            "b'and the next nothing is 50563'\n",
            "b'and the next nothing is 47825'\n",
            "b'and the next nothing is 73265'\n",
            "b'and the next nothing is 90961'\n",
            "b'and the next nothing is 29740'\n",
            "b'and the next nothing is 43628'\n",
            "b'and the next nothing is 11088'\n",
            "b'and the next nothing is 93781'\n",
            "b'and the next nothing is 55840'\n",
            "b'and the next nothing is 80842'\n",
            "b'and the next nothing is 59022'\n",
            "b'and the next nothing is 23298'\n",
            "b'and the next nothing is 27709'\n",
            "b'and the next nothing is 96791'\n",
            "b'and the next nothing is 75635'\n",
            "b'and the next nothing is 52899'\n",
            "b'and the next nothing is 66831'\n",
            "b'peak.html'\n",
            "b'and the next nothing is 72758'\n",
            "b'and the next nothing is 71301'\n",
            "b'and the next nothing is 55577'\n",
            "b'and the next nothing is 88786'\n",
            "b'and the next nothing is 32293'\n",
            "b'and the next nothing is 87798'\n",
            "b'and the next nothing is 24838'\n",
            "b'and the next nothing is 66137'\n",
            "b'and the next nothing is 88016'\n",
            "b'and the next nothing is 36876'\n",
            "b'and the next nothing is 33179'\n",
            "b'and the next nothing is 90231'\n",
            "b'and the next nothing is 17825'\n",
            "b'and the next nothing is 84361'\n",
            "b'and the next nothing is 99222'\n",
            "b'and the next nothing is 87348'\n",
            "b'and the next nothing is 47100'\n",
            "b'and the next nothing is 90650'\n",
            "b'and the next nothing is 84369'\n",
            "b'and the next nothing is 36116'\n",
            "b'and the next nothing is 96544'\n",
            "b'and the next nothing is 62892'\n",
            "b'and the next nothing is 43790'\n",
            "b'and the next nothing is 67652'\n",
            "b'and the next nothing is 32839'\n",
            "b'and the next nothing is 5353'\n",
            "b'and the next nothing is 63153'\n",
            "b'and the next nothing is 48029'\n",
            "b'and the next nothing is 84141'\n",
            "b'and the next nothing is 14662'\n",
            "b'and the next nothing is 78566'\n",
            "b'and the next nothing is 18131'\n",
            "b'and the next nothing is 710'\n",
            "b'and the next nothing is 67500'\n",
            "b'and the next nothing is 34992'\n",
            "b'and the next nothing is 64568'\n",
            "b'and the next nothing is 8155'\n",
            "b'and the next nothing is 30579'\n",
            "b'and the next nothing is 11629'\n",
            "b'and the next nothing is 32490'\n",
            "b'and the next nothing is 47936'\n",
            "b'and the next nothing is 51350'\n",
            "b'and the next nothing is 51877'\n"
          ],
          "name": "stdout"
        }
      ]
    },
    {
      "metadata": {
        "id": "Akso-V-12vKH",
        "colab_type": "code",
        "outputId": "975dd66d-4c6f-4618-a571-c5d05dde393a",
        "colab": {
          "base_uri": "https://localhost:8080/",
          "height": 127
        }
      },
      "cell_type": "code",
      "source": [
        "def displayInventory(inventory):\n",
        "  print(\"Inventory:\")\n",
        "  item_total = 0\n",
        "  for k,v in inventory.items():\n",
        "    print(\"{0} {1}\".format(v, k))\n",
        "    item_total+=v\n",
        "    \n",
        "  print(\"Total number of items: \" + str(item_total))\n",
        "\n",
        "def addToInventory(inventory, addedItems):\n",
        "  for i in addedItems:\n",
        "    if i in inventory:\n",
        "      inventory[i]+=1\n",
        "    else:\n",
        "      inventory[i]=1\n",
        "  return inventory  \n",
        "  \n",
        "inv = {'gold coin': 42, 'rope': 1}\n",
        "dragonLoot = ['gold coin', 'dagger', 'gold coin', 'gold coin', 'ruby']\n",
        "inv = addToInventory(inv, dragonLoot)\n",
        "displayInventory(inv)"
      ],
      "execution_count": 0,
      "outputs": [
        {
          "output_type": "stream",
          "text": [
            "Inventory:\n",
            "45 gold coin\n",
            "1 rope\n",
            "1 dagger\n",
            "1 ruby\n",
            "Total number of items: 48\n"
          ],
          "name": "stdout"
        }
      ]
    },
    {
      "metadata": {
        "id": "z2tfwihU2jur",
        "colab_type": "code",
        "outputId": "b1967dc1-3f3e-43ae-ec80-579b9485af33",
        "colab": {
          "base_uri": "https://localhost:8080/",
          "height": 35
        }
      },
      "cell_type": "code",
      "source": [
        "'Hello' in 'Hello World!' #True\n",
        "'Hello' in 'hello world!' #False"
      ],
      "execution_count": 0,
      "outputs": [
        {
          "output_type": "execute_result",
          "data": {
            "text/plain": [
              "True"
            ]
          },
          "metadata": {
            "tags": []
          },
          "execution_count": 14
        }
      ]
    },
    {
      "metadata": {
        "id": "ury2Cy8YxPPA",
        "colab_type": "code",
        "outputId": "25e123a2-4dcc-4bec-adfb-743f9cbda1ec",
        "colab": {
          "base_uri": "https://localhost:8080/",
          "height": 697
        }
      },
      "cell_type": "code",
      "source": [
        "import pprint\n",
        "\n",
        "a= \"\"\"show bof\n",
        "show version\n",
        "show system information\n",
        "show chassis\n",
        "show boot-messages\n",
        "show card detail\n",
        "show mda detail\n",
        "show port\n",
        "show lag\n",
        "show lag detail\n",
        "show redundancy synchronization\n",
        "file type bof.cfg\n",
        "admin display-config\n",
        "show system cpu\n",
        "show service service-using\n",
        "show service sap-using\n",
        "show service sdp-using\n",
        "show router interface\n",
        "show router isis interface\n",
        "show router isis adjacency\n",
        "show router ospf neighbor\n",
        "show router ospf interface\n",
        "show router route-table summary\n",
        "show router bgp neighbor\n",
        "show router bgp summary\n",
        "show router mpls lsp path\n",
        "show router mpls lsp\n",
        "show router mpls lsp status down\n",
        "show router mpls bypass-tunnel\n",
        "show router rsvp session\n",
        "show router ldp status\n",
        "show router ldp session\n",
        "show router ldp interface\n",
        "show router ldp targ-peer\n",
        "show service fdb-info\n",
        "show service fdb-mac\n",
        "show router arp\"\"\"\n",
        "\n",
        "\n",
        "pprint.pprint(a.splitlines())"
      ],
      "execution_count": 0,
      "outputs": [
        {
          "output_type": "stream",
          "text": [
            "['show bof',\n",
            " 'show version',\n",
            " 'show system information',\n",
            " 'show chassis',\n",
            " 'show boot-messages',\n",
            " 'show card detail',\n",
            " 'show mda detail',\n",
            " 'show port',\n",
            " 'show lag',\n",
            " 'show lag detail',\n",
            " 'show redundancy synchronization',\n",
            " 'file type bof.cfg',\n",
            " 'admin display-config',\n",
            " 'show system cpu',\n",
            " 'show service service-using',\n",
            " 'show service sap-using',\n",
            " 'show service sdp-using',\n",
            " 'show router interface',\n",
            " 'show router isis interface',\n",
            " 'show router isis adjacency',\n",
            " 'show router ospf neighbor',\n",
            " 'show router ospf interface',\n",
            " 'show router route-table summary',\n",
            " 'show router bgp neighbor',\n",
            " 'show router bgp summary',\n",
            " 'show router mpls lsp path',\n",
            " 'show router mpls lsp',\n",
            " 'show router mpls lsp status down',\n",
            " 'show router mpls bypass-tunnel',\n",
            " 'show router rsvp session',\n",
            " 'show router ldp status',\n",
            " 'show router ldp session',\n",
            " 'show router ldp interface',\n",
            " 'show router ldp targ-peer',\n",
            " 'show service fdb-info',\n",
            " 'show service fdb-mac',\n",
            " 'show router arp']\n"
          ],
          "name": "stdout"
        }
      ]
    },
    {
      "metadata": {
        "id": "h210j0-t5AhU",
        "colab_type": "code",
        "outputId": "33e25c4d-5650-4c0e-b16e-7bdf230fac91",
        "colab": {
          "base_uri": "https://localhost:8080/",
          "height": 3543
        }
      },
      "cell_type": "code",
      "source": [
        "\n",
        "\n",
        "a = \"\"\"<a class=\"ubermenu-responsive-toggle ubermenu-responsive-toggle-main ubermenu-skin-vanilla ubermenu-loc-primary-menu ubermenu-responsive-toggle-content-align-left ubermenu-responsive-toggle-align-full \" data-ubermenu-target=\"ubermenu-main-2-primary-menu-2\"><i class=\"fas fa-bars\"></i>Menu</a><nav id=\"ubermenu-main-2-primary-menu-2\" class=\"ubermenu ubermenu-nojs ubermenu-main ubermenu-menu-2 ubermenu-loc-primary-menu ubermenu-responsive ubermenu-responsive-default ubermenu-responsive-collapse ubermenu-horizontal ubermenu-transition-none ubermenu-trigger-hover_intent ubermenu-skin-vanilla  ubermenu-bar-align-full ubermenu-items-align-center ubermenu-disable-submenu-scroll ubermenu-hide-bkgs ubermenu-sub-indicators ubermenu-retractors-responsive ubermenu-submenu-indicator-closes\"><ul id=\"ubermenu-nav-main-2-primary-menu\" class=\"ubermenu-nav\"><li id=\"menu-item-5498\" class=\"ubermenu-item ubermenu-item-type-post_type ubermenu-item-object-page ubermenu-current-menu-item ubermenu-page_item ubermenu-page-item-146 ubermenu-current_page_item ubermenu-item-has-children ubermenu-item-5498 ubermenu-item-level-0 ubermenu-column ubermenu-column-auto ubermenu-has-submenu-drop ubermenu-has-submenu-mega ubermenu-disable-padding\" ><a class=\"ubermenu-target ubermenu-item-layout-default ubermenu-item-layout-text_only\" href=\"http://atriptoistanbul.com/where-to-go/\" tabindex=\"0\"><span class=\"ubermenu-target-title ubermenu-target-text\">Where To Go?</span><i class=\"ubermenu-sub-indicator fas fa-angle-down\"></i></a><ul  class=\"ubermenu-submenu ubermenu-submenu-id-5498 ubermenu-submenu-type-auto ubermenu-submenu-type-mega ubermenu-submenu-drop ubermenu-submenu-align-full_width\"  ><li id=\"menu-item-5528\" class=\"ubermenu-item ubermenu-item-type-post_type ubermenu-item-object-page ubermenu-item-has-children ubermenu-item-5528 ubermenu-item-auto ubermenu-item-header ubermenu-item-level-1 ubermenu-column ubermenu-column-auto ubermenu-has-submenu-drop ubermenu-has-submenu-mega\" ><a class=\"ubermenu-target ubermenu-target-with-image ubermenu-item-layout-default ubermenu-item-layout-image_above ubermenu-noindicator\" href=\"http://atriptoistanbul.com/where-to-go/shopping/\"><img class=\"ubermenu-image ubermenu-image-size-thumbnail\" src=\"http://atriptoistanbul.com/wp-content/uploads/2017/12/shopping1_380x300-1-150x150.jpg\" srcset=\"http://atriptoistanbul.com/wp-content/uploads/2017/12/shopping1_380x300-1-150x150.jpg 150w, http://atriptoistanbul.com/wp-content/uploads/2017/12/shopping1_380x300-1-300x300.jpg 300w\" sizes=\"(max-width: 150px) 100vw, 150px\" width=\"150\" height=\"150\" alt=\"shopping1_380x300\"  /><span class=\"ubermenu-target-title ubermenu-target-text\">Shopping</span></a><ul  class=\"ubermenu-submenu ubermenu-submenu-id-5528 ubermenu-submenu-type-mega ubermenu-submenu-drop ubermenu-submenu-align-full_width\"  ><li id=\"menu-item-5469\" class=\"ubermenu-item ubermenu-item-type-post_type ubermenu-item-object-page ubermenu-item-5469 ubermenu-item-auto ubermenu-item-header ubermenu-item-level-2 ubermenu-column ubermenu-column-auto\" ><a class=\"ubermenu-target ubermenu-item-layout-default ubermenu-item-layout-text_only\" href=\"http://atriptoistanbul.com/where-to-go/shopping/arasta-bazaar/\"><span class=\"ubermenu-target-title ubermenu-target-text\">Arasta Bazaar</span></a></li><li id=\"menu-item-5470\" class=\"ubermenu-item ubermenu-item-type-post_type ubermenu-item-object-page ubermenu-item-5470 ubermenu-item-auto ubermenu-item-header ubermenu-item-level-2 ubermenu-column ubermenu-column-auto\" ><a class=\"ubermenu-target ubermenu-item-layout-default ubermenu-item-layout-text_only\" href=\"http://atriptoistanbul.com/where-to-go/shopping/bagdat-street/\"><span class=\"ubermenu-target-title ubermenu-target-text\">Bagdat Street</span></a></li><li id=\"menu-item-5471\" class=\"ubermenu-item ubermenu-item-type-post_type ubermenu-item-object-page ubermenu-item-5471 ubermenu-item-auto ubermenu-item-header ubermenu-item-level-2 ubermenu-column ubermenu-column-auto\" ><a class=\"ubermenu-target ubermenu-item-layout-default ubermenu-item-layout-text_only\" href=\"http://atriptoistanbul.com/where-to-go/shopping/cevahir-mall/\"><span class=\"ubermenu-target-title ubermenu-target-text\">Cevahir Mall</span></a></li><li id=\"menu-item-5472\" class=\"ubermenu-item ubermenu-item-type-post_type ubermenu-item-object-page ubermenu-item-5472 ubermenu-item-auto ubermenu-item-header ubermenu-item-level-2 ubermenu-column ubermenu-column-auto\" ><a class=\"ubermenu-target ubermenu-item-layout-default ubermenu-item-layout-text_only\" href=\"http://atriptoistanbul.com/where-to-go/shopping/citys-nisantasi/\"><span class=\"ubermenu-target-title ubermenu-target-text\">City’s Nisantasi</span></a></li><li id=\"menu-item-5473\" class=\"ubermenu-item ubermenu-item-type-post_type ubermenu-item-object-page ubermenu-item-5473 ubermenu-item-auto ubermenu-item-header ubermenu-item-level-2 ubermenu-column ubermenu-column-auto\" ><a class=\"ubermenu-target ubermenu-item-layout-default ubermenu-item-layout-text_only\" href=\"http://atriptoistanbul.com/where-to-go/shopping/grand-bazaar/\"><span class=\"ubermenu-target-title ubermenu-target-text\">Grand Bazaar</span></a></li><li id=\"menu-item-5529\" class=\"ubermenu-item ubermenu-item-type-post_type ubermenu-item-object-page ubermenu-item-5529 ubermenu-item-auto ubermenu-item-header ubermenu-item-level-2 ubermenu-column ubermenu-column-auto\" ><a class=\"ubermenu-target ubermenu-item-layout-default ubermenu-item-layout-text_only\" href=\"http://atriptoistanbul.com/where-to-go/shopping/optimum-outlet/\"><span class=\"ubermenu-target-title ubermenu-target-text\">Optimum Outlet</span></a></li><li id=\"menu-item-5474\" class=\"ubermenu-item ubermenu-item-type-post_type ubermenu-item-object-page ubermenu-item-5474 ubermenu-item-auto ubermenu-item-header ubermenu-item-level-2 ubermenu-column ubermenu-column-auto\" ><a class=\"ubermenu-target ubermenu-item-layout-default ubermenu-item-layout-text_only\" href=\"http://atriptoistanbul.com/where-to-go/shopping/istanbul-sapphire/\"><span class=\"ubermenu-target-title ubermenu-target-text\">Istanbul Sapphire</span></a></li><li id=\"menu-item-5475\" class=\"ubermenu-item ubermenu-item-type-post_type ubermenu-item-object-page ubermenu-item-5475 ubermenu-item-auto ubermenu-item-header ubermenu-item-level-2 ubermenu-column ubermenu-column-auto\" ><a class=\"ubermenu-target ubermenu-item-layout-default ubermenu-item-layout-text_only\" href=\"http://atriptoistanbul.com/where-to-go/shopping/istiklal-street/\"><span class=\"ubermenu-target-title ubermenu-target-text\">Istiklal Street</span></a></li><li id=\"menu-item-5476\" class=\"ubermenu-item ubermenu-item-type-post_type ubermenu-item-object-page ubermenu-item-5476 ubermenu-item-auto ubermenu-item-header ubermenu-item-level-2 ubermenu-column ubermenu-column-auto\" ><a class=\"ubermenu-target ubermenu-item-layout-default ubermenu-item-layout-text_only\" href=\"http://atriptoistanbul.com/where-to-go/shopping/istinye-park-mall/\"><span class=\"ubermenu-target-title ubermenu-target-text\">Istinye Park Mall</span></a></li><li id=\"menu-item-5478\" class=\"ubermenu-item ubermenu-item-type-post_type ubermenu-item-object-page ubermenu-item-5478 ubermenu-item-auto ubermenu-item-header ubermenu-item-level-2 ubermenu-column ubermenu-column-auto\" ><a class=\"ubermenu-target ubermenu-item-layout-default ubermenu-item-layout-text_only\" href=\"http://atriptoistanbul.com/where-to-go/shopping/marmara-forum-alisveris-merkezi/\"><span class=\"ubermenu-target-title ubermenu-target-text\">Marmara Forum Alisveris Merkezi</span></a></li><li id=\"menu-item-5530\" class=\"ubermenu-item ubermenu-item-type-post_type ubermenu-item-object-page ubermenu-item-5530 ubermenu-item-auto ubermenu-item-header ubermenu-item-level-2 ubermenu-column ubermenu-column-auto\" ><a class=\"ubermenu-target ubermenu-item-layout-default ubermenu-item-layout-text_only\" href=\"http://atriptoistanbul.com/where-to-go/shopping/palladium-shopping-centre/\"><span class=\"ubermenu-target-title ubermenu-target-text\">Palladium Shopping Center</span></a></li><li id=\"menu-item-5531\" class=\"ubermenu-item ubermenu-item-type-post_type ubermenu-item-object-page ubermenu-item-5531 ubermenu-item-auto ubermenu-item-header ubermenu-item-level-2 ubermenu-column ubermenu-column-auto\" ><a class=\"ubermenu-target ubermenu-item-layout-default ubermenu-item-layout-text_only\" href=\"http://atriptoistanbul.com/where-to-go/shopping/spice-bazaar/\"><span class=\"ubermenu-target-title ubermenu-target-text\">Spice Bazaar</span></a></li><li id=\"menu-item-5532\" class=\"ubermenu-item ubermenu-item-type-post_type ubermenu-item-object-page ubermenu-item-5532 ubermenu-item-auto ubermenu-item-header ubermenu-item-level-2 ubermenu-column ubermenu-column-auto\" ><a class=\"ubermenu-target ubermenu-item-layout-default ubermenu-item-layout-text_only\" href=\"http://atriptoistanbul.com/where-to-go/shopping/trump-towers/\"><span class=\"ubermenu-target-title ubermenu-target-text\">Trump Towers</span></a></li><li id=\"menu-item-5533\" class=\"ubermenu-item ubermenu-item-type-post_type ubermenu-item-object-page ubermenu-item-5533 ubermenu-item-auto ubermenu-item-header ubermenu-item-level-2 ubermenu-column ubermenu-column-auto\" ><a class=\"ubermenu-target ubermenu-item-layout-default ubermenu-item-layout-text_only\" href=\"http://atriptoistanbul.com/where-to-go/shopping/via-port-mall/\"><span class=\"ubermenu-target-title ubermenu-target-text\">Via Port Mall</span></a></li><li id=\"menu-item-5543\" class=\"ubermenu-item ubermenu-item-type-post_type ubermenu-item-object-page ubermenu-item-5543 ubermenu-item-auto ubermenu-item-header ubermenu-item-level-2 ubermenu-column ubermenu-column-auto\" ><a class=\"ubermenu-target ubermenu-item-layout-default ubermenu-item-layout-text_only\" href=\"http://atriptoistanbul.com/where-to-go/shopping/zorlu-center/\"><span class=\"ubermenu-target-title ubermenu-target-text\">Zorlu Center</span></a></li></ul></li><li id=\"menu-item-5493\" class=\"ubermenu-item ubermenu-item-type-post_type ubermenu-item-object-page ubermenu-item-has-children ubermenu-item-5493 ubermenu-item-auto ubermenu-item-header ubermenu-item-level-1 ubermenu-column ubermenu-column-auto ubermenu-has-submenu-drop ubermenu-has-submenu-mega\" ><a class=\"ubermenu-target ubermenu-target-with-image ubermenu-item-layout-default ubermenu-item-layout-image_above ubermenu-noindicator\" href=\"http://atriptoistanbul.com/where-to-go/castles-and-towers/\"><img class=\"ubermenu-image ubermenu-image-size-thumbnail\" src=\"http://atriptoistanbul.com/wp-content/uploads/2017/12/walls-and-castles-2_380x300-1-150x150.jpg\" srcset=\"http://atriptoistanbul.com/wp-content/uploads/2017/12/walls-and-castles-2_380x300-1-150x150.jpg 150w, http://atriptoistanbul.com/wp-content/uploads/2017/12/walls-and-castles-2_380x300-1-300x300.jpg 300w, http://atriptoistanbul.com/wp-content/uploads/2017/12/walls-and-castles-2_380x300-1-266x266.jpg 266w\" sizes=\"(max-width: 150px) 100vw, 150px\" width=\"150\" height=\"150\" alt=\"walls-and-castles-2_380x300\"  /><span class=\"ubermenu-target-title ubermenu-target-text\">Castles and Towers</span></a><ul  class=\"ubermenu-submenu ubermenu-submenu-id-5493 ubermenu-submenu-type-mega ubermenu-submenu-drop ubermenu-submenu-align-full_width\"  ><li id=\"menu-item-6125\" class=\"ubermenu-item ubermenu-item-type-post_type ubermenu-item-object-page ubermenu-item-6125 ubermenu-item-auto ubermenu-item-header ubermenu-item-level-2 ubermenu-column ubermenu-column-auto\" ><a class=\"ubermenu-target ubermenu-item-layout-default ubermenu-item-layout-text_only\" href=\"http://atriptoistanbul.com/where-to-go/castles-and-towers/anatolian-castle/\"><span class=\"ubermenu-target-title ubermenu-target-text\">Anatolian Castle</span></a></li><li id=\"menu-item-5460\" class=\"ubermenu-item ubermenu-item-type-post_type ubermenu-item-object-page ubermenu-item-5460 ubermenu-item-auto ubermenu-item-header ubermenu-item-level-2 ubermenu-column ubermenu-column-auto\" ><a class=\"ubermenu-target ubermenu-item-layout-default ubermenu-item-layout-text_only\" href=\"http://atriptoistanbul.com/where-to-go/castles-and-towers/galata-tower/\"><span class=\"ubermenu-target-title ubermenu-target-text\">Galata Tower</span></a></li><li id=\"menu-item-5461\" class=\"ubermenu-item ubermenu-item-type-post_type ubermenu-item-object-page ubermenu-item-5461 ubermenu-item-auto ubermenu-item-header ubermenu-item-level-2 ubermenu-column ubermenu-column-auto\" ><a class=\"ubermenu-target ubermenu-item-layout-default ubermenu-item-layout-text_only\" href=\"http://atriptoistanbul.com/where-to-go/castles-and-towers/kuleli-military-high-school/\"><span class=\"ubermenu-target-title ubermenu-target-text\">Kuleli Military High School</span></a></li><li id=\"menu-item-5462\" class=\"ubermenu-item ubermenu-item-type-post_type ubermenu-item-object-page ubermenu-item-5462 ubermenu-item-auto ubermenu-item-header ubermenu-item-level-2 ubermenu-column ubermenu-column-auto\" ><a class=\"ubermenu-target ubermenu-item-layout-default ubermenu-item-layout-text_only\" href=\"http://atriptoistanbul.com/where-to-go/castles-and-towers/maidens-tower/\"><span class=\"ubermenu-target-title ubermenu-target-text\">Maiden&#8217;s Tower</span></a></li><li id=\"menu-item-5538\" class=\"ubermenu-item ubermenu-item-type-post_type ubermenu-item-object-page ubermenu-item-5538 ubermenu-item-auto ubermenu-item-header ubermenu-item-level-2 ubermenu-column ubermenu-column-auto\" ><a class=\"ubermenu-target ubermenu-item-layout-default ubermenu-item-layout-text_only\" href=\"http://atriptoistanbul.com/where-to-go/castles-and-towers/rumelian-castle/\"><span class=\"ubermenu-target-title ubermenu-target-text\">The Rumelian Castle</span></a></li><li id=\"menu-item-5539\" class=\"ubermenu-item ubermenu-item-type-post_type ubermenu-item-object-page ubermenu-item-5539 ubermenu-item-auto ubermenu-item-header ubermenu-item-level-2 ubermenu-column ubermenu-column-auto\" ><a class=\"ubermenu-target ubermenu-item-layout-default ubermenu-item-layout-text_only\" href=\"http://atriptoistanbul.com/where-to-go/castles-and-towers/walls-of-constantinople/\"><span class=\"ubermenu-target-title ubermenu-target-text\">Walls of Constantinople</span></a></li><li id=\"menu-item-5540\" class=\"ubermenu-item ubermenu-item-type-post_type ubermenu-item-object-page ubermenu-item-5540 ubermenu-item-auto ubermenu-item-header ubermenu-item-level-2 ubermenu-column ubermenu-column-auto\" ><a class=\"ubermenu-target ubermenu-item-layout-default ubermenu-item-layout-text_only\" href=\"http://atriptoistanbul.com/where-to-go/castles-and-towers/yedikule-fortress/\"><span class=\"ubermenu-target-title ubermenu-target-text\">Yedikule Fortress</span></a></li><li id=\"menu-item-5541\" class=\"ubermenu-item ubermenu-item-type-post_type ubermenu-item-object-page ubermenu-item-5541 ubermenu-item-auto ubermenu-item-header ubermenu-item-level-2 ubermenu-column ubermenu-column-auto\" ><a class=\"ubermenu-target ubermenu-item-layout-default ubermenu-item-layout-text_only\" href=\"http://atriptoistanbul.com/where-to-go/castles-and-towers/yoros-castle/\"><span class=\"ubermenu-target-title ubermenu-target-text\">Yoros Castle</span></a></li></ul></li><li id=\"menu-item-5499\" class=\"ubermenu-item ubermenu-item-type-post_type ubermenu-item-object-page ubermenu-item-has-children ubermenu-item-5499 ubermenu-item-auto ubermenu-item-header ubermenu-item-level-1 ubermenu-column ubermenu-column-auto ubermenu-has-submenu-drop ubermenu-has-submenu-mega\" ><a class=\"ubermenu-target ubermenu-target-with-image ubermenu-item-layout-image_above ubermenu-noindicator\" href=\"http://atriptoistanbul.com/where-to-go/mosques/\"><img class=\"ubermenu-image ubermenu-image-size-thumbnail\" src=\"http://atriptoistanbul.com/wp-content/uploads/2017/12/mosques1_380x300-1-150x150.jpg\" srcset=\"http://atriptoistanbul.com/wp-content/uploads/2017/12/mosques1_380x300-1-150x150.jpg 150w, http://atriptoistanbul.com/wp-content/uploads/2017/12/mosques1_380x300-1-300x300.jpg 300w\" sizes=\"(max-width: 150px) 100vw, 150px\" width=\"150\" height=\"150\" alt=\"mosques1_380x300\"  /><span class=\"ubermenu-target-title ubermenu-target-text\">Mosques</span></a><ul  class=\"ubermenu-submenu ubermenu-submenu-id-5499 ubermenu-submenu-type-mega ubermenu-submenu-drop ubermenu-submenu-align-left_edge_bar\"  ><li id=\"menu-item-5463\" class=\"ubermenu-item ubermenu-item-type-post_type ubermenu-item-object-page ubermenu-item-5463 ubermenu-item-auto ubermenu-item-header ubermenu-item-level-2 ubermenu-column ubermenu-column-auto\" ><a class=\"ubermenu-target ubermenu-item-layout-default ubermenu-item-layout-text_only\" href=\"http://atriptoistanbul.com/where-to-go/mosques/arap-mosque/\"><span class=\"ubermenu-target-title ubermenu-target-text\">Arap Mosque</span></a></li><li id=\"menu-item-5464\" class=\"ubermenu-item ubermenu-item-type-post_type ubermenu-item-object-page ubermenu-item-5464 ubermenu-item-auto ubermenu-item-header ubermenu-item-level-2 ubermenu-column ubermenu-column-auto\" ><a class=\"ubermenu-target ubermenu-item-layout-default ubermenu-item-layout-text_only\" href=\"http://atriptoistanbul.com/where-to-go/mosques/bayezid-mosque/\"><span class=\"ubermenu-target-title ubermenu-target-text\">Bayezid Mosque</span></a></li><li id=\"menu-item-5465\" class=\"ubermenu-item ubermenu-item-type-post_type ubermenu-item-object-page ubermenu-item-5465 ubermenu-item-auto ubermenu-item-header ubermenu-item-level-2 ubermenu-column ubermenu-column-auto\" ><a class=\"ubermenu-target ubermenu-item-layout-default ubermenu-item-layout-text_only\" href=\"http://atriptoistanbul.com/where-to-go/mosques/blue-mosque/\"><span class=\"ubermenu-target-title ubermenu-target-text\">Blue Mosque</span></a></li><li id=\"menu-item-5466\" class=\"ubermenu-item ubermenu-item-type-post_type ubermenu-item-object-page ubermenu-item-5466 ubermenu-item-auto ubermenu-item-header ubermenu-item-level-2 ubermenu-column ubermenu-column-auto\" ><a class=\"ubermenu-target ubermenu-item-layout-default ubermenu-item-layout-text_only\" href=\"http://atriptoistanbul.com/where-to-go/mosques/eyup-sultan-mosque/\"><span class=\"ubermenu-target-title ubermenu-target-text\">Eyup Sultan Mosque</span></a></li><li id=\"menu-item-5467\" class=\"ubermenu-item ubermenu-item-type-post_type ubermenu-item-object-page ubermenu-item-5467 ubermenu-item-auto ubermenu-item-header ubermenu-item-level-2 ubermenu-column ubermenu-column-auto\" ><a class=\"ubermenu-target ubermenu-item-layout-default ubermenu-item-layout-text_only\" href=\"http://atriptoistanbul.com/where-to-go/mosques/fatih-mosque/\"><span class=\"ubermenu-target-title ubermenu-target-text\">Fatih Mosque</span></a></li><li id=\"menu-item-5468\" class=\"ubermenu-item ubermenu-item-type-post_type ubermenu-item-object-page ubermenu-item-5468 ubermenu-item-auto ubermenu-item-header ubermenu-item-level-2 ubermenu-column ubermenu-column-auto\" ><a class=\"ubermenu-target ubermenu-item-layout-default ubermenu-item-layout-text_only\" href=\"http://atriptoistanbul.com/where-to-go/mosques/laleli-mosque/\"><span class=\"ubermenu-target-title ubermenu-target-text\">Laleli Mosque</span></a></li><li id=\"menu-item-5500\" class=\"ubermenu-item ubermenu-item-type-post_type ubermenu-item-object-page ubermenu-item-5500 ubermenu-item-auto ubermenu-item-header ubermenu-item-level-2 ubermenu-column ubermenu-column-auto\" ><a class=\"ubermenu-target ubermenu-item-layout-default ubermenu-item-layout-text_only\" href=\"http://atriptoistanbul.com/where-to-go/mosques/mihrimah-sultan-mosque/\"><span class=\"ubermenu-target-title ubermenu-target-text\">Mihrimah Sultan Mosque</span></a></li><li id=\"menu-item-5502\" class=\"ubermenu-item ubermenu-item-type-post_type ubermenu-item-object-page ubermenu-item-5502 ubermenu-item-auto ubermenu-item-header ubermenu-item-level-2 ubermenu-column ubermenu-column-auto\" ><a class=\"ubermenu-target ubermenu-item-layout-default ubermenu-item-layout-text_only\" href=\"http://atriptoistanbul.com/where-to-go/mosques/new-mosque/\"><span class=\"ubermenu-target-title ubermenu-target-text\">New Mosque</span></a></li><li id=\"menu-item-5503\" class=\"ubermenu-item ubermenu-item-type-post_type ubermenu-item-object-page ubermenu-item-5503 ubermenu-item-auto ubermenu-item-header ubermenu-item-level-2 ubermenu-column ubermenu-column-auto\" ><a class=\"ubermenu-target ubermenu-item-layout-default ubermenu-item-layout-text_only\" href=\"http://atriptoistanbul.com/where-to-go/mosques/ortakoy-mosque/\"><span class=\"ubermenu-target-title ubermenu-target-text\">Ortakoy Mosque</span></a></li><li id=\"menu-item-5504\" class=\"ubermenu-item ubermenu-item-type-post_type ubermenu-item-object-page ubermenu-item-5504 ubermenu-item-auto ubermenu-item-header ubermenu-item-level-2 ubermenu-column ubermenu-column-auto\" ><a class=\"ubermenu-target ubermenu-item-layout-default ubermenu-item-layout-text_only\" href=\"http://atriptoistanbul.com/where-to-go/mosques/rustem-pasha-mosque/\"><span class=\"ubermenu-target-title ubermenu-target-text\">Rustem Pasha Mosque</span></a></li><li id=\"menu-item-5505\" class=\"ubermenu-item ubermenu-item-type-post_type ubermenu-item-object-page ubermenu-item-5505 ubermenu-item-auto ubermenu-item-header ubermenu-item-level-2 ubermenu-column ubermenu-column-auto\" ><a class=\"ubermenu-target ubermenu-item-layout-default ubermenu-item-layout-text_only\" href=\"http://atriptoistanbul.com/where-to-go/mosques/sokollu-mehmet-pasha-mosque/\"><span class=\"ubermenu-target-title ubermenu-target-text\">Sokollu Mehmet Pasha Mosque</span></a></li><li id=\"menu-item-5501\" class=\"ubermenu-item ubermenu-item-type-post_type ubermenu-item-object-page ubermenu-item-5501 ubermenu-item-auto ubermenu-item-header ubermenu-item-level-2 ubermenu-column ubermenu-column-auto\" ><a class=\"ubermenu-target ubermenu-item-layout-default ubermenu-item-layout-text_only\" href=\"http://atriptoistanbul.com/where-to-go/mosques/mosque-of-sehzade/\"><span class=\"ubermenu-target-title ubermenu-target-text\">Mosque of Sehzade</span></a></li><li id=\"menu-item-5506\" class=\"ubermenu-item ubermenu-item-type-post_type ubermenu-item-object-page ubermenu-item-5506 ubermenu-item-auto ubermenu-item-header ubermenu-item-level-2 ubermenu-column ubermenu-column-auto\" ><a class=\"ubermenu-target ubermenu-item-layout-default ubermenu-item-layout-text_only\" href=\"http://atriptoistanbul.com/where-to-go/mosques/suleymaniye-mosque/\"><span class=\"ubermenu-target-title ubermenu-target-text\">Suleymaniye Mosque</span></a></li><li id=\"menu-item-5507\" class=\"ubermenu-item ubermenu-item-type-post_type ubermenu-item-object-page ubermenu-item-5507 ubermenu-item-auto ubermenu-item-header ubermenu-item-level-2 ubermenu-column ubermenu-column-auto\" ><a class=\"ubermenu-target ubermenu-item-layout-default ubermenu-item-layout-text_only\" href=\"http://atriptoistanbul.com/where-to-go/mosques/yildiz-hamidiye-mosque/\"><span class=\"ubermenu-target-title ubermenu-target-text\">Yildiz Hamidiye Mosque</span></a></li><li id=\"menu-item-5542\" class=\"ubermenu-item ubermenu-item-type-post_type ubermenu-item-object-page ubermenu-item-5542 ubermenu-item-auto ubermenu-item-header ubermenu-item-level-2 ubermenu-column ubermenu-column-auto\" ><a class=\"ubermenu-target ubermenu-item-layout-default ubermenu-item-layout-text_only\" href=\"http://atriptoistanbul.com/where-to-go/mosques/zeyrek-mosque/\"><span class=\"ubermenu-target-title ubermenu-target-text\">Zeyrek Mosque</span></a></li></ul></li><li id=\"menu-item-5508\" class=\"ubermenu-item ubermenu-item-type-post_type ubermenu-item-object-page ubermenu-item-has-children ubermenu-item-5508 ubermenu-item-auto ubermenu-item-header ubermenu-item-level-1 ubermenu-column ubermenu-column-auto ubermenu-has-submenu-drop ubermenu-has-submenu-mega\" ><a class=\"ubermenu-target ubermenu-target-with-image ubermenu-item-layout-image_above ubermenu-noindicator\" href=\"http://atriptoistanbul.com/where-to-go/museums/\"><img class=\"ubermenu-image ubermenu-image-size-thumbnail\" src=\"http://atriptoistanbul.com/wp-content/uploads/2017/12/museums2_380x300-1-150x150.jpg\" srcset=\"http://atriptoistanbul.com/wp-content/uploads/2017/12/museums2_380x300-1-150x150.jpg 150w, http://atriptoistanbul.com/wp-content/uploads/2017/12/museums2_380x300-1-300x300.jpg 300w, http://atriptoistanbul.com/wp-content/uploads/2017/12/museums2_380x300-1-266x266.jpg 266w\" sizes=\"(max-width: 150px) 100vw, 150px\" width=\"150\" height=\"150\" alt=\"museums2_380x300\"  /><span class=\"ubermenu-target-title ubermenu-target-text\">Museums</span></a><ul  class=\"ubermenu-submenu ubermenu-submenu-id-5508 ubermenu-submenu-type-mega ubermenu-submenu-drop ubermenu-submenu-align-full_width\"  ><li id=\"menu-item-5484\" class=\"ubermenu-item ubermenu-item-type-post_type ubermenu-item-object-page ubermenu-item-5484 ubermenu-item-auto ubermenu-item-header ubermenu-item-level-2 ubermenu-column ubermenu-column-auto\" ><a class=\"ubermenu-target ubermenu-item-layout-default ubermenu-item-layout-text_only\" href=\"http://atriptoistanbul.com/where-to-go/museums/basilica-cistern/\"><span class=\"ubermenu-target-title ubermenu-target-text\">Basilica Cistern</span></a></li><li id=\"menu-item-5517\" class=\"ubermenu-item ubermenu-item-type-post_type ubermenu-item-object-page ubermenu-item-5517 ubermenu-item-auto ubermenu-item-header ubermenu-item-level-2 ubermenu-column ubermenu-column-auto\" ><a class=\"ubermenu-target ubermenu-item-layout-default ubermenu-item-layout-text_only\" href=\"http://atriptoistanbul.com/where-to-go/museums/chora-church/\"><span class=\"ubermenu-target-title ubermenu-target-text\">The Chora Church</span></a></li><li id=\"menu-item-5485\" class=\"ubermenu-item ubermenu-item-type-post_type ubermenu-item-object-page ubermenu-item-5485 ubermenu-item-auto ubermenu-item-header ubermenu-item-level-2 ubermenu-column ubermenu-column-auto\" ><a class=\"ubermenu-target ubermenu-item-layout-default ubermenu-item-layout-text_only\" href=\"http://atriptoistanbul.com/where-to-go/museums/galata-mevlevi-lodge/\"><span class=\"ubermenu-target-title ubermenu-target-text\">Galata Mevlevi Lodge</span></a></li><li id=\"menu-item-5486\" class=\"ubermenu-item ubermenu-item-type-post_type ubermenu-item-object-page ubermenu-item-5486 ubermenu-item-auto ubermenu-item-header ubermenu-item-level-2 ubermenu-column ubermenu-column-auto\" ><a class=\"ubermenu-target ubermenu-item-layout-default ubermenu-item-layout-text_only\" href=\"http://atriptoistanbul.com/where-to-go/museums/hagia-irene/\"><span class=\"ubermenu-target-title ubermenu-target-text\">Hagia Irene</span></a></li><li id=\"menu-item-5487\" class=\"ubermenu-item ubermenu-item-type-post_type ubermenu-item-object-page ubermenu-item-5487 ubermenu-item-auto ubermenu-item-header ubermenu-item-level-2 ubermenu-column ubermenu-column-auto\" ><a class=\"ubermenu-target ubermenu-item-layout-default ubermenu-item-layout-text_only\" href=\"http://atriptoistanbul.com/where-to-go/museums/hagia-sophia/\"><span class=\"ubermenu-target-title ubermenu-target-text\">Hagia Sophia</span></a></li><li id=\"menu-item-5488\" class=\"ubermenu-item ubermenu-item-type-post_type ubermenu-item-object-page ubermenu-item-5488 ubermenu-item-auto ubermenu-item-header ubermenu-item-level-2 ubermenu-column ubermenu-column-auto\" ><a class=\"ubermenu-target ubermenu-item-layout-default ubermenu-item-layout-text_only\" href=\"http://atriptoistanbul.com/where-to-go/museums/istanbul-archaeology-museum/\"><span class=\"ubermenu-target-title ubermenu-target-text\">Istanbul Archaeology Museum</span></a></li><li id=\"menu-item-5489\" class=\"ubermenu-item ubermenu-item-type-post_type ubermenu-item-object-page ubermenu-item-5489 ubermenu-item-auto ubermenu-item-header ubermenu-item-level-2 ubermenu-column ubermenu-column-auto\" ><a class=\"ubermenu-target ubermenu-item-layout-default ubermenu-item-layout-text_only\" href=\"http://atriptoistanbul.com/where-to-go/museums/museum-of-modern-art/\"><span class=\"ubermenu-target-title ubermenu-target-text\">Istanbul Museum of Modern Art</span></a></li><li id=\"menu-item-5490\" class=\"ubermenu-item ubermenu-item-type-post_type ubermenu-item-object-page ubermenu-item-5490 ubermenu-item-auto ubermenu-item-header ubermenu-item-level-2 ubermenu-column ubermenu-column-auto\" ><a class=\"ubermenu-target ubermenu-item-layout-default ubermenu-item-layout-text_only\" href=\"http://atriptoistanbul.com/where-to-go/museums/istanbul-photography-museum/\"><span class=\"ubermenu-target-title ubermenu-target-text\">Istanbul Photography Museum</span></a></li><li id=\"menu-item-5509\" class=\"ubermenu-item ubermenu-item-type-post_type ubermenu-item-object-page ubermenu-item-5509 ubermenu-item-auto ubermenu-item-header ubermenu-item-level-2 ubermenu-column ubermenu-column-auto\" ><a class=\"ubermenu-target ubermenu-item-layout-default ubermenu-item-layout-text_only\" href=\"http://atriptoistanbul.com/where-to-go/museums/military-museum/\"><span class=\"ubermenu-target-title ubermenu-target-text\">Military Museum</span></a></li><li id=\"menu-item-5510\" class=\"ubermenu-item ubermenu-item-type-post_type ubermenu-item-object-page ubermenu-item-5510 ubermenu-item-auto ubermenu-item-header ubermenu-item-level-2 ubermenu-column ubermenu-column-auto\" ><a class=\"ubermenu-target ubermenu-item-layout-default ubermenu-item-layout-text_only\" href=\"http://atriptoistanbul.com/where-to-go/museums/mosaic-museum/\"><span class=\"ubermenu-target-title ubermenu-target-text\">Mosaic Museum</span></a></li><li id=\"menu-item-5511\" class=\"ubermenu-item ubermenu-item-type-post_type ubermenu-item-object-page ubermenu-item-5511 ubermenu-item-auto ubermenu-item-header ubermenu-item-level-2 ubermenu-column ubermenu-column-auto\" ><a class=\"ubermenu-target ubermenu-item-layout-default ubermenu-item-layout-text_only\" href=\"http://atriptoistanbul.com/where-to-go/museums/museum-of-innocence/\"><span class=\"ubermenu-target-title ubermenu-target-text\">Museum of Innocence</span></a></li><li id=\"menu-item-5512\" class=\"ubermenu-item ubermenu-item-type-post_type ubermenu-item-object-page ubermenu-item-5512 ubermenu-item-auto ubermenu-item-header ubermenu-item-level-2 ubermenu-column ubermenu-column-auto\" ><a class=\"ubermenu-target ubermenu-item-layout-default ubermenu-item-layout-text_only\" href=\"http://atriptoistanbul.com/where-to-go/museums/panorama-1453/\"><span class=\"ubermenu-target-title ubermenu-target-text\">Panorama 1453</span></a></li><li id=\"menu-item-5513\" class=\"ubermenu-item ubermenu-item-type-post_type ubermenu-item-object-page ubermenu-item-5513 ubermenu-item-auto ubermenu-item-header ubermenu-item-level-2 ubermenu-column ubermenu-column-auto\" ><a class=\"ubermenu-target ubermenu-item-layout-default ubermenu-item-layout-text_only\" href=\"http://atriptoistanbul.com/where-to-go/museums/pera-museum/\"><span class=\"ubermenu-target-title ubermenu-target-text\">Pera Museum</span></a></li><li id=\"menu-item-5514\" class=\"ubermenu-item ubermenu-item-type-post_type ubermenu-item-object-page ubermenu-item-5514 ubermenu-item-auto ubermenu-item-header ubermenu-item-level-2 ubermenu-column ubermenu-column-auto\" ><a class=\"ubermenu-target ubermenu-item-layout-default ubermenu-item-layout-text_only\" href=\"http://atriptoistanbul.com/where-to-go/museums/rahmi-m-koc-museum/\"><span class=\"ubermenu-target-title ubermenu-target-text\">Rahmi M Koc Museum</span></a></li><li id=\"menu-item-5515\" class=\"ubermenu-item ubermenu-item-type-post_type ubermenu-item-object-page ubermenu-item-5515 ubermenu-item-auto ubermenu-item-header ubermenu-item-level-2 ubermenu-column ubermenu-column-auto\" ><a class=\"ubermenu-target ubermenu-item-layout-default ubermenu-item-layout-text_only\" href=\"http://atriptoistanbul.com/where-to-go/museums/sadberk-hanim-museum/\"><span class=\"ubermenu-target-title ubermenu-target-text\">Sadberk Hanim Museum</span></a></li><li id=\"menu-item-5516\" class=\"ubermenu-item ubermenu-item-type-post_type ubermenu-item-object-page ubermenu-item-5516 ubermenu-item-auto ubermenu-item-header ubermenu-item-level-2 ubermenu-column ubermenu-column-auto\" ><a class=\"ubermenu-target ubermenu-item-layout-default ubermenu-item-layout-text_only\" href=\"http://atriptoistanbul.com/where-to-go/museums/sakip-sabanci-museum/\"><span class=\"ubermenu-target-title ubermenu-target-text\">Sakip Sabanci Museum</span></a></li><li id=\"menu-item-5518\" class=\"ubermenu-item ubermenu-item-type-post_type ubermenu-item-object-page ubermenu-item-5518 ubermenu-item-auto ubermenu-item-header ubermenu-item-level-2 ubermenu-column ubermenu-column-auto\" ><a class=\"ubermenu-target ubermenu-item-layout-default ubermenu-item-layout-text_only\" href=\"http://atriptoistanbul.com/where-to-go/museums/turkish-and-islamic-arts-museum/\"><span class=\"ubermenu-target-title ubermenu-target-text\">The Turkish and Islamic Arts Museum</span></a></li></ul></li><li id=\"menu-item-5519\" class=\"ubermenu-item ubermenu-item-type-post_type ubermenu-item-object-page ubermenu-item-has-children ubermenu-item-5519 ubermenu-item-auto ubermenu-item-header ubermenu-item-level-1 ubermenu-column ubermenu-column-auto ubermenu-has-submenu-drop ubermenu-has-submenu-mega ubermenu-relative\" ><a class=\"ubermenu-target ubermenu-target-with-image ubermenu-item-layout-image_above ubermenu-noindicator\" href=\"http://atriptoistanbul.com/where-to-go/places-istanbul/\"><img class=\"ubermenu-image ubermenu-image-size-thumbnail\" src=\"http://atriptoistanbul.com/wp-content/uploads/2017/12/others_380x300-1-150x150.jpg\" srcset=\"http://atriptoistanbul.com/wp-content/uploads/2017/12/others_380x300-1-150x150.jpg 150w, http://atriptoistanbul.com/wp-content/uploads/2017/12/others_380x300-1-300x300.jpg 300w, http://atriptoistanbul.com/wp-content/uploads/2017/12/others_380x300-1-266x266.jpg 266w\" sizes=\"(max-width: 150px) 100vw, 150px\" width=\"150\" height=\"150\" alt=\"others_380x300\"  /><span class=\"ubermenu-target-title ubermenu-target-text\">Other Places</span></a><ul  class=\"ubermenu-submenu ubermenu-submenu-id-5519 ubermenu-submenu-type-mega ubermenu-submenu-drop ubermenu-submenu-align-vertical_parent_item\"  ><li id=\"menu-item-5456\" class=\"ubermenu-item ubermenu-item-type-post_type ubermenu-item-object-page ubermenu-item-5456 ubermenu-item-auto ubermenu-item-header ubermenu-item-level-2 ubermenu-column ubermenu-column-auto\" ><a class=\"ubermenu-target ubermenu-item-layout-default ubermenu-item-layout-text_only\" href=\"http://atriptoistanbul.com/where-to-go/places-istanbul/galata-bridge/\"><span class=\"ubermenu-target-title ubermenu-target-text\">Galata Bridge</span></a></li><li id=\"menu-item-5457\" class=\"ubermenu-item ubermenu-item-type-post_type ubermenu-item-object-page ubermenu-item-5457 ubermenu-item-auto ubermenu-item-header ubermenu-item-level-2 ubermenu-column ubermenu-column-auto\" ><a class=\"ubermenu-target ubermenu-item-layout-default ubermenu-item-layout-text_only\" href=\"http://atriptoistanbul.com/where-to-go/places-istanbul/golden-horn/\"><span class=\"ubermenu-target-title ubermenu-target-text\">Golden Horn</span></a></li><li id=\"menu-item-5458\" class=\"ubermenu-item ubermenu-item-type-post_type ubermenu-item-object-page ubermenu-item-5458 ubermenu-item-auto ubermenu-item-header ubermenu-item-level-2 ubermenu-column ubermenu-column-auto\" ><a class=\"ubermenu-target ubermenu-item-layout-default ubermenu-item-layout-text_only\" href=\"http://atriptoistanbul.com/where-to-go/places-istanbul/haydarpasa-terminal/\"><span class=\"ubermenu-target-title ubermenu-target-text\">Haydarpaşa Terminal</span></a></li><li id=\"menu-item-5522\" class=\"ubermenu-item ubermenu-item-type-post_type ubermenu-item-object-page ubermenu-item-5522 ubermenu-item-auto ubermenu-item-header ubermenu-item-level-2 ubermenu-column ubermenu-column-auto\" ><a class=\"ubermenu-target ubermenu-item-layout-default ubermenu-item-layout-text_only\" href=\"http://atriptoistanbul.com/where-to-go/places-istanbul/the-hippodrome/\"><span class=\"ubermenu-target-title ubermenu-target-text\">The Hippodrome</span></a></li><li id=\"menu-item-5459\" class=\"ubermenu-item ubermenu-item-type-post_type ubermenu-item-object-page ubermenu-item-5459 ubermenu-item-auto ubermenu-item-header ubermenu-item-level-2 ubermenu-column ubermenu-column-auto\" ><a class=\"ubermenu-target ubermenu-item-layout-default ubermenu-item-layout-text_only\" href=\"http://atriptoistanbul.com/where-to-go/places-istanbul/istanbul-dolphinarium/\"><span class=\"ubermenu-target-title ubermenu-target-text\">Istanbul Dolphinarium</span></a></li><li id=\"menu-item-5520\" class=\"ubermenu-item ubermenu-item-type-post_type ubermenu-item-object-page ubermenu-item-5520 ubermenu-item-auto ubermenu-item-header ubermenu-item-level-2 ubermenu-column ubermenu-column-auto\" ><a class=\"ubermenu-target ubermenu-item-layout-default ubermenu-item-layout-text_only\" href=\"http://atriptoistanbul.com/where-to-go/places-istanbul/sureyya-opera-house/\"><span class=\"ubermenu-target-title ubermenu-target-text\">Sureyya Opera House</span></a></li><li id=\"menu-item-5521\" class=\"ubermenu-item ubermenu-item-type-post_type ubermenu-item-object-page ubermenu-item-5521 ubermenu-item-auto ubermenu-item-header ubermenu-item-level-2 ubermenu-column ubermenu-column-auto\" ><a class=\"ubermenu-target ubermenu-item-layout-default ubermenu-item-layout-text_only\" href=\"http://atriptoistanbul.com/where-to-go/places-istanbul/taksim-square/\"><span class=\"ubermenu-target-title ubermenu-target-text\">Taksim Square</span></a></li></ul></li><li id=\"menu-item-5523\" class=\"ubermenu-item ubermenu-item-type-post_type ubermenu-item-object-page ubermenu-item-has-children ubermenu-item-5523 ubermenu-item-auto ubermenu-item-header ubermenu-item-level-1 ubermenu-column ubermenu-column-auto ubermenu-has-submenu-stack\" ><a class=\"ubermenu-target ubermenu-target-with-image ubermenu-item-layout-image_above ubermenu-noindicator\" href=\"http://atriptoistanbul.com/where-to-go/palaces/\"><img class=\"ubermenu-image ubermenu-image-size-thumbnail\" src=\"http://atriptoistanbul.com/wp-content/uploads/2017/12/palaces2_380x300-1-150x150.jpg\" srcset=\"http://atriptoistanbul.com/wp-content/uploads/2017/12/palaces2_380x300-1-150x150.jpg 150w, http://atriptoistanbul.com/wp-content/uploads/2017/12/palaces2_380x300-1-300x300.jpg 300w\" sizes=\"(max-width: 150px) 100vw, 150px\" width=\"150\" height=\"150\" alt=\"palaces2_380x300\"  /><span class=\"ubermenu-target-title ubermenu-target-text\">Palaces</span></a><ul  class=\"ubermenu-submenu ubermenu-submenu-id-5523 ubermenu-submenu-type-stack\"  ><li id=\"menu-item-5479\" class=\"ubermenu-item ubermenu-item-type-post_type ubermenu-item-object-page ubermenu-item-5479 ubermenu-item-auto ubermenu-item-normal ubermenu-item-level-2 ubermenu-column ubermenu-column-auto\" ><a class=\"ubermenu-target ubermenu-item-layout-default ubermenu-item-layout-text_only\" href=\"http://atriptoistanbul.com/where-to-go/palaces/aynalikavak-palace/\"><span class=\"ubermenu-target-title ubermenu-target-text\">Aynalikavak Palace</span></a></li><li id=\"menu-item-5480\" class=\"ubermenu-item ubermenu-item-type-post_type ubermenu-item-object-page ubermenu-item-5480 ubermenu-item-auto ubermenu-item-normal ubermenu-item-level-2 ubermenu-column ubermenu-column-auto\" ><a class=\"ubermenu-target ubermenu-item-layout-default ubermenu-item-layout-text_only\" href=\"http://atriptoistanbul.com/where-to-go/palaces/beylerbeyi-palace/\"><span class=\"ubermenu-target-title ubermenu-target-text\">Beylerbeyi Palace</span></a></li><li id=\"menu-item-5481\" class=\"ubermenu-item ubermenu-item-type-post_type ubermenu-item-object-page ubermenu-item-5481 ubermenu-item-auto ubermenu-item-normal ubermenu-item-level-2 ubermenu-column ubermenu-column-auto\" ><a class=\"ubermenu-target ubermenu-item-layout-default ubermenu-item-layout-text_only\" href=\"http://atriptoistanbul.com/where-to-go/palaces/dolmabahce-palace/\"><span class=\"ubermenu-target-title ubermenu-target-text\">Dolmabahçe Palace</span></a></li><li id=\"menu-item-5482\" class=\"ubermenu-item ubermenu-item-type-post_type ubermenu-item-object-page ubermenu-item-5482 ubermenu-item-auto ubermenu-item-normal ubermenu-item-level-2 ubermenu-column ubermenu-column-auto\" ><a class=\"ubermenu-target ubermenu-item-layout-default ubermenu-item-layout-text_only\" href=\"http://atriptoistanbul.com/where-to-go/palaces/khedive-palace/\"><span class=\"ubermenu-target-title ubermenu-target-text\">Khedive Palace</span></a></li><li id=\"menu-item-5483\" class=\"ubermenu-item ubermenu-item-type-post_type ubermenu-item-object-page ubermenu-item-5483 ubermenu-item-auto ubermenu-item-normal ubermenu-item-level-2 ubermenu-column ubermenu-column-auto\" ><a class=\"ubermenu-target ubermenu-item-layout-default ubermenu-item-layout-text_only\" href=\"http://atriptoistanbul.com/where-to-go/palaces/kucuksu-palace/\"><span class=\"ubermenu-target-title ubermenu-target-text\">Küçüksu Palace</span></a></li><li id=\"menu-item-5524\" class=\"ubermenu-item ubermenu-item-type-post_type ubermenu-item-object-page ubermenu-item-5524 ubermenu-item-auto ubermenu-item-normal ubermenu-item-level-2 ubermenu-column ubermenu-column-auto\" ><a class=\"ubermenu-target ubermenu-item-layout-default ubermenu-item-layout-text_only\" href=\"http://atriptoistanbul.com/where-to-go/palaces/topkapi-palace/\"><span class=\"ubermenu-target-title ubermenu-target-text\">Topkapi Palace</span></a></li><li id=\"menu-item-5525\" class=\"ubermenu-item ubermenu-item-type-post_type ubermenu-item-object-page ubermenu-item-5525 ubermenu-item-auto ubermenu-item-normal ubermenu-item-level-2 ubermenu-column ubermenu-column-auto\" ><a class=\"ubermenu-target ubermenu-item-layout-default ubermenu-item-layout-text_only\" href=\"http://atriptoistanbul.com/where-to-go/palaces/yildiz-palace-chalet/\"><span class=\"ubermenu-target-title ubermenu-target-text\">Yildiz Palace &#038; Chalet</span></a></li></ul></li><li id=\"menu-item-5526\" class=\"ubermenu-item ubermenu-item-type-post_type ubermenu-item-object-page ubermenu-item-has-children ubermenu-item-5526 ubermenu-item-auto ubermenu-item-header ubermenu-item-level-1 ubermenu-column ubermenu-column-auto ubermenu-has-submenu-stack\" ><a class=\"ubermenu-target ubermenu-target-with-image ubermenu-item-layout-image_above ubermenu-noindicator\" href=\"http://atriptoistanbul.com/where-to-go/parks/\"><img class=\"ubermenu-image ubermenu-image-size-thumbnail\" src=\"http://atriptoistanbul.com/wp-content/uploads/2017/12/parks1_380x300-1-150x150.jpg\" srcset=\"http://atriptoistanbul.com/wp-content/uploads/2017/12/parks1_380x300-1-150x150.jpg 150w, http://atriptoistanbul.com/wp-content/uploads/2017/12/parks1_380x300-1-300x300.jpg 300w\" sizes=\"(max-width: 150px) 100vw, 150px\" width=\"150\" height=\"150\" alt=\"parks1_380x300\"  /><span class=\"ubermenu-target-title ubermenu-target-text\">Parks</span></a><ul  class=\"ubermenu-submenu ubermenu-submenu-id-5526 ubermenu-submenu-type-stack\"  ><li id=\"menu-item-5496\" class=\"ubermenu-item ubermenu-item-type-post_type ubermenu-item-object-page ubermenu-item-5496 ubermenu-item-auto ubermenu-item-normal ubermenu-item-level-2 ubermenu-column ubermenu-column-auto\" ><a class=\"ubermenu-target ubermenu-item-layout-default ubermenu-item-layout-text_only\" href=\"http://atriptoistanbul.com/where-to-go/parks/emirgan-park/\"><span class=\"ubermenu-target-title ubermenu-target-text\">Emirgan Park</span></a></li><li id=\"menu-item-5497\" class=\"ubermenu-item ubermenu-item-type-post_type ubermenu-item-object-page ubermenu-item-5497 ubermenu-item-auto ubermenu-item-normal ubermenu-item-level-2 ubermenu-column ubermenu-column-auto\" ><a class=\"ubermenu-target ubermenu-item-layout-default ubermenu-item-layout-text_only\" href=\"http://atriptoistanbul.com/where-to-go/parks/gulhane-park/\"><span class=\"ubermenu-target-title ubermenu-target-text\">Gulhane Park</span></a></li><li id=\"menu-item-5477\" class=\"ubermenu-item ubermenu-item-type-post_type ubermenu-item-object-page ubermenu-item-5477 ubermenu-item-auto ubermenu-item-normal ubermenu-item-level-2 ubermenu-column ubermenu-column-auto\" ><a class=\"ubermenu-target ubermenu-item-layout-default ubermenu-item-layout-text_only\" href=\"http://atriptoistanbul.com/where-to-go/shopping/kanyon-mall/\"><span class=\"ubermenu-target-title ubermenu-target-text\">Kanyon Mall</span></a></li><li id=\"menu-item-5527\" class=\"ubermenu-item ubermenu-item-type-post_type ubermenu-item-object-page ubermenu-item-5527 ubermenu-item-auto ubermenu-item-normal ubermenu-item-level-2 ubermenu-column ubermenu-column-auto\" ><a class=\"ubermenu-target ubermenu-item-layout-default ubermenu-item-layout-text_only\" href=\"http://atriptoistanbul.com/where-to-go/parks/miniaturk/\"><span class=\"ubermenu-target-title ubermenu-target-text\">Miniaturk</span></a></li></ul></li><li id=\"menu-item-5494\" class=\"ubermenu-item ubermenu-item-type-post_type ubermenu-item-object-page ubermenu-item-has-children ubermenu-item-5494 ubermenu-item-auto ubermenu-item-header ubermenu-item-level-1 ubermenu-column ubermenu-column-auto ubermenu-has-submenu-stack\" ><a class=\"ubermenu-target ubermenu-target-with-image ubermenu-item-layout-image_above ubermenu-noindicator\" href=\"http://atriptoistanbul.com/where-to-go/churches/\"><img class=\"ubermenu-image ubermenu-image-size-thumbnail\" src=\"http://atriptoistanbul.com/wp-content/uploads/2017/12/churches1_380x300-1-150x150.jpg\" srcset=\"http://atriptoistanbul.com/wp-content/uploads/2017/12/churches1_380x300-1-150x150.jpg 150w, http://atriptoistanbul.com/wp-content/uploads/2017/12/churches1_380x300-1-300x300.jpg 300w\" sizes=\"(max-width: 150px) 100vw, 150px\" width=\"150\" height=\"150\" alt=\"churches1_380x300\"  /><span class=\"ubermenu-target-title ubermenu-target-text\">Churches</span></a><ul  class=\"ubermenu-submenu ubermenu-submenu-id-5494 ubermenu-submenu-type-stack\"  ><li id=\"menu-item-5495\" class=\"ubermenu-item ubermenu-item-type-post_type ubermenu-item-object-page ubermenu-item-5495 ubermenu-item-auto ubermenu-item-normal ubermenu-item-level-2 ubermenu-column ubermenu-column-auto\" ><a class=\"ubermenu-target ubermenu-item-layout-default ubermenu-item-layout-text_only\" href=\"http://atriptoistanbul.com/where-to-go/churches/church-of-st-anthony-of-padua/\"><span class=\"ubermenu-target-title ubermenu-target-text\">Church of St Anthony of Padua</span></a></li><li id=\"menu-item-5535\" class=\"ubermenu-item ubermenu-item-type-post_type ubermenu-item-object-page ubermenu-item-5535 ubermenu-item-auto ubermenu-item-normal ubermenu-item-level-2 ubermenu-column ubermenu-column-auto\" ><a class=\"ubermenu-target ubermenu-item-layout-default ubermenu-item-layout-text_only\" href=\"http://atriptoistanbul.com/where-to-go/churches/st-esprit-cathedral/\"><span class=\"ubermenu-target-title ubermenu-target-text\">St. Esprit Cathedral</span></a></li><li id=\"menu-item-5536\" class=\"ubermenu-item ubermenu-item-type-post_type ubermenu-item-object-page ubermenu-item-5536 ubermenu-item-auto ubermenu-item-normal ubermenu-item-level-2 ubermenu-column ubermenu-column-auto\" ><a class=\"ubermenu-target ubermenu-item-layout-default ubermenu-item-layout-text_only\" href=\"http://atriptoistanbul.com/where-to-go/churches/st-georges-cathedral/\"><span class=\"ubermenu-target-title ubermenu-target-text\">St. George&#8217;s Cathedral</span></a></li><li id=\"menu-item-5537\" class=\"ubermenu-item ubermenu-item-type-post_type ubermenu-item-object-page ubermenu-item-5537 ubermenu-item-auto ubermenu-item-normal ubermenu-item-level-2 ubermenu-column ubermenu-column-auto\" ><a class=\"ubermenu-target ubermenu-item-layout-default ubermenu-item-layout-text_only\" href=\"http://atriptoistanbul.com/where-to-go/churches/bulgarian-st-stephen-church/\"><span class=\"ubermenu-target-title ubermenu-target-text\">The Bulgarian St. Stephen Church</span></a></li></ul></li><li id=\"menu-item-5534\" class=\"ubermenu-item ubermenu-item-type-post_type ubermenu-item-object-page ubermenu-item-has-children ubermenu-item-5534 ubermenu-item-auto ubermenu-item-header ubermenu-item-level-1 ubermenu-column ubermenu-column-auto ubermenu-has-submenu-stack\" ><a class=\"ubermenu-target ubermenu-target-with-image ubermenu-item-layout-image_above ubermenu-noindicator\" href=\"http://atriptoistanbul.com/where-to-go/bosphorus/\"><img class=\"ubermenu-image ubermenu-image-size-thumbnail\" src=\"http://atriptoistanbul.com/wp-content/uploads/2017/12/the-bosphorus_300x380-1-150x150.jpg\" srcset=\"http://atriptoistanbul.com/wp-content/uploads/2017/12/the-bosphorus_300x380-1-150x150.jpg 150w, http://atriptoistanbul.com/wp-content/uploads/2017/12/the-bosphorus_300x380-1-300x300.jpg 300w\" sizes=\"(max-width: 150px) 100vw, 150px\" width=\"150\" height=\"150\" alt=\"the-bosphorus_300x380\"  /><span class=\"ubermenu-target-title ubermenu-target-text\">The Bosphorus</span></a><ul  class=\"ubermenu-submenu ubermenu-submenu-id-5534 ubermenu-submenu-type-stack\"  ><li id=\"menu-item-5491\" class=\"ubermenu-item ubermenu-item-type-post_type ubermenu-item-object-page ubermenu-item-5491 ubermenu-item-auto ubermenu-item-normal ubermenu-item-level-2 ubermenu-column ubermenu-column-auto\" ><a class=\"ubermenu-target ubermenu-item-layout-default ubermenu-item-layout-text_only\" href=\"http://atriptoistanbul.com/where-to-go/bosphorus/bosphorus-bridge/\"><span class=\"ubermenu-target-title ubermenu-target-text\">Bosphorus Bridge</span></a></li><li id=\"menu-item-5492\" class=\"ubermenu-item ubermenu-item-type-post_type ubermenu-item-object-page ubermenu-item-5492 ubermenu-item-auto ubermenu-item-normal ubermenu-item-level-2 ubermenu-column ubermenu-column-auto\" ><a class=\"ubermenu-target ubermenu-item-layout-default ubermenu-item-layout-text_only\" href=\"http://atriptoistanbul.com/where-to-go/bosphorus/fatih-sultan-mehmet-bridge/\"><span class=\"ubermenu-target-title ubermenu-target-text\">Fatih Sultan Mehmet Bridge</span></a></li></ul></li></ul></li></ul></nav>\"\"\"\n",
        "a=list(a)\n",
        "\n",
        "\n",
        "for i in range(a.count(\"<\")):\n",
        "  index1=a.index(\"<\")\n",
        "  index2=a.index(\">\")\n",
        "  index1\n",
        "  index2\n",
        "  del a[index1:index2+1]\n",
        "  a.insert(index1,\"\\n\")\n",
        "a=\"\".join(a)\n",
        "print(a.replace(\"\\n\\n\\n\", \"\\n\"))\n",
        "\n"
      ],
      "execution_count": 0,
      "outputs": [
        {
          "output_type": "stream",
          "text": [
            "\n",
            "Menu\n",
            "\n",
            "Where To Go?\n",
            "\n",
            "\n",
            "Shopping\n",
            "\n",
            "Arasta Bazaar\n",
            "\n",
            "Bagdat Street\n",
            "\n",
            "Cevahir Mall\n",
            "\n",
            "City’s Nisantasi\n",
            "\n",
            "Grand Bazaar\n",
            "\n",
            "Optimum Outlet\n",
            "\n",
            "Istanbul Sapphire\n",
            "\n",
            "Istiklal Street\n",
            "\n",
            "Istinye Park Mall\n",
            "\n",
            "Marmara Forum Alisveris Merkezi\n",
            "\n",
            "Palladium Shopping Center\n",
            "\n",
            "Spice Bazaar\n",
            "\n",
            "Trump Towers\n",
            "\n",
            "Via Port Mall\n",
            "\n",
            "Zorlu Center\n",
            "\n",
            "\n",
            "Castles and Towers\n",
            "\n",
            "Anatolian Castle\n",
            "\n",
            "Galata Tower\n",
            "\n",
            "Kuleli Military High School\n",
            "\n",
            "Maiden&#8217;s Tower\n",
            "\n",
            "The Rumelian Castle\n",
            "\n",
            "Walls of Constantinople\n",
            "\n",
            "Yedikule Fortress\n",
            "\n",
            "Yoros Castle\n",
            "\n",
            "\n",
            "Mosques\n",
            "\n",
            "Arap Mosque\n",
            "\n",
            "Bayezid Mosque\n",
            "\n",
            "Blue Mosque\n",
            "\n",
            "Eyup Sultan Mosque\n",
            "\n",
            "Fatih Mosque\n",
            "\n",
            "Laleli Mosque\n",
            "\n",
            "Mihrimah Sultan Mosque\n",
            "\n",
            "New Mosque\n",
            "\n",
            "Ortakoy Mosque\n",
            "\n",
            "Rustem Pasha Mosque\n",
            "\n",
            "Sokollu Mehmet Pasha Mosque\n",
            "\n",
            "Mosque of Sehzade\n",
            "\n",
            "Suleymaniye Mosque\n",
            "\n",
            "Yildiz Hamidiye Mosque\n",
            "\n",
            "Zeyrek Mosque\n",
            "\n",
            "\n",
            "Museums\n",
            "\n",
            "Basilica Cistern\n",
            "\n",
            "The Chora Church\n",
            "\n",
            "Galata Mevlevi Lodge\n",
            "\n",
            "Hagia Irene\n",
            "\n",
            "Hagia Sophia\n",
            "\n",
            "Istanbul Archaeology Museum\n",
            "\n",
            "Istanbul Museum of Modern Art\n",
            "\n",
            "Istanbul Photography Museum\n",
            "\n",
            "Military Museum\n",
            "\n",
            "Mosaic Museum\n",
            "\n",
            "Museum of Innocence\n",
            "\n",
            "Panorama 1453\n",
            "\n",
            "Pera Museum\n",
            "\n",
            "Rahmi M Koc Museum\n",
            "\n",
            "Sadberk Hanim Museum\n",
            "\n",
            "Sakip Sabanci Museum\n",
            "\n",
            "The Turkish and Islamic Arts Museum\n",
            "\n",
            "\n",
            "Other Places\n",
            "\n",
            "Galata Bridge\n",
            "\n",
            "Golden Horn\n",
            "\n",
            "Haydarpaşa Terminal\n",
            "\n",
            "The Hippodrome\n",
            "\n",
            "Istanbul Dolphinarium\n",
            "\n",
            "Sureyya Opera House\n",
            "\n",
            "Taksim Square\n",
            "\n",
            "\n",
            "Palaces\n",
            "\n",
            "Aynalikavak Palace\n",
            "\n",
            "Beylerbeyi Palace\n",
            "\n",
            "Dolmabahçe Palace\n",
            "\n",
            "Khedive Palace\n",
            "\n",
            "Küçüksu Palace\n",
            "\n",
            "Topkapi Palace\n",
            "\n",
            "Yildiz Palace &#038; Chalet\n",
            "\n",
            "\n",
            "Parks\n",
            "\n",
            "Emirgan Park\n",
            "\n",
            "Gulhane Park\n",
            "\n",
            "Kanyon Mall\n",
            "\n",
            "Miniaturk\n",
            "\n",
            "\n",
            "Churches\n",
            "\n",
            "Church of St Anthony of Padua\n",
            "\n",
            "St. Esprit Cathedral\n",
            "\n",
            "St. George&#8217;s Cathedral\n",
            "\n",
            "The Bulgarian St. Stephen Church\n",
            "\n",
            "\n",
            "The Bosphorus\n",
            "\n",
            "Bosphorus Bridge\n",
            "\n",
            "Fatih Sultan Mehmet Bridge\n",
            "\n",
            "\n",
            "\n"
          ],
          "name": "stdout"
        }
      ]
    },
    {
      "metadata": {
        "id": "_xc0qfbrJ6Ig",
        "colab_type": "code",
        "outputId": "529de47f-0f62-4521-e45e-ed82fc9bf6a2",
        "colab": {
          "base_uri": "https://localhost:8080/",
          "height": 35
        }
      },
      "cell_type": "code",
      "source": [
        "a=[\n",
        "  [ 5, 1, 9,11],\n",
        "  [ 2, 4, 8,10],\n",
        "  [13, 3, 6, 7],\n",
        "  [15,14,12,16]\n",
        "]\n",
        "\n",
        "b=len(a)\n",
        "d=[]\n",
        "for i in range(b):\n",
        "  c=[]\n",
        "  for j in range(b):\n",
        "    c.insert(0,a[j][i])\n",
        "  \n",
        "  d.append(c)\n",
        "print(d)"
      ],
      "execution_count": 0,
      "outputs": [
        {
          "output_type": "stream",
          "text": [
            "[[15, 13, 2, 5], [14, 3, 4, 1], [12, 6, 8, 9], [16, 7, 10, 11]]\n"
          ],
          "name": "stdout"
        }
      ]
    },
    {
      "metadata": {
        "id": "tbwQcOUcW-Yp",
        "colab_type": "code",
        "outputId": "a261a608-0ca8-4123-ef90-d1ee4bee7a8d",
        "colab": {
          "base_uri": "https://localhost:8080/",
          "height": 35
        }
      },
      "cell_type": "code",
      "source": [
        "pip install package_name.tar.gz #installs module (doesn't require connection)\n",
        "\n",
        "cd extracted_package_directory #alternative method to install package\n",
        "python setup.py install"
      ],
      "execution_count": 0,
      "outputs": [
        {
          "output_type": "stream",
          "text": [
            "1235\n"
          ],
          "name": "stdout"
        }
      ]
    },
    {
      "metadata": {
        "id": "ry46RkREZoKA",
        "colab_type": "code",
        "outputId": "0afaa632-e044-4b9c-a6d0-3a5a08bc3976",
        "colab": {
          "base_uri": "https://localhost:8080/",
          "height": 35
        }
      },
      "cell_type": "code",
      "source": [
        "import os                   #create directory if not exists\n",
        "directory = '/home/kenny/gist'\n",
        "\n",
        "if not os.path.exists(directory):\n",
        "os.makedirs(directory)"
      ],
      "execution_count": 0,
      "outputs": [
        {
          "output_type": "stream",
          "text": [
            "1\n"
          ],
          "name": "stdout"
        }
      ]
    },
    {
      "metadata": {
        "id": "XZl9cUHTt3eG",
        "colab_type": "code",
        "outputId": "3ff722f3-87b2-4326-f0a0-91aae0142eec",
        "colab": {
          "base_uri": "https://localhost:8080/",
          "height": 35
        }
      },
      "cell_type": "code",
      "source": [
        "big = x if x < y else y   #ternery operator\n",
        "count sum(1 for line in fh for character in line if character.isupper())   #One liner uppercase character counter in fh file\n",
        "\n",
        "from random import shuffle    #randomize list elements\n",
        "x = ['Keep', 'The', 'Blue', 'Flag', 'Flying', 'High']\n",
        "shuffle(x)\n",
        "print(x)"
      ],
      "execution_count": 0,
      "outputs": [
        {
          "output_type": "stream",
          "text": [
            "1\n"
          ],
          "name": "stdout"
        }
      ]
    },
    {
      "metadata": {
        "id": "-kTHCvqjB-aJ",
        "colab_type": "code",
        "outputId": "17e0e74d-55f5-4a2f-cf2a-e2c8273cedc9",
        "colab": {
          "base_uri": "https://localhost:8080/",
          "height": 35
        }
      },
      "cell_type": "code",
      "source": [
        "a=range(3,10)\n",
        "b=range(1,8)\n",
        "list(zip(a,b)) #creates a list of tuples\n",
        "dict(zip(a,b)) #creates a dict"
      ],
      "execution_count": 0,
      "outputs": [
        {
          "output_type": "execute_result",
          "data": {
            "text/plain": [
              "{3: 1, 4: 2, 5: 3, 6: 4, 7: 5, 8: 6, 9: 7}"
            ]
          },
          "metadata": {
            "tags": []
          },
          "execution_count": 1
        }
      ]
    },
    {
      "metadata": {
        "id": "BLQNGzj291XR",
        "colab_type": "code",
        "outputId": "f58dc122-c0a4-4856-8a62-870616ee8ee3",
        "colab": {
          "base_uri": "https://localhost:8080/",
          "height": 127
        }
      },
      "cell_type": "code",
      "source": [
        "sort(): Time complexity O(n logn) Space O(n)"
      ],
      "execution_count": 0,
      "outputs": [
        {
          "output_type": "stream",
          "text": [
            "Enter song duration10\n",
            "Enter song duration10\n",
            "Enter song duration10\n",
            "Enter song duration10\n",
            "Enter song duration435\n",
            "7 55\n"
          ],
          "name": "stdout"
        }
      ]
    },
    {
      "metadata": {
        "id": "RjrGxsk0wY0-",
        "colab_type": "code",
        "outputId": "ede798d2-ece4-4d71-d6cb-aecc70f91cad",
        "colab": {
          "base_uri": "https://localhost:8080/",
          "height": 35
        }
      },
      "cell_type": "code",
      "source": [
        "return \"YES\" if any(i in s2 for i in s1) else \"NO\""
      ],
      "execution_count": 0,
      "outputs": [
        {
          "output_type": "execute_result",
          "data": {
            "text/plain": [
              "['at', 'dawn']"
            ]
          },
          "metadata": {
            "tags": []
          },
          "execution_count": 6
        }
      ]
    },
    {
      "metadata": {
        "id": "TWVRNud_KfMC",
        "colab_type": "code",
        "outputId": "3625ac38-7f1b-45e0-80a4-4d49f192e60b",
        "colab": {
          "base_uri": "https://localhost:8080/",
          "height": 54
        }
      },
      "cell_type": "code",
      "source": [
        "a=[1,1,2,2,2,2,3,4,5,5]\n",
        "\n",
        "i = w = 0\n",
        "n = len(a)\n",
        "while i < n:\n",
        "    while i and i < n and a[i] == a[i-1]:\n",
        "        i += 1\n",
        "    if i == n:\n",
        "        break\n",
        "    a[w] = a[i]\n",
        "    i += 1\n",
        "    w += 1\n",
        "print (w)\n",
        "print(a)\n"
      ],
      "execution_count": 0,
      "outputs": [
        {
          "output_type": "stream",
          "text": [
            "5\n",
            "[1, 2, 3, 4, 5, 2, 3, 4, 5, 5]\n"
          ],
          "name": "stdout"
        }
      ]
    },
    {
      "metadata": {
        "id": "1EBGOwk6_xer",
        "colab_type": "code",
        "outputId": "11dc1f79-073e-435b-9915-1ab8307b1c1c",
        "colab": {
          "base_uri": "https://localhost:8080/",
          "height": 35
        }
      },
      "cell_type": "code",
      "source": [
        "file=()\n",
        "type(file)\n",
        "file = (\"one\",1)\n",
        "file = (file,) + ((\"two\",2),)\n",
        "file"
      ],
      "execution_count": 0,
      "outputs": [
        {
          "output_type": "execute_result",
          "data": {
            "text/plain": [
              "(('one', 1), ('two', 2))"
            ]
          },
          "metadata": {
            "tags": []
          },
          "execution_count": 15
        }
      ]
    },
    {
      "metadata": {
        "id": "1GW5Py6Mo4Fe",
        "colab_type": "code",
        "outputId": "5c9c8925-0494-4aa8-884e-c59c2defb9d2",
        "colab": {
          "base_uri": "https://localhost:8080/",
          "height": 172
        }
      },
      "cell_type": "code",
      "source": [
        "import re\n",
        "\n",
        "pattern = r'^.*Model number.*'\n",
        "\n",
        "\n",
        "\n",
        "\n",
        "\n",
        "\n",
        "pattern_usage = r'^.*Percent Used.*'\n",
        "pattern_percent = r'(\\d+)'\n",
        "\n",
        "a = \"\"\"*A:FFMCOS100-1# show card \"a\" detail | match expression \"Model|Percent\"\n",
        "    Model number                  : SMART CF\n",
        "    Percent Used                  : 30 %\n",
        "    Model number                  : STI Flash 8.0.0\n",
        "    Percent Used                  : 0 %\n",
        "    Model number                  : SMART CF\n",
        "    Percent Used                  : 93 %\n",
        "*A:FFMCOS100-1#\n",
        "\"\"\"\n",
        "\n",
        "\n",
        "m = re.findall(r'^.*Model number.*', a, re.MULTILINE)\n",
        "print(m)\n",
        "\n",
        "n = re.findall(r'^.*Percent Used.*', a, re.MULTILINE)\n",
        "print(n)\n",
        "for i in n:\n",
        "  percent = re.match(r'(.*) ([0-9]+) (.*)', i)\n",
        "  if 80 > int(percent.group(2)) or len(m) != 3:\n",
        "    return 0\n",
        "  elif 80 < int(percent.group(2)) and len(m) == 3:\n",
        "    return 1\n",
        "\n",
        "\n"
      ],
      "execution_count": 0,
      "outputs": [
        {
          "output_type": "stream",
          "text": [
            "['    Model number                  : SMART CF', '    Model number                  : STI Flash 8.0.0', '    Model number                  : SMART CF']\n",
            "['    Percent Used                  : 30 %', '    Percent Used                  : 0 %', '    Percent Used                  : 93 %']\n"
          ],
          "name": "stdout"
        },
        {
          "output_type": "error",
          "ename": "SyntaxError",
          "evalue": "ignored",
          "traceback": [
            "\u001b[0;36m  File \u001b[0;32m\"<ipython-input-21-8c3823e7af46>\"\u001b[0;36m, line \u001b[0;32m32\u001b[0m\n\u001b[0;31m    return 0\u001b[0m\n\u001b[0m    ^\u001b[0m\n\u001b[0;31mSyntaxError\u001b[0m\u001b[0;31m:\u001b[0m 'return' outside function\n"
          ]
        }
      ]
    },
    {
      "metadata": {
        "id": "bnYuSCPW0FkL",
        "colab_type": "code",
        "outputId": "f076a78b-430a-4c3c-cc29-6bb7a56bde2f",
        "colab": {
          "base_uri": "https://localhost:8080/",
          "height": 90
        }
      },
      "cell_type": "code",
      "source": [
        "import re\n",
        "  \n",
        "percent = 80\n",
        "\n",
        "def Get_Flash_and_Usage(output, percentage):\n",
        "  m = re.findall(r'^.*Model number.*', output, re.MULTILINE)\n",
        "  n = re.findall(r'^.*Percent Used.*', output, re.MULTILINE)\n",
        "  for i in n:\n",
        "    percent = re.match(r'(.*) ([0-9]+) (.*)', i)\n",
        "    print(\"percent: \" + percent.group(2))\n",
        "    if percentage <= int(percent.group(2)):\n",
        "      #raise Exception(\"One or more cards are more than 90% full\")\n",
        "      print(\"One or more cards are more than 90% full\")\n",
        "      return\n",
        "    elif len(m) != 3:\n",
        "      #raise Exception(\"There are less than 3 cards\")\n",
        "      print(\"There are less than 3 cards\")\n",
        "      return\n",
        "    elif percentage > int(percent.group(2)) and len(m) == 3:\n",
        "      pass\n",
        "  print(\"Passed\")\n",
        "  return\n",
        "\n",
        "  \n",
        "output = \"\"\"    Model number                  : SMART CF\n",
        "    Percent Used                  : 30 %\n",
        "    Model number                  : STI Flash 8.0.0\n",
        "    Percent Used                  : 0 %\n",
        "    Model number                  : SMART CF\n",
        "    Percent Used                  : 85 %\n",
        "\"\"\"\n",
        "\n",
        "Get_Flash_and_Usage(output, percent)"
      ],
      "execution_count": 0,
      "outputs": [
        {
          "output_type": "stream",
          "text": [
            "percent: 30\n",
            "percent: 0\n",
            "percent: 85\n",
            "One or more cards are more than 90% full\n"
          ],
          "name": "stdout"
        }
      ]
    }
  ]
}